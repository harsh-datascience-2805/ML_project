{
 "cells": [
  {
   "cell_type": "markdown",
   "id": "bd4f4d04",
   "metadata": {},
   "source": [
    "# Loading libraries"
   ]
  },
  {
   "cell_type": "code",
   "execution_count": 15,
   "id": "b855ae34",
   "metadata": {},
   "outputs": [],
   "source": [
    "# Loading the libraries\n",
    "\n",
    "import matplotlib.pyplot as plt\n",
    "import numpy as np\n",
    "from datetime import datetime\n",
    "import seaborn as sns\n",
    "import pandas as pd\n",
    "import psycopg2 as psg\n",
    "import geopandas as gpd"
   ]
  },
  {
   "cell_type": "code",
   "execution_count": null,
   "id": "f482264b",
   "metadata": {},
   "outputs": [],
   "source": []
  },
  {
   "cell_type": "code",
   "execution_count": null,
   "id": "750052cc",
   "metadata": {},
   "outputs": [],
   "source": []
  },
  {
   "cell_type": "code",
   "execution_count": null,
   "id": "fe3f2252",
   "metadata": {},
   "outputs": [],
   "source": []
  },
  {
   "cell_type": "markdown",
   "id": "bfab15d2",
   "metadata": {},
   "source": [
    "# Data formation"
   ]
  },
  {
   "cell_type": "code",
   "execution_count": 16,
   "id": "cda8fa25",
   "metadata": {},
   "outputs": [
    {
     "data": {
      "text/html": [
       "<div>\n",
       "<style scoped>\n",
       "    .dataframe tbody tr th:only-of-type {\n",
       "        vertical-align: middle;\n",
       "    }\n",
       "\n",
       "    .dataframe tbody tr th {\n",
       "        vertical-align: top;\n",
       "    }\n",
       "\n",
       "    .dataframe thead th {\n",
       "        text-align: right;\n",
       "    }\n",
       "</style>\n",
       "<table border=\"1\" class=\"dataframe\">\n",
       "  <thead>\n",
       "    <tr style=\"text-align: right;\">\n",
       "      <th></th>\n",
       "      <th>ID</th>\n",
       "      <th>Case Number</th>\n",
       "      <th>Date</th>\n",
       "      <th>Block</th>\n",
       "      <th>IUCR</th>\n",
       "      <th>Primary Type</th>\n",
       "      <th>Description</th>\n",
       "      <th>Location Description</th>\n",
       "      <th>Arrest</th>\n",
       "      <th>Domestic</th>\n",
       "      <th>...</th>\n",
       "      <th>Longitude</th>\n",
       "      <th>Location</th>\n",
       "      <th>Historical Wards 2003-2015</th>\n",
       "      <th>Zip Codes</th>\n",
       "      <th>Community Areas</th>\n",
       "      <th>Census Tracts</th>\n",
       "      <th>Wards</th>\n",
       "      <th>Boundaries - ZIP Codes</th>\n",
       "      <th>Police Districts</th>\n",
       "      <th>Police Beats</th>\n",
       "    </tr>\n",
       "  </thead>\n",
       "  <tbody>\n",
       "    <tr>\n",
       "      <th>0</th>\n",
       "      <td>10460641</td>\n",
       "      <td>HZ199559</td>\n",
       "      <td>12/31/2015 11:59:00 PM</td>\n",
       "      <td>015XX N KEDZIE AVE</td>\n",
       "      <td>0890</td>\n",
       "      <td>THEFT</td>\n",
       "      <td>FROM BUILDING</td>\n",
       "      <td>RESIDENCE PORCH/HALLWAY</td>\n",
       "      <td>False</td>\n",
       "      <td>False</td>\n",
       "      <td>...</td>\n",
       "      <td>NaN</td>\n",
       "      <td>NaN</td>\n",
       "      <td>NaN</td>\n",
       "      <td>NaN</td>\n",
       "      <td>NaN</td>\n",
       "      <td>NaN</td>\n",
       "      <td>NaN</td>\n",
       "      <td>NaN</td>\n",
       "      <td>NaN</td>\n",
       "      <td>NaN</td>\n",
       "    </tr>\n",
       "    <tr>\n",
       "      <th>1</th>\n",
       "      <td>10365064</td>\n",
       "      <td>HZ100370</td>\n",
       "      <td>12/31/2015 11:59:00 PM</td>\n",
       "      <td>075XX S EMERALD AVE</td>\n",
       "      <td>1320</td>\n",
       "      <td>CRIMINAL DAMAGE</td>\n",
       "      <td>TO VEHICLE</td>\n",
       "      <td>STREET</td>\n",
       "      <td>False</td>\n",
       "      <td>False</td>\n",
       "      <td>...</td>\n",
       "      <td>-87.642993</td>\n",
       "      <td>(41.757366519, -87.642992854)</td>\n",
       "      <td>17.0</td>\n",
       "      <td>21554.0</td>\n",
       "      <td>66.0</td>\n",
       "      <td>511.0</td>\n",
       "      <td>32.0</td>\n",
       "      <td>59.0</td>\n",
       "      <td>20.0</td>\n",
       "      <td>229.0</td>\n",
       "    </tr>\n",
       "    <tr>\n",
       "      <th>2</th>\n",
       "      <td>10364662</td>\n",
       "      <td>HZ100006</td>\n",
       "      <td>12/31/2015 11:55:00 PM</td>\n",
       "      <td>079XX S STONY ISLAND AVE</td>\n",
       "      <td>0430</td>\n",
       "      <td>BATTERY</td>\n",
       "      <td>AGGRAVATED: OTHER DANG WEAPON</td>\n",
       "      <td>STREET</td>\n",
       "      <td>False</td>\n",
       "      <td>False</td>\n",
       "      <td>...</td>\n",
       "      <td>-87.585822</td>\n",
       "      <td>(41.751270452, -87.585822373)</td>\n",
       "      <td>9.0</td>\n",
       "      <td>21202.0</td>\n",
       "      <td>41.0</td>\n",
       "      <td>431.0</td>\n",
       "      <td>35.0</td>\n",
       "      <td>25.0</td>\n",
       "      <td>19.0</td>\n",
       "      <td>224.0</td>\n",
       "    </tr>\n",
       "    <tr>\n",
       "      <th>3</th>\n",
       "      <td>10364740</td>\n",
       "      <td>HZ100010</td>\n",
       "      <td>12/31/2015 11:50:00 PM</td>\n",
       "      <td>024XX W FARGO AVE</td>\n",
       "      <td>0820</td>\n",
       "      <td>THEFT</td>\n",
       "      <td>$500 AND UNDER</td>\n",
       "      <td>APARTMENT</td>\n",
       "      <td>False</td>\n",
       "      <td>False</td>\n",
       "      <td>...</td>\n",
       "      <td>-87.690709</td>\n",
       "      <td>(42.016804165, -87.690708662)</td>\n",
       "      <td>42.0</td>\n",
       "      <td>22528.0</td>\n",
       "      <td>20.0</td>\n",
       "      <td>359.0</td>\n",
       "      <td>27.0</td>\n",
       "      <td>12.0</td>\n",
       "      <td>11.0</td>\n",
       "      <td>35.0</td>\n",
       "    </tr>\n",
       "    <tr>\n",
       "      <th>4</th>\n",
       "      <td>10364683</td>\n",
       "      <td>HZ100002</td>\n",
       "      <td>12/31/2015 11:50:00 PM</td>\n",
       "      <td>037XX N CLARK ST</td>\n",
       "      <td>0460</td>\n",
       "      <td>BATTERY</td>\n",
       "      <td>SIMPLE</td>\n",
       "      <td>SIDEWALK</td>\n",
       "      <td>True</td>\n",
       "      <td>False</td>\n",
       "      <td>...</td>\n",
       "      <td>-87.658635</td>\n",
       "      <td>(41.949837364, -87.658635101)</td>\n",
       "      <td>38.0</td>\n",
       "      <td>21186.0</td>\n",
       "      <td>57.0</td>\n",
       "      <td>691.0</td>\n",
       "      <td>25.0</td>\n",
       "      <td>53.0</td>\n",
       "      <td>5.0</td>\n",
       "      <td>12.0</td>\n",
       "    </tr>\n",
       "  </tbody>\n",
       "</table>\n",
       "<p>5 rows × 30 columns</p>\n",
       "</div>"
      ],
      "text/plain": [
       "         ID Case Number                    Date                     Block  \\\n",
       "0  10460641    HZ199559  12/31/2015 11:59:00 PM        015XX N KEDZIE AVE   \n",
       "1  10365064    HZ100370  12/31/2015 11:59:00 PM       075XX S EMERALD AVE   \n",
       "2  10364662    HZ100006  12/31/2015 11:55:00 PM  079XX S STONY ISLAND AVE   \n",
       "3  10364740    HZ100010  12/31/2015 11:50:00 PM         024XX W FARGO AVE   \n",
       "4  10364683    HZ100002  12/31/2015 11:50:00 PM          037XX N CLARK ST   \n",
       "\n",
       "   IUCR     Primary Type                    Description  \\\n",
       "0  0890            THEFT                  FROM BUILDING   \n",
       "1  1320  CRIMINAL DAMAGE                     TO VEHICLE   \n",
       "2  0430          BATTERY  AGGRAVATED: OTHER DANG WEAPON   \n",
       "3  0820            THEFT                 $500 AND UNDER   \n",
       "4  0460          BATTERY                         SIMPLE   \n",
       "\n",
       "      Location Description  Arrest  Domestic  ...  Longitude  \\\n",
       "0  RESIDENCE PORCH/HALLWAY   False     False  ...        NaN   \n",
       "1                   STREET   False     False  ... -87.642993   \n",
       "2                   STREET   False     False  ... -87.585822   \n",
       "3                APARTMENT   False     False  ... -87.690709   \n",
       "4                 SIDEWALK    True     False  ... -87.658635   \n",
       "\n",
       "                        Location  Historical Wards 2003-2015  Zip Codes  \\\n",
       "0                            NaN                         NaN        NaN   \n",
       "1  (41.757366519, -87.642992854)                        17.0    21554.0   \n",
       "2  (41.751270452, -87.585822373)                         9.0    21202.0   \n",
       "3  (42.016804165, -87.690708662)                        42.0    22528.0   \n",
       "4  (41.949837364, -87.658635101)                        38.0    21186.0   \n",
       "\n",
       "  Community Areas  Census Tracts  Wards  Boundaries - ZIP Codes  \\\n",
       "0             NaN            NaN    NaN                     NaN   \n",
       "1            66.0          511.0   32.0                    59.0   \n",
       "2            41.0          431.0   35.0                    25.0   \n",
       "3            20.0          359.0   27.0                    12.0   \n",
       "4            57.0          691.0   25.0                    53.0   \n",
       "\n",
       "  Police Districts  Police Beats  \n",
       "0              NaN           NaN  \n",
       "1             20.0         229.0  \n",
       "2             19.0         224.0  \n",
       "3             11.0          35.0  \n",
       "4              5.0          12.0  \n",
       "\n",
       "[5 rows x 30 columns]"
      ]
     },
     "execution_count": 16,
     "metadata": {},
     "output_type": "execute_result"
    }
   ],
   "source": [
    "c2015= pd.read_csv(r\"D:\\Harsh\\SIG\\SEM 2\\Mini Project ML and Python\\Criminal-Activity-Hotspots-master\\data\\crimes_2015.csv\")\n",
    "c2015.head()"
   ]
  },
  {
   "cell_type": "code",
   "execution_count": 17,
   "id": "23fcea1f",
   "metadata": {},
   "outputs": [
    {
     "name": "stdout",
     "output_type": "stream",
     "text": [
      "Finished Loading Chicago Crime Dataset File for the year 2015.\n",
      "Finished loading Chicago Crime Dataset file for the year 2016.\n"
     ]
    },
    {
     "name": "stderr",
     "output_type": "stream",
     "text": [
      "D:\\Harsh\\SIG\\SEM 2\\Mini Project ML and Python\\utils\\util_script.py:28: FutureWarning: The frame.append method is deprecated and will be removed from pandas in a future version. Use pandas.concat instead.\n",
      "  main_df = main_df.append(df_temp, ignore_index=True)\n"
     ]
    },
    {
     "name": "stdout",
     "output_type": "stream",
     "text": [
      "Finished loading Chicago Crime Dataset file for the year 2017.\n"
     ]
    },
    {
     "name": "stderr",
     "output_type": "stream",
     "text": [
      "D:\\Harsh\\SIG\\SEM 2\\Mini Project ML and Python\\utils\\util_script.py:28: FutureWarning: The frame.append method is deprecated and will be removed from pandas in a future version. Use pandas.concat instead.\n",
      "  main_df = main_df.append(df_temp, ignore_index=True)\n"
     ]
    },
    {
     "name": "stdout",
     "output_type": "stream",
     "text": [
      "Finished loading Chicago Crime Dataset file for the year 2018.\n"
     ]
    },
    {
     "name": "stderr",
     "output_type": "stream",
     "text": [
      "D:\\Harsh\\SIG\\SEM 2\\Mini Project ML and Python\\utils\\util_script.py:28: FutureWarning: The frame.append method is deprecated and will be removed from pandas in a future version. Use pandas.concat instead.\n",
      "  main_df = main_df.append(df_temp, ignore_index=True)\n"
     ]
    },
    {
     "name": "stdout",
     "output_type": "stream",
     "text": [
      "Finished loading Chicago Crime Dataset file for the year 2019.\n",
      "All data files loaded onto the Main Dataframe.\n",
      "\n",
      "\n",
      "The Number of Crimes: 1146382\n",
      "\n",
      "The Number of Columns: 22\n"
     ]
    },
    {
     "name": "stderr",
     "output_type": "stream",
     "text": [
      "D:\\Harsh\\SIG\\SEM 2\\Mini Project ML and Python\\utils\\util_script.py:28: FutureWarning: The frame.append method is deprecated and will be removed from pandas in a future version. Use pandas.concat instead.\n",
      "  main_df = main_df.append(df_temp, ignore_index=True)\n"
     ]
    }
   ],
   "source": [
    "# To get the data from all the files at one place\n",
    "import sys\n",
    "sys.path.append(r\"D:\\Harsh\\SIG\\SEM 2\\Mini Project ML and Python\\utils\")\n",
    "import util_script as us\n",
    "paths= \"D:\\\\Harsh\\\\SIG\\\\SEM 2\\\\Mini Project ML and Python\\\\Criminal-Activity-Hotspots-master\\\\data\\\\\"\n",
    "\n",
    "file_names = ['crimes_2015.csv','crimes_2016.csv','crimes_2017.csv','crimes_2018.csv','crimes_2019.csv']\n",
    "file_names = [paths+x for x in file_names]\n",
    "\n",
    "main_data = us.create_df(file_names)\n",
    "shape = main_data.shape\n",
    "print(\"The Number of Crimes: \"+ str(main_data.shape[0]))\n",
    "print(\"\\nThe Number of Columns: \"+ str(main_data.shape[1]))"
   ]
  },
  {
   "cell_type": "code",
   "execution_count": null,
   "id": "46706752",
   "metadata": {},
   "outputs": [],
   "source": []
  },
  {
   "cell_type": "code",
   "execution_count": null,
   "id": "ef210bef",
   "metadata": {},
   "outputs": [],
   "source": []
  },
  {
   "cell_type": "code",
   "execution_count": null,
   "id": "f01c0f0d",
   "metadata": {},
   "outputs": [],
   "source": []
  },
  {
   "cell_type": "markdown",
   "id": "904afeee",
   "metadata": {},
   "source": [
    "# Preprocessing"
   ]
  },
  {
   "cell_type": "code",
   "execution_count": 18,
   "id": "8d001688",
   "metadata": {},
   "outputs": [
    {
     "name": "stdout",
     "output_type": "stream",
     "text": [
      "<class 'pandas.core.frame.DataFrame'>\n",
      "RangeIndex: 1146382 entries, 0 to 1146381\n",
      "Data columns (total 22 columns):\n",
      " #   Column                Non-Null Count    Dtype  \n",
      "---  ------                --------------    -----  \n",
      " 0   ID                    1146382 non-null  int64  \n",
      " 1   Case Number           1146382 non-null  object \n",
      " 2   Date                  1146382 non-null  object \n",
      " 3   Block                 1146382 non-null  object \n",
      " 4   IUCR                  1146382 non-null  object \n",
      " 5   Primary Type          1146382 non-null  object \n",
      " 6   Description           1146382 non-null  object \n",
      " 7   Location Description  1142740 non-null  object \n",
      " 8   Arrest                1146382 non-null  bool   \n",
      " 9   Domestic              1146382 non-null  bool   \n",
      " 10  Beat                  1146382 non-null  int64  \n",
      " 11  District              1146381 non-null  float64\n",
      " 12  Ward                  1146373 non-null  float64\n",
      " 13  Community Area        1146380 non-null  float64\n",
      " 14  FBI Code              1146382 non-null  object \n",
      " 15  X Coordinate          1132399 non-null  float64\n",
      " 16  Y Coordinate          1132399 non-null  float64\n",
      " 17  Year                  1146382 non-null  int64  \n",
      " 18  Updated On            1146382 non-null  object \n",
      " 19  Latitude              1132399 non-null  float64\n",
      " 20  Longitude             1132399 non-null  float64\n",
      " 21  Location              1132399 non-null  object \n",
      "dtypes: bool(2), float64(7), int64(3), object(10)\n",
      "memory usage: 177.1+ MB\n"
     ]
    }
   ],
   "source": [
    "# Information about the main dataframe\n",
    "main_data.info()"
   ]
  },
  {
   "cell_type": "code",
   "execution_count": 19,
   "id": "8e11509d",
   "metadata": {},
   "outputs": [
    {
     "data": {
      "text/plain": [
       "ID                          0\n",
       "Case Number                 0\n",
       "Date                        0\n",
       "Block                       0\n",
       "IUCR                        0\n",
       "Primary Type                0\n",
       "Description                 0\n",
       "Location Description     3642\n",
       "Arrest                      0\n",
       "Domestic                    0\n",
       "Beat                        0\n",
       "District                    1\n",
       "Ward                        9\n",
       "Community Area              2\n",
       "FBI Code                    0\n",
       "X Coordinate            13983\n",
       "Y Coordinate            13983\n",
       "Year                        0\n",
       "Updated On                  0\n",
       "Latitude                13983\n",
       "Longitude               13983\n",
       "Location                13983\n",
       "dtype: int64"
      ]
     },
     "execution_count": 19,
     "metadata": {},
     "output_type": "execute_result"
    }
   ],
   "source": [
    "# Missing Values\n",
    "main_data.isnull().sum()"
   ]
  },
  {
   "cell_type": "code",
   "execution_count": 20,
   "id": "4f9e572d",
   "metadata": {},
   "outputs": [
    {
     "data": {
      "text/plain": [
       "ID                      0\n",
       "Case Number             0\n",
       "Date                    0\n",
       "Block                   0\n",
       "IUCR                    0\n",
       "Primary Type            0\n",
       "Description             0\n",
       "Location Description    0\n",
       "Arrest                  0\n",
       "Domestic                0\n",
       "Beat                    0\n",
       "District                0\n",
       "Ward                    0\n",
       "Community Area          0\n",
       "FBI Code                0\n",
       "X Coordinate            0\n",
       "Y Coordinate            0\n",
       "Year                    0\n",
       "Updated On              0\n",
       "Latitude                0\n",
       "Longitude               0\n",
       "Location                0\n",
       "dtype: int64"
      ]
     },
     "execution_count": 20,
     "metadata": {},
     "output_type": "execute_result"
    }
   ],
   "source": [
    "# To drop the rows with missing data\n",
    "main_data = main_data.dropna()\n",
    "main_data.isnull().sum()"
   ]
  },
  {
   "cell_type": "code",
   "execution_count": 21,
   "id": "d3bd4241",
   "metadata": {},
   "outputs": [
    {
     "data": {
      "text/html": [
       "<div>\n",
       "<style scoped>\n",
       "    .dataframe tbody tr th:only-of-type {\n",
       "        vertical-align: middle;\n",
       "    }\n",
       "\n",
       "    .dataframe tbody tr th {\n",
       "        vertical-align: top;\n",
       "    }\n",
       "\n",
       "    .dataframe thead th {\n",
       "        text-align: right;\n",
       "    }\n",
       "</style>\n",
       "<table border=\"1\" class=\"dataframe\">\n",
       "  <thead>\n",
       "    <tr style=\"text-align: right;\">\n",
       "      <th></th>\n",
       "      <th>ID</th>\n",
       "      <th>Case Number</th>\n",
       "      <th>Date</th>\n",
       "      <th>Block</th>\n",
       "      <th>IUCR</th>\n",
       "      <th>Primary Type</th>\n",
       "      <th>Description</th>\n",
       "      <th>Location Description</th>\n",
       "      <th>Arrest</th>\n",
       "      <th>Domestic</th>\n",
       "      <th>...</th>\n",
       "      <th>Ward</th>\n",
       "      <th>Community Area</th>\n",
       "      <th>FBI Code</th>\n",
       "      <th>X Coordinate</th>\n",
       "      <th>Y Coordinate</th>\n",
       "      <th>Year</th>\n",
       "      <th>Updated On</th>\n",
       "      <th>Latitude</th>\n",
       "      <th>Longitude</th>\n",
       "      <th>Location</th>\n",
       "    </tr>\n",
       "  </thead>\n",
       "  <tbody>\n",
       "    <tr>\n",
       "      <th>1</th>\n",
       "      <td>10365064</td>\n",
       "      <td>HZ100370</td>\n",
       "      <td>12/31/2015 11:59:00 PM</td>\n",
       "      <td>075XX S EMERALD AVE</td>\n",
       "      <td>1320</td>\n",
       "      <td>CRIMINAL DAMAGE</td>\n",
       "      <td>TO VEHICLE</td>\n",
       "      <td>STREET</td>\n",
       "      <td>False</td>\n",
       "      <td>False</td>\n",
       "      <td>...</td>\n",
       "      <td>17.0</td>\n",
       "      <td>68.0</td>\n",
       "      <td>14</td>\n",
       "      <td>1172605.0</td>\n",
       "      <td>1854931.0</td>\n",
       "      <td>2015</td>\n",
       "      <td>02/10/2018 03:50:01 PM</td>\n",
       "      <td>41.757367</td>\n",
       "      <td>-87.642993</td>\n",
       "      <td>(41.757366519, -87.642992854)</td>\n",
       "    </tr>\n",
       "    <tr>\n",
       "      <th>2</th>\n",
       "      <td>10364662</td>\n",
       "      <td>HZ100006</td>\n",
       "      <td>12/31/2015 11:55:00 PM</td>\n",
       "      <td>079XX S STONY ISLAND AVE</td>\n",
       "      <td>0430</td>\n",
       "      <td>BATTERY</td>\n",
       "      <td>AGGRAVATED: OTHER DANG WEAPON</td>\n",
       "      <td>STREET</td>\n",
       "      <td>False</td>\n",
       "      <td>False</td>\n",
       "      <td>...</td>\n",
       "      <td>8.0</td>\n",
       "      <td>45.0</td>\n",
       "      <td>04B</td>\n",
       "      <td>1188223.0</td>\n",
       "      <td>1852840.0</td>\n",
       "      <td>2015</td>\n",
       "      <td>02/10/2018 03:50:01 PM</td>\n",
       "      <td>41.751270</td>\n",
       "      <td>-87.585822</td>\n",
       "      <td>(41.751270452, -87.585822373)</td>\n",
       "    </tr>\n",
       "    <tr>\n",
       "      <th>3</th>\n",
       "      <td>10364740</td>\n",
       "      <td>HZ100010</td>\n",
       "      <td>12/31/2015 11:50:00 PM</td>\n",
       "      <td>024XX W FARGO AVE</td>\n",
       "      <td>0820</td>\n",
       "      <td>THEFT</td>\n",
       "      <td>$500 AND UNDER</td>\n",
       "      <td>APARTMENT</td>\n",
       "      <td>False</td>\n",
       "      <td>False</td>\n",
       "      <td>...</td>\n",
       "      <td>50.0</td>\n",
       "      <td>2.0</td>\n",
       "      <td>06</td>\n",
       "      <td>1158878.0</td>\n",
       "      <td>1949369.0</td>\n",
       "      <td>2015</td>\n",
       "      <td>02/10/2018 03:50:01 PM</td>\n",
       "      <td>42.016804</td>\n",
       "      <td>-87.690709</td>\n",
       "      <td>(42.016804165, -87.690708662)</td>\n",
       "    </tr>\n",
       "    <tr>\n",
       "      <th>4</th>\n",
       "      <td>10364683</td>\n",
       "      <td>HZ100002</td>\n",
       "      <td>12/31/2015 11:50:00 PM</td>\n",
       "      <td>037XX N CLARK ST</td>\n",
       "      <td>0460</td>\n",
       "      <td>BATTERY</td>\n",
       "      <td>SIMPLE</td>\n",
       "      <td>SIDEWALK</td>\n",
       "      <td>True</td>\n",
       "      <td>False</td>\n",
       "      <td>...</td>\n",
       "      <td>44.0</td>\n",
       "      <td>6.0</td>\n",
       "      <td>08B</td>\n",
       "      <td>1167786.0</td>\n",
       "      <td>1925033.0</td>\n",
       "      <td>2015</td>\n",
       "      <td>02/10/2018 03:50:01 PM</td>\n",
       "      <td>41.949837</td>\n",
       "      <td>-87.658635</td>\n",
       "      <td>(41.949837364, -87.658635101)</td>\n",
       "    </tr>\n",
       "    <tr>\n",
       "      <th>5</th>\n",
       "      <td>10365142</td>\n",
       "      <td>HZ100722</td>\n",
       "      <td>12/31/2015 11:45:00 PM</td>\n",
       "      <td>001XX E WACKER DR</td>\n",
       "      <td>0880</td>\n",
       "      <td>THEFT</td>\n",
       "      <td>PURSE-SNATCHING</td>\n",
       "      <td>SIDEWALK</td>\n",
       "      <td>False</td>\n",
       "      <td>False</td>\n",
       "      <td>...</td>\n",
       "      <td>42.0</td>\n",
       "      <td>32.0</td>\n",
       "      <td>06</td>\n",
       "      <td>1177683.0</td>\n",
       "      <td>1902638.0</td>\n",
       "      <td>2015</td>\n",
       "      <td>02/10/2018 03:50:01 PM</td>\n",
       "      <td>41.888165</td>\n",
       "      <td>-87.622937</td>\n",
       "      <td>(41.888165132, -87.622937212)</td>\n",
       "    </tr>\n",
       "    <tr>\n",
       "      <th>6</th>\n",
       "      <td>10365005</td>\n",
       "      <td>HZ100487</td>\n",
       "      <td>12/31/2015 11:45:00 PM</td>\n",
       "      <td>001XX E WACKER DR</td>\n",
       "      <td>0820</td>\n",
       "      <td>THEFT</td>\n",
       "      <td>$500 AND UNDER</td>\n",
       "      <td>STREET</td>\n",
       "      <td>False</td>\n",
       "      <td>False</td>\n",
       "      <td>...</td>\n",
       "      <td>42.0</td>\n",
       "      <td>32.0</td>\n",
       "      <td>06</td>\n",
       "      <td>1177683.0</td>\n",
       "      <td>1902638.0</td>\n",
       "      <td>2015</td>\n",
       "      <td>02/10/2018 03:50:01 PM</td>\n",
       "      <td>41.888165</td>\n",
       "      <td>-87.622937</td>\n",
       "      <td>(41.888165132, -87.622937212)</td>\n",
       "    </tr>\n",
       "    <tr>\n",
       "      <th>7</th>\n",
       "      <td>10366580</td>\n",
       "      <td>HZ102701</td>\n",
       "      <td>12/31/2015 11:45:00 PM</td>\n",
       "      <td>050XX W CONCORD PL</td>\n",
       "      <td>1310</td>\n",
       "      <td>CRIMINAL DAMAGE</td>\n",
       "      <td>TO PROPERTY</td>\n",
       "      <td>APARTMENT</td>\n",
       "      <td>False</td>\n",
       "      <td>False</td>\n",
       "      <td>...</td>\n",
       "      <td>37.0</td>\n",
       "      <td>25.0</td>\n",
       "      <td>14</td>\n",
       "      <td>1142595.0</td>\n",
       "      <td>1910502.0</td>\n",
       "      <td>2015</td>\n",
       "      <td>02/10/2018 03:50:01 PM</td>\n",
       "      <td>41.910470</td>\n",
       "      <td>-87.751597</td>\n",
       "      <td>(41.910469677, -87.751597381)</td>\n",
       "    </tr>\n",
       "    <tr>\n",
       "      <th>8</th>\n",
       "      <td>10364809</td>\n",
       "      <td>HZ100034</td>\n",
       "      <td>12/31/2015 11:42:00 PM</td>\n",
       "      <td>004XX E RANDOLPH ST</td>\n",
       "      <td>4387</td>\n",
       "      <td>OTHER OFFENSE</td>\n",
       "      <td>VIOLATE ORDER OF PROTECTION</td>\n",
       "      <td>APARTMENT</td>\n",
       "      <td>False</td>\n",
       "      <td>True</td>\n",
       "      <td>...</td>\n",
       "      <td>42.0</td>\n",
       "      <td>32.0</td>\n",
       "      <td>26</td>\n",
       "      <td>1179325.0</td>\n",
       "      <td>1901333.0</td>\n",
       "      <td>2015</td>\n",
       "      <td>02/10/2018 03:50:01 PM</td>\n",
       "      <td>41.884547</td>\n",
       "      <td>-87.616947</td>\n",
       "      <td>(41.884546689, -87.616947314)</td>\n",
       "    </tr>\n",
       "    <tr>\n",
       "      <th>9</th>\n",
       "      <td>10364668</td>\n",
       "      <td>HY556628</td>\n",
       "      <td>12/31/2015 11:41:00 PM</td>\n",
       "      <td>048XX S JUSTINE ST</td>\n",
       "      <td>4387</td>\n",
       "      <td>OTHER OFFENSE</td>\n",
       "      <td>VIOLATE ORDER OF PROTECTION</td>\n",
       "      <td>APARTMENT</td>\n",
       "      <td>True</td>\n",
       "      <td>True</td>\n",
       "      <td>...</td>\n",
       "      <td>20.0</td>\n",
       "      <td>61.0</td>\n",
       "      <td>26</td>\n",
       "      <td>1166823.0</td>\n",
       "      <td>1872564.0</td>\n",
       "      <td>2015</td>\n",
       "      <td>02/10/2018 03:50:01 PM</td>\n",
       "      <td>41.805879</td>\n",
       "      <td>-87.663680</td>\n",
       "      <td>(41.805879049, -87.663679798)</td>\n",
       "    </tr>\n",
       "    <tr>\n",
       "      <th>10</th>\n",
       "      <td>10364943</td>\n",
       "      <td>HZ100396</td>\n",
       "      <td>12/31/2015 11:30:00 PM</td>\n",
       "      <td>003XX W 25TH PL</td>\n",
       "      <td>1310</td>\n",
       "      <td>CRIMINAL DAMAGE</td>\n",
       "      <td>TO PROPERTY</td>\n",
       "      <td>APARTMENT</td>\n",
       "      <td>False</td>\n",
       "      <td>False</td>\n",
       "      <td>...</td>\n",
       "      <td>11.0</td>\n",
       "      <td>34.0</td>\n",
       "      <td>14</td>\n",
       "      <td>1174442.0</td>\n",
       "      <td>1887387.0</td>\n",
       "      <td>2015</td>\n",
       "      <td>02/10/2018 03:50:01 PM</td>\n",
       "      <td>41.846388</td>\n",
       "      <td>-87.635295</td>\n",
       "      <td>(41.846388365, -87.635294564)</td>\n",
       "    </tr>\n",
       "  </tbody>\n",
       "</table>\n",
       "<p>10 rows × 22 columns</p>\n",
       "</div>"
      ],
      "text/plain": [
       "          ID Case Number                    Date                     Block  \\\n",
       "1   10365064    HZ100370  12/31/2015 11:59:00 PM       075XX S EMERALD AVE   \n",
       "2   10364662    HZ100006  12/31/2015 11:55:00 PM  079XX S STONY ISLAND AVE   \n",
       "3   10364740    HZ100010  12/31/2015 11:50:00 PM         024XX W FARGO AVE   \n",
       "4   10364683    HZ100002  12/31/2015 11:50:00 PM          037XX N CLARK ST   \n",
       "5   10365142    HZ100722  12/31/2015 11:45:00 PM         001XX E WACKER DR   \n",
       "6   10365005    HZ100487  12/31/2015 11:45:00 PM         001XX E WACKER DR   \n",
       "7   10366580    HZ102701  12/31/2015 11:45:00 PM        050XX W CONCORD PL   \n",
       "8   10364809    HZ100034  12/31/2015 11:42:00 PM       004XX E RANDOLPH ST   \n",
       "9   10364668    HY556628  12/31/2015 11:41:00 PM        048XX S JUSTINE ST   \n",
       "10  10364943    HZ100396  12/31/2015 11:30:00 PM           003XX W 25TH PL   \n",
       "\n",
       "    IUCR     Primary Type                    Description Location Description  \\\n",
       "1   1320  CRIMINAL DAMAGE                     TO VEHICLE               STREET   \n",
       "2   0430          BATTERY  AGGRAVATED: OTHER DANG WEAPON               STREET   \n",
       "3   0820            THEFT                 $500 AND UNDER            APARTMENT   \n",
       "4   0460          BATTERY                         SIMPLE             SIDEWALK   \n",
       "5   0880            THEFT                PURSE-SNATCHING             SIDEWALK   \n",
       "6   0820            THEFT                 $500 AND UNDER               STREET   \n",
       "7   1310  CRIMINAL DAMAGE                    TO PROPERTY            APARTMENT   \n",
       "8   4387    OTHER OFFENSE    VIOLATE ORDER OF PROTECTION            APARTMENT   \n",
       "9   4387    OTHER OFFENSE    VIOLATE ORDER OF PROTECTION            APARTMENT   \n",
       "10  1310  CRIMINAL DAMAGE                    TO PROPERTY            APARTMENT   \n",
       "\n",
       "    Arrest  Domestic  ...  Ward  Community Area  FBI Code  X Coordinate  \\\n",
       "1    False     False  ...  17.0            68.0        14     1172605.0   \n",
       "2    False     False  ...   8.0            45.0       04B     1188223.0   \n",
       "3    False     False  ...  50.0             2.0        06     1158878.0   \n",
       "4     True     False  ...  44.0             6.0       08B     1167786.0   \n",
       "5    False     False  ...  42.0            32.0        06     1177683.0   \n",
       "6    False     False  ...  42.0            32.0        06     1177683.0   \n",
       "7    False     False  ...  37.0            25.0        14     1142595.0   \n",
       "8    False      True  ...  42.0            32.0        26     1179325.0   \n",
       "9     True      True  ...  20.0            61.0        26     1166823.0   \n",
       "10   False     False  ...  11.0            34.0        14     1174442.0   \n",
       "\n",
       "   Y Coordinate  Year              Updated On   Latitude  Longitude  \\\n",
       "1     1854931.0  2015  02/10/2018 03:50:01 PM  41.757367 -87.642993   \n",
       "2     1852840.0  2015  02/10/2018 03:50:01 PM  41.751270 -87.585822   \n",
       "3     1949369.0  2015  02/10/2018 03:50:01 PM  42.016804 -87.690709   \n",
       "4     1925033.0  2015  02/10/2018 03:50:01 PM  41.949837 -87.658635   \n",
       "5     1902638.0  2015  02/10/2018 03:50:01 PM  41.888165 -87.622937   \n",
       "6     1902638.0  2015  02/10/2018 03:50:01 PM  41.888165 -87.622937   \n",
       "7     1910502.0  2015  02/10/2018 03:50:01 PM  41.910470 -87.751597   \n",
       "8     1901333.0  2015  02/10/2018 03:50:01 PM  41.884547 -87.616947   \n",
       "9     1872564.0  2015  02/10/2018 03:50:01 PM  41.805879 -87.663680   \n",
       "10    1887387.0  2015  02/10/2018 03:50:01 PM  41.846388 -87.635295   \n",
       "\n",
       "                         Location  \n",
       "1   (41.757366519, -87.642992854)  \n",
       "2   (41.751270452, -87.585822373)  \n",
       "3   (42.016804165, -87.690708662)  \n",
       "4   (41.949837364, -87.658635101)  \n",
       "5   (41.888165132, -87.622937212)  \n",
       "6   (41.888165132, -87.622937212)  \n",
       "7   (41.910469677, -87.751597381)  \n",
       "8   (41.884546689, -87.616947314)  \n",
       "9   (41.805879049, -87.663679798)  \n",
       "10  (41.846388365, -87.635294564)  \n",
       "\n",
       "[10 rows x 22 columns]"
      ]
     },
     "execution_count": 21,
     "metadata": {},
     "output_type": "execute_result"
    }
   ],
   "source": [
    "main_data.head(10)"
   ]
  },
  {
   "cell_type": "code",
   "execution_count": 22,
   "id": "e64ab8ed",
   "metadata": {},
   "outputs": [
    {
     "name": "stdout",
     "output_type": "stream",
     "text": [
      "Index(['ID', 'Case Number', 'Date', 'Block', 'IUCR', 'Primary Type',\n",
      "       'Description', 'Location Description', 'Arrest', 'Domestic', 'Beat',\n",
      "       'District', 'Ward', 'Community Area', 'FBI Code', 'X Coordinate',\n",
      "       'Y Coordinate', 'Year', 'Updated On', 'Latitude', 'Longitude',\n",
      "       'Location'],\n",
      "      dtype='object')\n"
     ]
    }
   ],
   "source": [
    "print(main_data.columns)"
   ]
  },
  {
   "cell_type": "code",
   "execution_count": 23,
   "id": "7bdc9767",
   "metadata": {},
   "outputs": [
    {
     "data": {
      "text/plain": [
       "ID                        int64\n",
       "Case Number              object\n",
       "Date                     object\n",
       "Block                    object\n",
       "IUCR                     object\n",
       "Primary Type             object\n",
       "Description              object\n",
       "Location Description     object\n",
       "Arrest                     bool\n",
       "Domestic                   bool\n",
       "Beat                      int64\n",
       "District                float64\n",
       "Ward                    float64\n",
       "Community Area          float64\n",
       "FBI Code                 object\n",
       "X Coordinate            float64\n",
       "Y Coordinate            float64\n",
       "Year                      int64\n",
       "Updated On               object\n",
       "Latitude                float64\n",
       "Longitude               float64\n",
       "Location                 object\n",
       "dtype: object"
      ]
     },
     "execution_count": 23,
     "metadata": {},
     "output_type": "execute_result"
    }
   ],
   "source": [
    "main_data.dtypes"
   ]
  },
  {
   "cell_type": "code",
   "execution_count": 24,
   "id": "e8bdf2a9",
   "metadata": {},
   "outputs": [],
   "source": [
    "# Function to Clean the 'Date' variable \n",
    "\n",
    "def time_convert(date_time):\n",
    "    s1 = date_time[:11]\n",
    "    s2 = date_time[11:]\n",
    "    \n",
    "    month = s1[:2]\n",
    "    date = s1[3:5]\n",
    "    year = s1[6:10]\n",
    "    \n",
    "    hr = s2[:2]\n",
    "    mins = s2[3:5]\n",
    "    sec = s2[6:8]\n",
    "    time_frame = s2[9:]\n",
    "    if(time_frame == 'PM'):\n",
    "        if (int(hr) != 12):\n",
    "            hr = str(int(hr) + 12)\n",
    "    else:\n",
    "        if(int(hr) == 12):\n",
    "            hr = '00'\n",
    "    \n",
    "    final_date = datetime(int(year), int(month), int(date), int(hr), int(mins), int(sec))\n",
    "    return final_date"
   ]
  },
  {
   "cell_type": "code",
   "execution_count": 25,
   "id": "ccb74e6b",
   "metadata": {},
   "outputs": [],
   "source": [
    "# Using apply() of pandas to apply time_convert on every row of the Date column\n",
    "main_data['Date'] = main_data['Date'].apply(time_convert)"
   ]
  },
  {
   "cell_type": "code",
   "execution_count": 26,
   "id": "42068824",
   "metadata": {},
   "outputs": [],
   "source": [
    "# Splitting the 'Date' variable into more suitable variables for a Time-based analysis\n",
    "\n",
    "# Month\n",
    "def month_col(x):\n",
    "    return int(x.strftime(\"%m\"))\n",
    "main_data['Month'] = main_data['Date'].apply(month_col)\n",
    "\n",
    "# Day\n",
    "def day_col(x):\n",
    "    return int(x.strftime(\"%w\"))\n",
    "main_data['Day'] = main_data['Date'].apply(day_col)  \n",
    "\n",
    "# Hour\n",
    "def hour_col(x):\n",
    "    return int(x.strftime(\"%H\"))\n",
    "main_data['Hour'] = main_data['Date'].apply(hour_col)"
   ]
  },
  {
   "cell_type": "code",
   "execution_count": 27,
   "id": "43874b59",
   "metadata": {},
   "outputs": [
    {
     "data": {
      "text/plain": [
       "1   2015-12-31 23:59:00\n",
       "2   2015-12-31 23:55:00\n",
       "3   2015-12-31 23:50:00\n",
       "4   2015-12-31 23:50:00\n",
       "5   2015-12-31 23:45:00\n",
       "Name: Date, dtype: datetime64[ns]"
      ]
     },
     "execution_count": 27,
     "metadata": {},
     "output_type": "execute_result"
    }
   ],
   "source": [
    "main_data['Date'].head()"
   ]
  },
  {
   "cell_type": "code",
   "execution_count": 28,
   "id": "92c3dbb7",
   "metadata": {},
   "outputs": [
    {
     "data": {
      "text/plain": [
       "['THEFT',\n",
       " 'BATTERY',\n",
       " 'CRIMINAL DAMAGE',\n",
       " 'ASSAULT',\n",
       " 'OTHER OFFENSE',\n",
       " 'DECEPTIVE PRACTICE',\n",
       " 'NARCOTICS',\n",
       " 'BURGLARY',\n",
       " 'MOTOR VEHICLE THEFT',\n",
       " 'ROBBERY']"
      ]
     },
     "execution_count": 28,
     "metadata": {},
     "output_type": "execute_result"
    }
   ],
   "source": [
    "# Filtering the Top 10 most occuring crimes in the city of Chicago \n",
    "\n",
    "top_10 = list(main_data['Primary Type'].value_counts().head(10).index)\n",
    "top_10"
   ]
  },
  {
   "cell_type": "code",
   "execution_count": 29,
   "id": "dc8696f6",
   "metadata": {},
   "outputs": [
    {
     "name": "stderr",
     "output_type": "stream",
     "text": [
      "C:\\Users\\harsh\\AppData\\Local\\Temp\\ipykernel_10536\\534351760.py:7: FutureWarning: The frame.append method is deprecated and will be removed from pandas in a future version. Use pandas.concat instead.\n",
      "  df2 = df2.append(temp, ignore_index=True)\n"
     ]
    },
    {
     "data": {
      "text/plain": [
       "(1036588, 25)"
      ]
     },
     "execution_count": 29,
     "metadata": {},
     "output_type": "execute_result"
    }
   ],
   "source": [
    "# Creating the dataframe with all the data of only the top 10 crimes\n",
    "\n",
    "def filter_top_10(df):\n",
    "    df2=df[df['Primary Type']=='THEFT']\n",
    "    for crime in top_10[1:]:\n",
    "        temp=df[df['Primary Type']==crime]\n",
    "        df2 = df2.append(temp, ignore_index=True)\n",
    "    return df2\n",
    "    \n",
    "data_top_10=filter_top_10(main_data) \n",
    "data_top_10.shape"
   ]
  },
  {
   "cell_type": "code",
   "execution_count": 30,
   "id": "5486d35d",
   "metadata": {},
   "outputs": [
    {
     "data": {
      "text/plain": [
       "90.42256420634658"
      ]
     },
     "execution_count": 30,
     "metadata": {},
     "output_type": "execute_result"
    }
   ],
   "source": [
    "1036588/1146382 * 100\n",
    "\n",
    "# Even though only the Top 10 crimes have been picked up from the whole dataset, we see that we still have been able to retain 90.4% of all crime records. "
   ]
  },
  {
   "cell_type": "code",
   "execution_count": 31,
   "id": "e19d2910",
   "metadata": {
    "scrolled": true
   },
   "outputs": [
    {
     "data": {
      "text/html": [
       "<div>\n",
       "<style scoped>\n",
       "    .dataframe tbody tr th:only-of-type {\n",
       "        vertical-align: middle;\n",
       "    }\n",
       "\n",
       "    .dataframe tbody tr th {\n",
       "        vertical-align: top;\n",
       "    }\n",
       "\n",
       "    .dataframe thead th {\n",
       "        text-align: right;\n",
       "    }\n",
       "</style>\n",
       "<table border=\"1\" class=\"dataframe\">\n",
       "  <thead>\n",
       "    <tr style=\"text-align: right;\">\n",
       "      <th></th>\n",
       "      <th>ID</th>\n",
       "      <th>Case Number</th>\n",
       "      <th>Date</th>\n",
       "      <th>Block</th>\n",
       "      <th>IUCR</th>\n",
       "      <th>Primary Type</th>\n",
       "      <th>Description</th>\n",
       "      <th>Location Description</th>\n",
       "      <th>Arrest</th>\n",
       "      <th>Domestic</th>\n",
       "      <th>...</th>\n",
       "      <th>X Coordinate</th>\n",
       "      <th>Y Coordinate</th>\n",
       "      <th>Year</th>\n",
       "      <th>Updated On</th>\n",
       "      <th>Latitude</th>\n",
       "      <th>Longitude</th>\n",
       "      <th>Location</th>\n",
       "      <th>Month</th>\n",
       "      <th>Day</th>\n",
       "      <th>Hour</th>\n",
       "    </tr>\n",
       "  </thead>\n",
       "  <tbody>\n",
       "    <tr>\n",
       "      <th>0</th>\n",
       "      <td>10364740</td>\n",
       "      <td>HZ100010</td>\n",
       "      <td>2015-12-31 23:50:00</td>\n",
       "      <td>024XX W FARGO AVE</td>\n",
       "      <td>0820</td>\n",
       "      <td>THEFT</td>\n",
       "      <td>$500 AND UNDER</td>\n",
       "      <td>APARTMENT</td>\n",
       "      <td>False</td>\n",
       "      <td>False</td>\n",
       "      <td>...</td>\n",
       "      <td>1158878.0</td>\n",
       "      <td>1949369.0</td>\n",
       "      <td>2015</td>\n",
       "      <td>02/10/2018 03:50:01 PM</td>\n",
       "      <td>42.016804</td>\n",
       "      <td>-87.690709</td>\n",
       "      <td>(42.016804165, -87.690708662)</td>\n",
       "      <td>12</td>\n",
       "      <td>4</td>\n",
       "      <td>23</td>\n",
       "    </tr>\n",
       "    <tr>\n",
       "      <th>1</th>\n",
       "      <td>10365142</td>\n",
       "      <td>HZ100722</td>\n",
       "      <td>2015-12-31 23:45:00</td>\n",
       "      <td>001XX E WACKER DR</td>\n",
       "      <td>0880</td>\n",
       "      <td>THEFT</td>\n",
       "      <td>PURSE-SNATCHING</td>\n",
       "      <td>SIDEWALK</td>\n",
       "      <td>False</td>\n",
       "      <td>False</td>\n",
       "      <td>...</td>\n",
       "      <td>1177683.0</td>\n",
       "      <td>1902638.0</td>\n",
       "      <td>2015</td>\n",
       "      <td>02/10/2018 03:50:01 PM</td>\n",
       "      <td>41.888165</td>\n",
       "      <td>-87.622937</td>\n",
       "      <td>(41.888165132, -87.622937212)</td>\n",
       "      <td>12</td>\n",
       "      <td>4</td>\n",
       "      <td>23</td>\n",
       "    </tr>\n",
       "    <tr>\n",
       "      <th>2</th>\n",
       "      <td>10365005</td>\n",
       "      <td>HZ100487</td>\n",
       "      <td>2015-12-31 23:45:00</td>\n",
       "      <td>001XX E WACKER DR</td>\n",
       "      <td>0820</td>\n",
       "      <td>THEFT</td>\n",
       "      <td>$500 AND UNDER</td>\n",
       "      <td>STREET</td>\n",
       "      <td>False</td>\n",
       "      <td>False</td>\n",
       "      <td>...</td>\n",
       "      <td>1177683.0</td>\n",
       "      <td>1902638.0</td>\n",
       "      <td>2015</td>\n",
       "      <td>02/10/2018 03:50:01 PM</td>\n",
       "      <td>41.888165</td>\n",
       "      <td>-87.622937</td>\n",
       "      <td>(41.888165132, -87.622937212)</td>\n",
       "      <td>12</td>\n",
       "      <td>4</td>\n",
       "      <td>23</td>\n",
       "    </tr>\n",
       "    <tr>\n",
       "      <th>3</th>\n",
       "      <td>10364834</td>\n",
       "      <td>HZ100276</td>\n",
       "      <td>2015-12-31 23:30:00</td>\n",
       "      <td>015XX S MORGAN ST</td>\n",
       "      <td>0820</td>\n",
       "      <td>THEFT</td>\n",
       "      <td>$500 AND UNDER</td>\n",
       "      <td>RESIDENCE</td>\n",
       "      <td>False</td>\n",
       "      <td>False</td>\n",
       "      <td>...</td>\n",
       "      <td>1170163.0</td>\n",
       "      <td>1892555.0</td>\n",
       "      <td>2015</td>\n",
       "      <td>01/07/2016 04:14:34 PM</td>\n",
       "      <td>41.860664</td>\n",
       "      <td>-87.650847</td>\n",
       "      <td>(41.860664155, -87.650847428)</td>\n",
       "      <td>12</td>\n",
       "      <td>4</td>\n",
       "      <td>23</td>\n",
       "    </tr>\n",
       "    <tr>\n",
       "      <th>4</th>\n",
       "      <td>10365158</td>\n",
       "      <td>HZ100762</td>\n",
       "      <td>2015-12-31 23:30:00</td>\n",
       "      <td>035XX N SOUTHPORT AVE</td>\n",
       "      <td>0890</td>\n",
       "      <td>THEFT</td>\n",
       "      <td>FROM BUILDING</td>\n",
       "      <td>BAR OR TAVERN</td>\n",
       "      <td>False</td>\n",
       "      <td>False</td>\n",
       "      <td>...</td>\n",
       "      <td>1166346.0</td>\n",
       "      <td>1923429.0</td>\n",
       "      <td>2015</td>\n",
       "      <td>02/10/2018 03:50:01 PM</td>\n",
       "      <td>41.945467</td>\n",
       "      <td>-87.663974</td>\n",
       "      <td>(41.945466899, -87.663974392)</td>\n",
       "      <td>12</td>\n",
       "      <td>4</td>\n",
       "      <td>23</td>\n",
       "    </tr>\n",
       "  </tbody>\n",
       "</table>\n",
       "<p>5 rows × 25 columns</p>\n",
       "</div>"
      ],
      "text/plain": [
       "         ID Case Number                Date                  Block  IUCR  \\\n",
       "0  10364740    HZ100010 2015-12-31 23:50:00      024XX W FARGO AVE  0820   \n",
       "1  10365142    HZ100722 2015-12-31 23:45:00      001XX E WACKER DR  0880   \n",
       "2  10365005    HZ100487 2015-12-31 23:45:00      001XX E WACKER DR  0820   \n",
       "3  10364834    HZ100276 2015-12-31 23:30:00      015XX S MORGAN ST  0820   \n",
       "4  10365158    HZ100762 2015-12-31 23:30:00  035XX N SOUTHPORT AVE  0890   \n",
       "\n",
       "  Primary Type      Description Location Description  Arrest  Domestic  ...  \\\n",
       "0        THEFT   $500 AND UNDER            APARTMENT   False     False  ...   \n",
       "1        THEFT  PURSE-SNATCHING             SIDEWALK   False     False  ...   \n",
       "2        THEFT   $500 AND UNDER               STREET   False     False  ...   \n",
       "3        THEFT   $500 AND UNDER            RESIDENCE   False     False  ...   \n",
       "4        THEFT    FROM BUILDING        BAR OR TAVERN   False     False  ...   \n",
       "\n",
       "   X Coordinate  Y Coordinate  Year              Updated On   Latitude  \\\n",
       "0     1158878.0     1949369.0  2015  02/10/2018 03:50:01 PM  42.016804   \n",
       "1     1177683.0     1902638.0  2015  02/10/2018 03:50:01 PM  41.888165   \n",
       "2     1177683.0     1902638.0  2015  02/10/2018 03:50:01 PM  41.888165   \n",
       "3     1170163.0     1892555.0  2015  01/07/2016 04:14:34 PM  41.860664   \n",
       "4     1166346.0     1923429.0  2015  02/10/2018 03:50:01 PM  41.945467   \n",
       "\n",
       "   Longitude                       Location  Month Day  Hour  \n",
       "0 -87.690709  (42.016804165, -87.690708662)     12   4    23  \n",
       "1 -87.622937  (41.888165132, -87.622937212)     12   4    23  \n",
       "2 -87.622937  (41.888165132, -87.622937212)     12   4    23  \n",
       "3 -87.650847  (41.860664155, -87.650847428)     12   4    23  \n",
       "4 -87.663974  (41.945466899, -87.663974392)     12   4    23  \n",
       "\n",
       "[5 rows x 25 columns]"
      ]
     },
     "execution_count": 31,
     "metadata": {},
     "output_type": "execute_result"
    }
   ],
   "source": [
    "data_top_10.head()"
   ]
  },
  {
   "cell_type": "code",
   "execution_count": 108,
   "id": "efc6f980",
   "metadata": {},
   "outputs": [],
   "source": [
    "label=data_top_10[\"Primary Type\"].value_counts().index\n",
    "sizes=data_top_10[\"Primary Type\"].value_counts().values"
   ]
  },
  {
   "cell_type": "code",
   "execution_count": 113,
   "id": "907227f3",
   "metadata": {},
   "outputs": [
    {
     "data": {
      "text/plain": [
       "Text(0.5, 1.0, 'Primary Type of the Crime')"
      ]
     },
     "execution_count": 113,
     "metadata": {},
     "output_type": "execute_result"
    },
    {
     "data": {
      "image/png": "[encoded data removed]",
      "text/plain": [
       "<Figure size 700x700 with 1 Axes>"
      ]
     },
     "metadata": {},
     "output_type": "display_data"
    }
   ],
   "source": [
    "plt.figure(figsize = (7,7))\n",
    "plt.pie(sizes, labels=label, autopct='%1.1f%%')\n",
    "plt.title('Primary Type of the Crime',color = 'blue',fontsize = 15)"
   ]
  },
  {
   "cell_type": "code",
   "execution_count": 118,
   "id": "af3217d4",
   "metadata": {},
   "outputs": [
    {
     "data": {
      "text/plain": [
       "(array([0, 1, 2, 3, 4, 5, 6, 7, 8, 9]),\n",
       " [Text(0, 0, 'THEFT'),\n",
       "  Text(1, 0, 'BATTERY'),\n",
       "  Text(2, 0, 'CRIMINAL DAMAGE'),\n",
       "  Text(3, 0, 'ASSAULT'),\n",
       "  Text(4, 0, 'OTHER OFFENSE'),\n",
       "  Text(5, 0, 'DECEPTIVE PRACTICE'),\n",
       "  Text(6, 0, 'NARCOTICS'),\n",
       "  Text(7, 0, 'BURGLARY'),\n",
       "  Text(8, 0, 'MOTOR VEHICLE THEFT'),\n",
       "  Text(9, 0, 'ROBBERY')])"
      ]
     },
     "execution_count": 118,
     "metadata": {},
     "output_type": "execute_result"
    },
    {
     "data": {
      "image/png": "[encoded data removed]",
      "text/plain": [
       "<Figure size 640x480 with 1 Axes>"
      ]
     },
     "metadata": {},
     "output_type": "display_data"
    }
   ],
   "source": [
    "sns.countplot(data=data_top_10, x='Primary Type')\n",
    "plt.title('Type of Crime',color = 'blue',fontsize=15)\n",
    "plt.xticks(rotation=45)"
   ]
  },
  {
   "cell_type": "code",
   "execution_count": 32,
   "id": "fed43f8a",
   "metadata": {},
   "outputs": [
    {
     "data": {
      "text/html": [
       "<div>\n",
       "<style scoped>\n",
       "    .dataframe tbody tr th:only-of-type {\n",
       "        vertical-align: middle;\n",
       "    }\n",
       "\n",
       "    .dataframe tbody tr th {\n",
       "        vertical-align: top;\n",
       "    }\n",
       "\n",
       "    .dataframe thead th {\n",
       "        text-align: right;\n",
       "    }\n",
       "</style>\n",
       "<table border=\"1\" class=\"dataframe\">\n",
       "  <thead>\n",
       "    <tr style=\"text-align: right;\">\n",
       "      <th></th>\n",
       "      <th>Month</th>\n",
       "      <th>Day</th>\n",
       "      <th>District</th>\n",
       "      <th>Hour</th>\n",
       "      <th>Primary Type</th>\n",
       "    </tr>\n",
       "  </thead>\n",
       "  <tbody>\n",
       "    <tr>\n",
       "      <th>16369</th>\n",
       "      <td>5</td>\n",
       "      <td>2</td>\n",
       "      <td>31.0</td>\n",
       "      <td>9</td>\n",
       "      <td>1</td>\n",
       "    </tr>\n",
       "    <tr>\n",
       "      <th>2113</th>\n",
       "      <td>1</td>\n",
       "      <td>3</td>\n",
       "      <td>31.0</td>\n",
       "      <td>10</td>\n",
       "      <td>1</td>\n",
       "    </tr>\n",
       "    <tr>\n",
       "      <th>12673</th>\n",
       "      <td>4</td>\n",
       "      <td>2</td>\n",
       "      <td>31.0</td>\n",
       "      <td>10</td>\n",
       "      <td>1</td>\n",
       "    </tr>\n",
       "    <tr>\n",
       "      <th>1584</th>\n",
       "      <td>1</td>\n",
       "      <td>2</td>\n",
       "      <td>31.0</td>\n",
       "      <td>16</td>\n",
       "      <td>1</td>\n",
       "    </tr>\n",
       "    <tr>\n",
       "      <th>1583</th>\n",
       "      <td>1</td>\n",
       "      <td>2</td>\n",
       "      <td>31.0</td>\n",
       "      <td>13</td>\n",
       "      <td>1</td>\n",
       "    </tr>\n",
       "  </tbody>\n",
       "</table>\n",
       "</div>"
      ],
      "text/plain": [
       "       Month  Day  District  Hour  Primary Type\n",
       "16369      5    2      31.0     9             1\n",
       "2113       1    3      31.0    10             1\n",
       "12673      4    2      31.0    10             1\n",
       "1584       1    2      31.0    16             1\n",
       "1583       1    2      31.0    13             1"
      ]
     },
     "execution_count": 32,
     "metadata": {},
     "output_type": "execute_result"
    }
   ],
   "source": [
    "# Groupby\n",
    "\n",
    "# Creating our main dataset\n",
    "crimes = data_top_10.groupby(['Month','Day','District','Hour'], as_index=False).agg({\"Primary Type\":\"count\"})\n",
    "crimes = crimes.sort_values(by=['District'], ascending=False)\n",
    "crimes.head()"
   ]
  },
  {
   "cell_type": "code",
   "execution_count": 33,
   "id": "35e2eafb",
   "metadata": {},
   "outputs": [
    {
     "data": {
      "text/html": [
       "<div>\n",
       "<style scoped>\n",
       "    .dataframe tbody tr th:only-of-type {\n",
       "        vertical-align: middle;\n",
       "    }\n",
       "\n",
       "    .dataframe tbody tr th {\n",
       "        vertical-align: top;\n",
       "    }\n",
       "\n",
       "    .dataframe thead th {\n",
       "        text-align: right;\n",
       "    }\n",
       "</style>\n",
       "<table border=\"1\" class=\"dataframe\">\n",
       "  <thead>\n",
       "    <tr style=\"text-align: right;\">\n",
       "      <th></th>\n",
       "      <th>Month</th>\n",
       "      <th>Day</th>\n",
       "      <th>District</th>\n",
       "      <th>Hour</th>\n",
       "      <th>Crime_Count</th>\n",
       "    </tr>\n",
       "  </thead>\n",
       "  <tbody>\n",
       "    <tr>\n",
       "      <th>16369</th>\n",
       "      <td>5</td>\n",
       "      <td>2</td>\n",
       "      <td>31.0</td>\n",
       "      <td>9</td>\n",
       "      <td>1</td>\n",
       "    </tr>\n",
       "    <tr>\n",
       "      <th>2113</th>\n",
       "      <td>1</td>\n",
       "      <td>3</td>\n",
       "      <td>31.0</td>\n",
       "      <td>10</td>\n",
       "      <td>1</td>\n",
       "    </tr>\n",
       "    <tr>\n",
       "      <th>12673</th>\n",
       "      <td>4</td>\n",
       "      <td>2</td>\n",
       "      <td>31.0</td>\n",
       "      <td>10</td>\n",
       "      <td>1</td>\n",
       "    </tr>\n",
       "    <tr>\n",
       "      <th>1584</th>\n",
       "      <td>1</td>\n",
       "      <td>2</td>\n",
       "      <td>31.0</td>\n",
       "      <td>16</td>\n",
       "      <td>1</td>\n",
       "    </tr>\n",
       "    <tr>\n",
       "      <th>1583</th>\n",
       "      <td>1</td>\n",
       "      <td>2</td>\n",
       "      <td>31.0</td>\n",
       "      <td>13</td>\n",
       "      <td>1</td>\n",
       "    </tr>\n",
       "  </tbody>\n",
       "</table>\n",
       "</div>"
      ],
      "text/plain": [
       "       Month  Day  District  Hour  Crime_Count\n",
       "16369      5    2      31.0     9            1\n",
       "2113       1    3      31.0    10            1\n",
       "12673      4    2      31.0    10            1\n",
       "1584       1    2      31.0    16            1\n",
       "1583       1    2      31.0    13            1"
      ]
     },
     "execution_count": 33,
     "metadata": {},
     "output_type": "execute_result"
    }
   ],
   "source": [
    "# Renaming the variable\n",
    "crimes_count=crimes.rename(index=str, columns={\"Primary Type\":\"Crime_Count\"})\n",
    "crimes_count.head()"
   ]
  },
  {
   "cell_type": "code",
   "execution_count": null,
   "id": "5ae0d4b4",
   "metadata": {},
   "outputs": [],
   "source": []
  },
  {
   "cell_type": "code",
   "execution_count": null,
   "id": "b4653008",
   "metadata": {},
   "outputs": [],
   "source": []
  },
  {
   "cell_type": "code",
   "execution_count": null,
   "id": "9097a33d",
   "metadata": {},
   "outputs": [],
   "source": []
  },
  {
   "cell_type": "markdown",
   "id": "d2859059",
   "metadata": {},
   "source": [
    "# Storing the preprocessed data into database\n",
    "#### Dataframes are - crimes_count, crimes, data_top_10, main _data"
   ]
  },
  {
   "cell_type": "code",
   "execution_count": 34,
   "id": "31a7a6fb",
   "metadata": {},
   "outputs": [
    {
     "name": "stdout",
     "output_type": "stream",
     "text": [
      "Index(['Month', 'Day', 'District', 'Hour', 'Primary Type'], dtype='object')\n",
      "############################\n",
      "Index(['Month', 'Day', 'District', 'Hour', 'Crime_Count'], dtype='object')\n",
      "############################\n",
      "Index(['ID', 'Case Number', 'Date', 'Block', 'IUCR', 'Primary Type',\n",
      "       'Description', 'Location Description', 'Arrest', 'Domestic', 'Beat',\n",
      "       'District', 'Ward', 'Community Area', 'FBI Code', 'X Coordinate',\n",
      "       'Y Coordinate', 'Year', 'Updated On', 'Latitude', 'Longitude',\n",
      "       'Location', 'Month', 'Day', 'Hour'],\n",
      "      dtype='object')\n",
      "############################\n",
      "Index(['ID', 'Case Number', 'Date', 'Block', 'IUCR', 'Primary Type',\n",
      "       'Description', 'Location Description', 'Arrest', 'Domestic', 'Beat',\n",
      "       'District', 'Ward', 'Community Area', 'FBI Code', 'X Coordinate',\n",
      "       'Y Coordinate', 'Year', 'Updated On', 'Latitude', 'Longitude',\n",
      "       'Location', 'Month', 'Day', 'Hour'],\n",
      "      dtype='object')\n"
     ]
    }
   ],
   "source": [
    "print(crimes.columns)\n",
    "print(\"############################\")\n",
    "print(crimes_count.columns)\n",
    "print(\"############################\")\n",
    "print(data_top_10.columns)\n",
    "print(\"############################\")\n",
    "print(main_data.columns)"
   ]
  },
  {
   "cell_type": "code",
   "execution_count": 82,
   "id": "be2414fb",
   "metadata": {},
   "outputs": [
    {
     "name": "stdout",
     "output_type": "stream",
     "text": [
      "Table Created !\n"
     ]
    }
   ],
   "source": [
    "#create a connection object\n",
    "\n",
    "connection = psg.connect(database=\"Crimes\",user=\"postgres\",password=\"Harsh@2805\")\n",
    "\n",
    "#create a cursor\n",
    "\n",
    "cursor = connection.cursor()\n",
    "\n",
    "#creating table\n",
    "\n",
    "#creating table\n",
    "cursor.execute(\"DROP TABLE IF EXISTS Top_10_Crimes\")\n",
    "cursor.execute(\"create table Top_10_Crimes (Month int, Day int, District float, Hour int, \\\"Primary Type\\\" varchar)\")\n",
    "print(\"Table Created !\")\n",
    "connection.commit()"
   ]
  },
  {
   "cell_type": "code",
   "execution_count": 83,
   "id": "1ce1b686",
   "metadata": {},
   "outputs": [],
   "source": [
    "#create a connection object\n",
    "\n",
    "connection = psg.connect(database=\"Crimes\",user=\"postgres\",password=\"Harsh@2805\")\n",
    "\n",
    "#create a cursor\n",
    "\n",
    "cursor = connection.cursor()"
   ]
  },
  {
   "cell_type": "code",
   "execution_count": 84,
   "id": "818fe0c8",
   "metadata": {},
   "outputs": [],
   "source": [
    "# inserting the values\n",
    "\n",
    "for i in crimes.index:\n",
    "    vals=[crimes.at[i,col] for col in list(crimes.columns)]\n",
    "    q1=\"insert into Top_10_Crimes values('%s','%s','%f','%s','%s')\"%(vals[0],vals[1],vals[2],vals[3],vals[4])\n",
    "    cursor.execute(q1)"
   ]
  },
  {
   "cell_type": "code",
   "execution_count": 85,
   "id": "85bc505f",
   "metadata": {},
   "outputs": [],
   "source": [
    "connection.commit()"
   ]
  },
  {
   "cell_type": "code",
   "execution_count": 86,
   "id": "93287d92",
   "metadata": {},
   "outputs": [
    {
     "name": "stdout",
     "output_type": "stream",
     "text": [
      "Table Created !\n"
     ]
    }
   ],
   "source": [
    "#creating table\n",
    "\n",
    "cursor.execute(\"DROP TABLE IF EXISTS Top_10_Crime_Count\")\n",
    "cursor.execute(\"create table Top_10_Crime_Count (Month int, Day int, District float, Hour int, \\\"Primary Type\\\" varchar)\")\n",
    "print(\"Table Created !\")\n",
    "connection.commit()"
   ]
  },
  {
   "cell_type": "code",
   "execution_count": 87,
   "id": "63bf54b4",
   "metadata": {},
   "outputs": [],
   "source": [
    "# inserting the values\n",
    "\n",
    "for i in crimes_count.index:\n",
    "    vals=[crimes_count.at[i,col] for col in list(crimes_count.columns)]\n",
    "    q1=\"insert into Top_10_Crime_Count values('%s','%s','%f','%s','%s')\"%(vals[0],vals[1],vals[2],vals[3],vals[4])\n",
    "    cursor.execute(q1)"
   ]
  },
  {
   "cell_type": "code",
   "execution_count": 88,
   "id": "5bf3435d",
   "metadata": {},
   "outputs": [],
   "source": [
    "connection.commit()"
   ]
  },
  {
   "cell_type": "code",
   "execution_count": null,
   "id": "149f5800",
   "metadata": {},
   "outputs": [],
   "source": []
  },
  {
   "cell_type": "code",
   "execution_count": null,
   "id": "07238f78",
   "metadata": {},
   "outputs": [],
   "source": []
  },
  {
   "cell_type": "code",
   "execution_count": null,
   "id": "34d51093",
   "metadata": {},
   "outputs": [],
   "source": []
  },
  {
   "cell_type": "markdown",
   "id": "cf3aabc8",
   "metadata": {},
   "source": [
    "# EDA"
   ]
  },
  {
   "cell_type": "code",
   "execution_count": 35,
   "id": "1d267323",
   "metadata": {},
   "outputs": [
    {
     "name": "stdout",
     "output_type": "stream",
     "text": [
      "       Month  Day  District  Hour  Crime_Count\n",
      "16369      5    2      31.0     9            1\n",
      "2113       1    3      31.0    10            1\n",
      "12673      4    2      31.0    10            1\n",
      "1584       1    2      31.0    16            1\n",
      "1583       1    2      31.0    13            1\n"
     ]
    },
    {
     "data": {
      "text/plain": [
       "(44361, 5)"
      ]
     },
     "execution_count": 35,
     "metadata": {},
     "output_type": "execute_result"
    }
   ],
   "source": [
    "print(crimes_count.head())\n",
    "crimes_count.shape"
   ]
  },
  {
   "cell_type": "code",
   "execution_count": 36,
   "id": "c698cfdd",
   "metadata": {},
   "outputs": [
    {
     "name": "stdout",
     "output_type": "stream",
     "text": [
      "Highest Crime Count at any district at any time point: 93\n",
      "Lowest Crime Count at any district at any time point: 1\n"
     ]
    }
   ],
   "source": [
    "# Viewing the maximum and minmum crime counts\n",
    "print(\"Highest Crime Count at any district at any time point:\", crimes_count[\"Crime_Count\"].max())\n",
    "print(\"Lowest Crime Count at any district at any time point:\", crimes_count[\"Crime_Count\"].min())"
   ]
  },
  {
   "cell_type": "code",
   "execution_count": 183,
   "id": "4cb7b1ab",
   "metadata": {},
   "outputs": [
    {
     "name": "stdout",
     "output_type": "stream",
     "text": [
      "Average no. of crimes per ditrict per time point : 23.37\n"
     ]
    }
   ],
   "source": [
    "print(\"Average no. of crimes per ditrict per time point :\",round(crimes_count['Crime_Count'].sum()/crimes_count.shape[0], 2))"
   ]
  },
  {
   "cell_type": "code",
   "execution_count": 186,
   "id": "bb5577a2",
   "metadata": {},
   "outputs": [
    {
     "data": {
      "text/html": [
       "<div>\n",
       "<style scoped>\n",
       "    .dataframe tbody tr th:only-of-type {\n",
       "        vertical-align: middle;\n",
       "    }\n",
       "\n",
       "    .dataframe tbody tr th {\n",
       "        vertical-align: top;\n",
       "    }\n",
       "\n",
       "    .dataframe thead th {\n",
       "        text-align: right;\n",
       "    }\n",
       "</style>\n",
       "<table border=\"1\" class=\"dataframe\">\n",
       "  <thead>\n",
       "    <tr style=\"text-align: right;\">\n",
       "      <th></th>\n",
       "      <th>Month</th>\n",
       "      <th>Day</th>\n",
       "      <th>Hour</th>\n",
       "      <th>District</th>\n",
       "      <th>Crime_Count</th>\n",
       "      <th>Alarm</th>\n",
       "    </tr>\n",
       "  </thead>\n",
       "  <tbody>\n",
       "    <tr>\n",
       "      <th>count</th>\n",
       "      <td>44361.000000</td>\n",
       "      <td>44361.000000</td>\n",
       "      <td>44361.000000</td>\n",
       "      <td>44361.000000</td>\n",
       "      <td>44361.000000</td>\n",
       "      <td>44361.000000</td>\n",
       "    </tr>\n",
       "    <tr>\n",
       "      <th>mean</th>\n",
       "      <td>6.499628</td>\n",
       "      <td>3.000293</td>\n",
       "      <td>11.502581</td>\n",
       "      <td>12.190190</td>\n",
       "      <td>23.367102</td>\n",
       "      <td>0.928383</td>\n",
       "    </tr>\n",
       "    <tr>\n",
       "      <th>std</th>\n",
       "      <td>3.451631</td>\n",
       "      <td>1.999859</td>\n",
       "      <td>6.920862</td>\n",
       "      <td>7.151551</td>\n",
       "      <td>12.531541</td>\n",
       "      <td>0.696077</td>\n",
       "    </tr>\n",
       "    <tr>\n",
       "      <th>min</th>\n",
       "      <td>1.000000</td>\n",
       "      <td>0.000000</td>\n",
       "      <td>0.000000</td>\n",
       "      <td>1.000000</td>\n",
       "      <td>1.000000</td>\n",
       "      <td>0.000000</td>\n",
       "    </tr>\n",
       "    <tr>\n",
       "      <th>25%</th>\n",
       "      <td>4.000000</td>\n",
       "      <td>1.000000</td>\n",
       "      <td>6.000000</td>\n",
       "      <td>6.000000</td>\n",
       "      <td>13.000000</td>\n",
       "      <td>0.000000</td>\n",
       "    </tr>\n",
       "    <tr>\n",
       "      <th>50%</th>\n",
       "      <td>7.000000</td>\n",
       "      <td>3.000000</td>\n",
       "      <td>12.000000</td>\n",
       "      <td>12.000000</td>\n",
       "      <td>22.000000</td>\n",
       "      <td>1.000000</td>\n",
       "    </tr>\n",
       "    <tr>\n",
       "      <th>75%</th>\n",
       "      <td>9.000000</td>\n",
       "      <td>5.000000</td>\n",
       "      <td>18.000000</td>\n",
       "      <td>18.000000</td>\n",
       "      <td>32.000000</td>\n",
       "      <td>1.000000</td>\n",
       "    </tr>\n",
       "    <tr>\n",
       "      <th>max</th>\n",
       "      <td>12.000000</td>\n",
       "      <td>6.000000</td>\n",
       "      <td>23.000000</td>\n",
       "      <td>31.000000</td>\n",
       "      <td>93.000000</td>\n",
       "      <td>2.000000</td>\n",
       "    </tr>\n",
       "  </tbody>\n",
       "</table>\n",
       "</div>"
      ],
      "text/plain": [
       "              Month           Day          Hour      District   Crime_Count  \\\n",
       "count  44361.000000  44361.000000  44361.000000  44361.000000  44361.000000   \n",
       "mean       6.499628      3.000293     11.502581     12.190190     23.367102   \n",
       "std        3.451631      1.999859      6.920862      7.151551     12.531541   \n",
       "min        1.000000      0.000000      0.000000      1.000000      1.000000   \n",
       "25%        4.000000      1.000000      6.000000      6.000000     13.000000   \n",
       "50%        7.000000      3.000000     12.000000     12.000000     22.000000   \n",
       "75%        9.000000      5.000000     18.000000     18.000000     32.000000   \n",
       "max       12.000000      6.000000     23.000000     31.000000     93.000000   \n",
       "\n",
       "              Alarm  \n",
       "count  44361.000000  \n",
       "mean       0.928383  \n",
       "std        0.696077  \n",
       "min        0.000000  \n",
       "25%        0.000000  \n",
       "50%        1.000000  \n",
       "75%        1.000000  \n",
       "max        2.000000  "
      ]
     },
     "execution_count": 186,
     "metadata": {},
     "output_type": "execute_result"
    }
   ],
   "source": [
    "crimes_count.describe()"
   ]
  },
  {
   "cell_type": "code",
   "execution_count": 187,
   "id": "3961d850",
   "metadata": {},
   "outputs": [
    {
     "name": "stdout",
     "output_type": "stream",
     "text": [
      "<class 'pandas.core.frame.DataFrame'>\n",
      "Index: 44361 entries, 16369 to 22180\n",
      "Data columns (total 6 columns):\n",
      " #   Column       Non-Null Count  Dtype  \n",
      "---  ------       --------------  -----  \n",
      " 0   Month        44361 non-null  int64  \n",
      " 1   Day          44361 non-null  int64  \n",
      " 2   Hour         44361 non-null  int64  \n",
      " 3   District     44361 non-null  float64\n",
      " 4   Crime_Count  44361 non-null  int64  \n",
      " 5   Alarm        44361 non-null  int64  \n",
      "dtypes: float64(1), int64(5)\n",
      "memory usage: 3.4+ MB\n"
     ]
    }
   ],
   "source": [
    "crimes_count.info()"
   ]
  },
  {
   "cell_type": "code",
   "execution_count": 38,
   "id": "6fc35cee",
   "metadata": {},
   "outputs": [
    {
     "name": "stdout",
     "output_type": "stream",
     "text": [
      "13.96855215504785 32.765651311961456\n"
     ]
    }
   ],
   "source": [
    "# Inspecting our own lower and upper bounds to make a target variable \"Alarm\"\n",
    "\n",
    "lower = np.mean(crimes_count['Crime_Count'])-0.75*np.std(crimes_count['Crime_Count'])\n",
    "higher = np.mean(crimes_count['Crime_Count'])+0.75*np.std(crimes_count['Crime_Count'])\n",
    "print(lower, higher)"
   ]
  },
  {
   "cell_type": "code",
   "execution_count": 39,
   "id": "c6ebfc8a",
   "metadata": {},
   "outputs": [
    {
     "data": {
      "text/plain": [
       "Text(0.5, 1.0, 'Crime Count Distribution')"
      ]
     },
     "execution_count": 39,
     "metadata": {},
     "output_type": "execute_result"
    },
    {
     "data": {
      "image/png": "[encoded data removed]",
      "text/plain": [
       "<Figure size 640x480 with 1 Axes>"
      ]
     },
     "metadata": {},
     "output_type": "display_data"
    }
   ],
   "source": [
    "# Crime Count Distribution plot (We need to be using this plot in order to define our target variable \"Alarm\")\n",
    "\n",
    "plt.hist(x='Crime_Count', data=crimes_count,bins=90,linewidth=1,edgecolor='black')\n",
    "plt.title(\"Distribution of Crimes in Chicago\",fontsize=25)\n",
    "plt.xlabel(\"Crimes per month per district per hour per day\")\n",
    "plt.ylabel(\"Number of Occurences\")\n",
    "plt.title(\"Crime Count Distribution\")"
   ]
  },
  {
   "cell_type": "markdown",
   "id": "09de1b81",
   "metadata": {},
   "source": [
    "### 0-14 : Low Crime Rate\n",
    "### 15-33 : Medium Crime Rate\n",
    "### 34 and above : High Crime Rate"
   ]
  },
  {
   "cell_type": "code",
   "execution_count": 40,
   "id": "b71f6369",
   "metadata": {},
   "outputs": [
    {
     "data": {
      "text/html": [
       "<div>\n",
       "<style scoped>\n",
       "    .dataframe tbody tr th:only-of-type {\n",
       "        vertical-align: middle;\n",
       "    }\n",
       "\n",
       "    .dataframe tbody tr th {\n",
       "        vertical-align: top;\n",
       "    }\n",
       "\n",
       "    .dataframe thead th {\n",
       "        text-align: right;\n",
       "    }\n",
       "</style>\n",
       "<table border=\"1\" class=\"dataframe\">\n",
       "  <thead>\n",
       "    <tr style=\"text-align: right;\">\n",
       "      <th></th>\n",
       "      <th>Month</th>\n",
       "      <th>Day</th>\n",
       "      <th>Hour</th>\n",
       "      <th>District</th>\n",
       "      <th>Crime_Count</th>\n",
       "      <th>Alarm</th>\n",
       "    </tr>\n",
       "  </thead>\n",
       "  <tbody>\n",
       "    <tr>\n",
       "      <th>16369</th>\n",
       "      <td>5</td>\n",
       "      <td>2</td>\n",
       "      <td>9</td>\n",
       "      <td>31.0</td>\n",
       "      <td>1</td>\n",
       "      <td>0</td>\n",
       "    </tr>\n",
       "    <tr>\n",
       "      <th>2113</th>\n",
       "      <td>1</td>\n",
       "      <td>3</td>\n",
       "      <td>10</td>\n",
       "      <td>31.0</td>\n",
       "      <td>1</td>\n",
       "      <td>0</td>\n",
       "    </tr>\n",
       "    <tr>\n",
       "      <th>12673</th>\n",
       "      <td>4</td>\n",
       "      <td>2</td>\n",
       "      <td>10</td>\n",
       "      <td>31.0</td>\n",
       "      <td>1</td>\n",
       "      <td>0</td>\n",
       "    </tr>\n",
       "    <tr>\n",
       "      <th>1584</th>\n",
       "      <td>1</td>\n",
       "      <td>2</td>\n",
       "      <td>16</td>\n",
       "      <td>31.0</td>\n",
       "      <td>1</td>\n",
       "      <td>0</td>\n",
       "    </tr>\n",
       "    <tr>\n",
       "      <th>1583</th>\n",
       "      <td>1</td>\n",
       "      <td>2</td>\n",
       "      <td>13</td>\n",
       "      <td>31.0</td>\n",
       "      <td>1</td>\n",
       "      <td>0</td>\n",
       "    </tr>\n",
       "  </tbody>\n",
       "</table>\n",
       "</div>"
      ],
      "text/plain": [
       "       Month  Day  Hour  District  Crime_Count  Alarm\n",
       "16369      5    2     9      31.0            1      0\n",
       "2113       1    3    10      31.0            1      0\n",
       "12673      4    2    10      31.0            1      0\n",
       "1584       1    2    16      31.0            1      0\n",
       "1583       1    2    13      31.0            1      0"
      ]
     },
     "execution_count": 40,
     "metadata": {},
     "output_type": "execute_result"
    }
   ],
   "source": [
    "# Defining target variable\n",
    "\n",
    "def crime_rate_assign(x):\n",
    "    if(x<=14):\n",
    "        return 0\n",
    "    elif(x>14 and x<=33):\n",
    "        return 1\n",
    "    else:\n",
    "        return 2\n",
    "crimes_count['Alarm'] = crimes_count['Crime_Count'].apply(crime_rate_assign)\n",
    "crimes_count = crimes_count[['Month','Day','Hour','District','Crime_Count','Alarm']]    \n",
    "crimes_count.head()"
   ]
  },
  {
   "cell_type": "code",
   "execution_count": 41,
   "id": "fe1d2ecf",
   "metadata": {},
   "outputs": [
    {
     "data": {
      "text/plain": [
       "<AxesSubplot: >"
      ]
     },
     "execution_count": 41,
     "metadata": {},
     "output_type": "execute_result"
    },
    {
     "data": {
      "image/png": "[encoded data removed]",
      "text/plain": [
       "<Figure size 640x480 with 2 Axes>"
      ]
     },
     "metadata": {},
     "output_type": "display_data"
    }
   ],
   "source": [
    "# Correlation heatmap\n",
    "\n",
    "corr = crimes_count[['Month', 'Day', 'Hour', 'District', 'Alarm']]\n",
    "sns.heatmap(corr.corr(), annot=True)"
   ]
  },
  {
   "cell_type": "markdown",
   "id": "dc867b56",
   "metadata": {},
   "source": [
    "#### No strong correlation"
   ]
  },
  {
   "cell_type": "code",
   "execution_count": null,
   "id": "cf8144d0",
   "metadata": {},
   "outputs": [],
   "source": []
  },
  {
   "cell_type": "code",
   "execution_count": 120,
   "id": "f820b94f",
   "metadata": {},
   "outputs": [
    {
     "data": {
      "text/plain": [
       "1    22640\n",
       "0    12449\n",
       "2     9272\n",
       "Name: Alarm, dtype: int64"
      ]
     },
     "execution_count": 120,
     "metadata": {},
     "output_type": "execute_result"
    }
   ],
   "source": [
    "crimes_count['Alarm'].value_counts()"
   ]
  },
  {
   "cell_type": "code",
   "execution_count": 121,
   "id": "845f5f27",
   "metadata": {},
   "outputs": [
    {
     "name": "stdout",
     "output_type": "stream",
     "text": [
      "Low Crime Rate Percentage: 28.06\n",
      "Medium Crime Rate Percentage: 51.04\n",
      "High Crime Rate Percentage: 21\n"
     ]
    }
   ],
   "source": [
    "print(\"Low Crime Rate Percentage:\", round(crimes_count['Alarm'].value_counts()[0]/crimes_count['Alarm'].value_counts().sum()*100,2))\n",
    "print(\"Medium Crime Rate Percentage:\", round(crimes_count['Alarm'].value_counts()[1]/crimes_count['Alarm'].value_counts().sum()*100,2))\n",
    "print(\"High Crime Rate Percentage:\", round(crimes_count['Alarm'].value_counts()[2]/crimes_count['Alarm'].value_counts().sum()*100.2))"
   ]
  },
  {
   "cell_type": "code",
   "execution_count": 124,
   "id": "b7bf9fed",
   "metadata": {},
   "outputs": [
    {
     "data": {
      "text/plain": [
       "Text(0.5, 1.0, 'Alarm Types')"
      ]
     },
     "execution_count": 124,
     "metadata": {},
     "output_type": "execute_result"
    },
    {
     "data": {
      "image/png": "[encoded data removed]",
      "text/plain": [
       "<Figure size 640x480 with 1 Axes>"
      ]
     },
     "metadata": {},
     "output_type": "display_data"
    }
   ],
   "source": [
    "sns.countplot(data=crimes_count,x=\"Alarm\")\n",
    "plt.xlabel('Alarm')\n",
    "plt.title('Alarm Types',color = 'blue', fontsize = 15)"
   ]
  },
  {
   "cell_type": "code",
   "execution_count": null,
   "id": "aee155ea",
   "metadata": {},
   "outputs": [],
   "source": []
  },
  {
   "cell_type": "code",
   "execution_count": null,
   "id": "93be1dcf",
   "metadata": {},
   "outputs": [],
   "source": []
  },
  {
   "cell_type": "markdown",
   "id": "4190d05e",
   "metadata": {},
   "source": [
    "# Pandas Profiling Report"
   ]
  },
  {
   "cell_type": "code",
   "execution_count": 181,
   "id": "b554b02f",
   "metadata": {},
   "outputs": [],
   "source": [
    "from pandas_profiling import ProfileReport"
   ]
  },
  {
   "cell_type": "code",
   "execution_count": 182,
   "id": "bdcff965",
   "metadata": {},
   "outputs": [
    {
     "name": "stderr",
     "output_type": "stream",
     "text": [
      "Summarize dataset:  54%|███████████████████▍                | 7/13 [00:00<00:02,  2.31it/s, Calculate auto correlation]C:\\Users\\harsh\\anaconda3\\envs\\advpy\\lib\\site-packages\\multimethod\\__init__.py:315: FutureWarning: In a future version, `df.iloc[:, i] = newvals` will attempt to set the values inplace instead of always setting a new array. To retain the old behavior, use either `df[df.columns[i]] = newvals` or, if columns are non-unique, `df.isetitem(i, newvals)`\n",
      "  return func(*args, **kwargs)\n",
      "Summarize dataset: 100%|████████████████████████████████████████████████████| 40/40 [00:05<00:00,  6.90it/s, Completed]\n",
      "Generate report structure: 100%|█████████████████████████████████████████████████████████| 1/1 [00:01<00:00,  1.92s/it]\n",
      "Render HTML: 100%|███████████████████████████████████████████████████████████████████████| 1/1 [00:00<00:00,  1.34it/s]\n",
      "Export report to file: 100%|████████████████████████████████████████████████████████████| 1/1 [00:00<00:00, 165.74it/s]\n"
     ]
    }
   ],
   "source": [
    "profile = crimes_count.profile_report(title='Pandas Profiling Report')\n",
    "\n",
    "profile.to_file(output_file=\"pandas_profiling1.html\")"
   ]
  },
  {
   "cell_type": "code",
   "execution_count": null,
   "id": "224b9146",
   "metadata": {},
   "outputs": [],
   "source": []
  },
  {
   "cell_type": "code",
   "execution_count": null,
   "id": "5eeeb98f",
   "metadata": {},
   "outputs": [],
   "source": []
  },
  {
   "cell_type": "markdown",
   "id": "45de2b7e",
   "metadata": {},
   "source": [
    "# Creating test data"
   ]
  },
  {
   "cell_type": "markdown",
   "id": "d7e45b0a",
   "metadata": {},
   "source": [
    "#### Training data = 75% of the 2015 to 2019 crimes data\n",
    "\n",
    "#### Testing data = 25% of the 2015 to 2019 crimes data & Crime records from 2012 to 2014"
   ]
  },
  {
   "cell_type": "code",
   "execution_count": 44,
   "id": "38e86dfd",
   "metadata": {},
   "outputs": [
    {
     "name": "stdout",
     "output_type": "stream",
     "text": [
      "Finished Loading Chicago Crime Dataset File for the year 2013.\n",
      "Finished loading Chicago Crime Dataset file for the year 2012.\n"
     ]
    },
    {
     "name": "stderr",
     "output_type": "stream",
     "text": [
      "D:\\Harsh\\SIG\\SEM 2\\Mini Project ML and Python\\utils\\util_script.py:28: FutureWarning: The frame.append method is deprecated and will be removed from pandas in a future version. Use pandas.concat instead.\n",
      "  main_df = main_df.append(df_temp, ignore_index=True)\n"
     ]
    },
    {
     "name": "stdout",
     "output_type": "stream",
     "text": [
      "Finished loading Chicago Crime Dataset file for the year 2014.\n",
      "All data files loaded onto the Main Dataframe.\n",
      "\n",
      "\n"
     ]
    },
    {
     "name": "stderr",
     "output_type": "stream",
     "text": [
      "D:\\Harsh\\SIG\\SEM 2\\Mini Project ML and Python\\utils\\util_script.py:28: FutureWarning: The frame.append method is deprecated and will be removed from pandas in a future version. Use pandas.concat instead.\n",
      "  main_df = main_df.append(df_temp, ignore_index=True)\n"
     ]
    }
   ],
   "source": [
    "# Preparing the test Dataset of the Crime records from 2012 to 2014\n",
    "\n",
    "test_files = ['crimes_2013.csv', 'crimes_2012.csv', 'crimes_2014.csv']\n",
    "test_files = [paths+x for x in test_files]\n",
    "test_2012_to_2014 = us.create_df(test_files)"
   ]
  },
  {
   "cell_type": "code",
   "execution_count": 45,
   "id": "e983774d",
   "metadata": {},
   "outputs": [],
   "source": [
    "# Drop missing values\n",
    "test_2012_to_2014 = test_2012_to_2014.dropna()\n",
    "\n",
    "# Using apply() of pandas to apply time_convert on every row of the Date column\n",
    "test_2012_to_2014['Date'] = test_2012_to_2014['Date'].apply(time_convert)\n",
    "\n",
    "# Feature Engineering of columns\n",
    "test_2012_to_2014['Month'] = test_2012_to_2014['Date'].apply(month_col)\n",
    "test_2012_to_2014['Day'] = test_2012_to_2014['Date'].apply(day_col)\n",
    "test_2012_to_2014['Hour'] = test_2012_to_2014['Date'].apply(hour_col)"
   ]
  },
  {
   "cell_type": "code",
   "execution_count": 46,
   "id": "0fb291d9",
   "metadata": {},
   "outputs": [
    {
     "data": {
      "text/html": [
       "<div>\n",
       "<style scoped>\n",
       "    .dataframe tbody tr th:only-of-type {\n",
       "        vertical-align: middle;\n",
       "    }\n",
       "\n",
       "    .dataframe tbody tr th {\n",
       "        vertical-align: top;\n",
       "    }\n",
       "\n",
       "    .dataframe thead th {\n",
       "        text-align: right;\n",
       "    }\n",
       "</style>\n",
       "<table border=\"1\" class=\"dataframe\">\n",
       "  <thead>\n",
       "    <tr style=\"text-align: right;\">\n",
       "      <th></th>\n",
       "      <th>ID</th>\n",
       "      <th>Case Number</th>\n",
       "      <th>Date</th>\n",
       "      <th>Block</th>\n",
       "      <th>IUCR</th>\n",
       "      <th>Primary Type</th>\n",
       "      <th>Description</th>\n",
       "      <th>Location Description</th>\n",
       "      <th>Arrest</th>\n",
       "      <th>Domestic</th>\n",
       "      <th>...</th>\n",
       "      <th>X Coordinate</th>\n",
       "      <th>Y Coordinate</th>\n",
       "      <th>Year</th>\n",
       "      <th>Updated On</th>\n",
       "      <th>Latitude</th>\n",
       "      <th>Longitude</th>\n",
       "      <th>Location</th>\n",
       "      <th>Month</th>\n",
       "      <th>Day</th>\n",
       "      <th>Hour</th>\n",
       "    </tr>\n",
       "  </thead>\n",
       "  <tbody>\n",
       "    <tr>\n",
       "      <th>0</th>\n",
       "      <td>9566267</td>\n",
       "      <td>HX217110</td>\n",
       "      <td>2013-12-31 23:59:00</td>\n",
       "      <td>029XX N MILWAUKEE AVE</td>\n",
       "      <td>1153</td>\n",
       "      <td>DECEPTIVE PRACTICE</td>\n",
       "      <td>FINANCIAL IDENTITY THEFT OVER $ 300</td>\n",
       "      <td>FACTORY/MANUFACTURING BUILDING</td>\n",
       "      <td>False</td>\n",
       "      <td>False</td>\n",
       "      <td>...</td>\n",
       "      <td>1152212.0</td>\n",
       "      <td>1919266.0</td>\n",
       "      <td>2013</td>\n",
       "      <td>02/10/2018 03:50:01 PM</td>\n",
       "      <td>41.934334</td>\n",
       "      <td>-87.716036</td>\n",
       "      <td>(41.934334428, -87.716036114)</td>\n",
       "      <td>12</td>\n",
       "      <td>2</td>\n",
       "      <td>23</td>\n",
       "    </tr>\n",
       "    <tr>\n",
       "      <th>1</th>\n",
       "      <td>9448361</td>\n",
       "      <td>HX101619</td>\n",
       "      <td>2013-12-31 23:55:00</td>\n",
       "      <td>050XX W MONROE ST</td>\n",
       "      <td>0460</td>\n",
       "      <td>BATTERY</td>\n",
       "      <td>SIMPLE</td>\n",
       "      <td>APARTMENT</td>\n",
       "      <td>True</td>\n",
       "      <td>False</td>\n",
       "      <td>...</td>\n",
       "      <td>1142672.0</td>\n",
       "      <td>1899189.0</td>\n",
       "      <td>2013</td>\n",
       "      <td>02/10/2018 03:50:01 PM</td>\n",
       "      <td>41.879424</td>\n",
       "      <td>-87.751596</td>\n",
       "      <td>(41.879424049, -87.751596296)</td>\n",
       "      <td>12</td>\n",
       "      <td>2</td>\n",
       "      <td>23</td>\n",
       "    </tr>\n",
       "    <tr>\n",
       "      <th>2</th>\n",
       "      <td>9446989</td>\n",
       "      <td>HX100312</td>\n",
       "      <td>2013-12-31 23:50:00</td>\n",
       "      <td>022XX W JACKSON BLVD</td>\n",
       "      <td>0420</td>\n",
       "      <td>BATTERY</td>\n",
       "      <td>AGGRAVATED:KNIFE/CUTTING INSTR</td>\n",
       "      <td>APARTMENT</td>\n",
       "      <td>False</td>\n",
       "      <td>True</td>\n",
       "      <td>...</td>\n",
       "      <td>1161633.0</td>\n",
       "      <td>1898661.0</td>\n",
       "      <td>2013</td>\n",
       "      <td>02/10/2018 03:50:01 PM</td>\n",
       "      <td>41.877601</td>\n",
       "      <td>-87.681989</td>\n",
       "      <td>(41.87760139, -87.681988957)</td>\n",
       "      <td>12</td>\n",
       "      <td>2</td>\n",
       "      <td>23</td>\n",
       "    </tr>\n",
       "    <tr>\n",
       "      <th>3</th>\n",
       "      <td>9446913</td>\n",
       "      <td>HX100005</td>\n",
       "      <td>2013-12-31 23:50:00</td>\n",
       "      <td>087XX S PRINCETON AVE</td>\n",
       "      <td>0486</td>\n",
       "      <td>BATTERY</td>\n",
       "      <td>DOMESTIC BATTERY SIMPLE</td>\n",
       "      <td>RESIDENCE</td>\n",
       "      <td>False</td>\n",
       "      <td>True</td>\n",
       "      <td>...</td>\n",
       "      <td>1175694.0</td>\n",
       "      <td>1846768.0</td>\n",
       "      <td>2013</td>\n",
       "      <td>02/10/2018 03:50:01 PM</td>\n",
       "      <td>41.734898</td>\n",
       "      <td>-87.631916</td>\n",
       "      <td>(41.734897656, -87.631916024)</td>\n",
       "      <td>12</td>\n",
       "      <td>2</td>\n",
       "      <td>23</td>\n",
       "    </tr>\n",
       "    <tr>\n",
       "      <th>4</th>\n",
       "      <td>9446862</td>\n",
       "      <td>HX100007</td>\n",
       "      <td>2013-12-31 23:50:00</td>\n",
       "      <td>015XX E 57TH ST</td>\n",
       "      <td>0486</td>\n",
       "      <td>BATTERY</td>\n",
       "      <td>DOMESTIC BATTERY SIMPLE</td>\n",
       "      <td>STREET</td>\n",
       "      <td>False</td>\n",
       "      <td>True</td>\n",
       "      <td>...</td>\n",
       "      <td>1187279.0</td>\n",
       "      <td>1867502.0</td>\n",
       "      <td>2013</td>\n",
       "      <td>02/10/2018 03:50:01 PM</td>\n",
       "      <td>41.791527</td>\n",
       "      <td>-87.588817</td>\n",
       "      <td>(41.791526694, -87.588816507)</td>\n",
       "      <td>12</td>\n",
       "      <td>2</td>\n",
       "      <td>23</td>\n",
       "    </tr>\n",
       "  </tbody>\n",
       "</table>\n",
       "<p>5 rows × 25 columns</p>\n",
       "</div>"
      ],
      "text/plain": [
       "        ID Case Number                Date                  Block  IUCR  \\\n",
       "0  9566267    HX217110 2013-12-31 23:59:00  029XX N MILWAUKEE AVE  1153   \n",
       "1  9448361    HX101619 2013-12-31 23:55:00      050XX W MONROE ST  0460   \n",
       "2  9446989    HX100312 2013-12-31 23:50:00   022XX W JACKSON BLVD  0420   \n",
       "3  9446913    HX100005 2013-12-31 23:50:00  087XX S PRINCETON AVE  0486   \n",
       "4  9446862    HX100007 2013-12-31 23:50:00        015XX E 57TH ST  0486   \n",
       "\n",
       "         Primary Type                          Description  \\\n",
       "0  DECEPTIVE PRACTICE  FINANCIAL IDENTITY THEFT OVER $ 300   \n",
       "1             BATTERY                               SIMPLE   \n",
       "2             BATTERY       AGGRAVATED:KNIFE/CUTTING INSTR   \n",
       "3             BATTERY              DOMESTIC BATTERY SIMPLE   \n",
       "4             BATTERY              DOMESTIC BATTERY SIMPLE   \n",
       "\n",
       "             Location Description  Arrest  Domestic  ...  X Coordinate  \\\n",
       "0  FACTORY/MANUFACTURING BUILDING   False     False  ...     1152212.0   \n",
       "1                       APARTMENT    True     False  ...     1142672.0   \n",
       "2                       APARTMENT   False      True  ...     1161633.0   \n",
       "3                       RESIDENCE   False      True  ...     1175694.0   \n",
       "4                          STREET   False      True  ...     1187279.0   \n",
       "\n",
       "   Y Coordinate  Year              Updated On   Latitude  Longitude  \\\n",
       "0     1919266.0  2013  02/10/2018 03:50:01 PM  41.934334 -87.716036   \n",
       "1     1899189.0  2013  02/10/2018 03:50:01 PM  41.879424 -87.751596   \n",
       "2     1898661.0  2013  02/10/2018 03:50:01 PM  41.877601 -87.681989   \n",
       "3     1846768.0  2013  02/10/2018 03:50:01 PM  41.734898 -87.631916   \n",
       "4     1867502.0  2013  02/10/2018 03:50:01 PM  41.791527 -87.588817   \n",
       "\n",
       "                        Location  Month Day  Hour  \n",
       "0  (41.934334428, -87.716036114)     12   2    23  \n",
       "1  (41.879424049, -87.751596296)     12   2    23  \n",
       "2   (41.87760139, -87.681988957)     12   2    23  \n",
       "3  (41.734897656, -87.631916024)     12   2    23  \n",
       "4  (41.791526694, -87.588816507)     12   2    23  \n",
       "\n",
       "[5 rows x 25 columns]"
      ]
     },
     "execution_count": 46,
     "metadata": {},
     "output_type": "execute_result"
    }
   ],
   "source": [
    "test_2012_to_2014.head()"
   ]
  },
  {
   "cell_type": "code",
   "execution_count": 47,
   "id": "b1935fba",
   "metadata": {},
   "outputs": [
    {
     "name": "stderr",
     "output_type": "stream",
     "text": [
      "C:\\Users\\harsh\\AppData\\Local\\Temp\\ipykernel_10536\\534351760.py:7: FutureWarning: The frame.append method is deprecated and will be removed from pandas in a future version. Use pandas.concat instead.\n",
      "  df2 = df2.append(temp, ignore_index=True)\n"
     ]
    },
    {
     "name": "stdout",
     "output_type": "stream",
     "text": [
      "       Month  Day  Hour  District  Crime_Count  Alarm\n",
      "28465      8    4    20        31            1      0\n",
      "24243      7    3    10        31            1      0\n",
      "25299      7    5    17        31            1      0\n",
      "32680      9    5    23        31            1      0\n",
      "28464      8    4     4        31            1      0\n"
     ]
    }
   ],
   "source": [
    "test_2012_to_2014_top_10 = filter_top_10(test_2012_to_2014)\n",
    "test_2012_to_2014_top_10_count = test_2012_to_2014_top_10.groupby([\"Month\", \"Day\", \"District\", \"Hour\"], as_index=False).agg({\"Primary Type\" : \"count\"})\n",
    "test_2012_to_2014_top_10_count = test_2012_to_2014_top_10_count.sort_values(by=[\"District\"], ascending=False)\n",
    "test_2012_to_2014_top_10_count_name = test_2012_to_2014_top_10_count.rename(index=str, columns={\"Primary Type\" : \"Crime_Count\"})\n",
    "test_2012_to_2014_top_10_count_name = test_2012_to_2014_top_10_count_name[[\"Month\", \"Day\", \"District\", \"Hour\", \"Crime_Count\"]]\n",
    "test_2012_to_2014_top_10_count_name['Alarm'] = test_2012_to_2014_top_10_count_name['Crime_Count'].apply(crime_rate_assign)\n",
    "test_2012_to_2014_top_10_count_name = test_2012_to_2014_top_10_count_name[['Month','Day','Hour','District','Crime_Count','Alarm']]    \n",
    "print(test_2012_to_2014_top_10_count_name.head())"
   ]
  },
  {
   "cell_type": "code",
   "execution_count": 48,
   "id": "a4778595",
   "metadata": {},
   "outputs": [
    {
     "name": "stdout",
     "output_type": "stream",
     "text": [
      "1    22933\n",
      "0    16979\n",
      "2     4353\n",
      "Name: Alarm, dtype: int64\n"
     ]
    }
   ],
   "source": [
    "print(test_2012_to_2014_top_10_count_name['Alarm'].value_counts())"
   ]
  },
  {
   "cell_type": "code",
   "execution_count": null,
   "id": "49239bda",
   "metadata": {},
   "outputs": [],
   "source": []
  },
  {
   "cell_type": "code",
   "execution_count": null,
   "id": "12fdec50",
   "metadata": {},
   "outputs": [],
   "source": []
  },
  {
   "cell_type": "code",
   "execution_count": null,
   "id": "4377ddea",
   "metadata": {},
   "outputs": [],
   "source": []
  },
  {
   "cell_type": "markdown",
   "id": "b7c29414",
   "metadata": {},
   "source": [
    "# Storing test data into database"
   ]
  },
  {
   "cell_type": "code",
   "execution_count": 111,
   "id": "3705c73c",
   "metadata": {},
   "outputs": [
    {
     "name": "stdout",
     "output_type": "stream",
     "text": [
      "Table Created !\n"
     ]
    }
   ],
   "source": [
    "#create a connection object\n",
    "\n",
    "connection = psg.connect(database=\"Crimes\",user=\"postgres\",password=\"Harsh@2805\")\n",
    "\n",
    "#create a cursor\n",
    "\n",
    "cursor = connection.cursor()\n",
    "\n",
    "#creating table\n",
    "\n",
    "#creating table\n",
    "cursor.execute(\"DROP TABLE IF EXISTS Test_2012_to_2014\")\n",
    "cursor.execute(\"create table Test_2012_to_2014 (Month int, Day int, District float, Hour int, \\\"Primary Type\\\" varchar)\")\n",
    "print(\"Table Created !\")\n",
    "connection.commit()"
   ]
  },
  {
   "cell_type": "code",
   "execution_count": 112,
   "id": "2d971dde",
   "metadata": {},
   "outputs": [],
   "source": [
    "# inserting the values\n",
    "\n",
    "for i in test_2012_to_2014_top_10_count_name.index:\n",
    "    vals=[test_2012_to_2014_top_10_count_name.at[i,col] for col in list(test_2012_to_2014_top_10_count_name.columns)]\n",
    "    q1=\"insert into Test_2012_to_2014 values('%s','%s','%f','%s','%s')\"%(vals[0],vals[1],vals[2],vals[3],vals[4])\n",
    "    cursor.execute(q1)"
   ]
  },
  {
   "cell_type": "code",
   "execution_count": 113,
   "id": "54604327",
   "metadata": {},
   "outputs": [],
   "source": [
    "connection.commit()"
   ]
  },
  {
   "cell_type": "code",
   "execution_count": null,
   "id": "5a3ac8a0",
   "metadata": {},
   "outputs": [],
   "source": []
  },
  {
   "cell_type": "code",
   "execution_count": null,
   "id": "9e1ae504",
   "metadata": {},
   "outputs": [],
   "source": []
  },
  {
   "cell_type": "code",
   "execution_count": null,
   "id": "54cbce1a",
   "metadata": {},
   "outputs": [],
   "source": []
  },
  {
   "cell_type": "markdown",
   "id": "6fb084cd",
   "metadata": {},
   "source": [
    "# Model Building"
   ]
  },
  {
   "cell_type": "markdown",
   "id": "ad0b67b7",
   "metadata": {},
   "source": [
    "### 1. Decision Tree"
   ]
  },
  {
   "cell_type": "code",
   "execution_count": 57,
   "id": "93c467dc",
   "metadata": {},
   "outputs": [],
   "source": [
    "from sklearn.tree import DecisionTreeClassifier\n",
    "from sklearn.model_selection import train_test_split\n",
    "from sklearn import metrics \n",
    "from sklearn.metrics import confusion_matrix, classification_report"
   ]
  },
  {
   "cell_type": "code",
   "execution_count": 58,
   "id": "5d0d4e78",
   "metadata": {},
   "outputs": [],
   "source": [
    "# Declaring X & Y\n",
    "\n",
    "X = crimes_count[['Month', 'Day', 'Hour', 'District']]\n",
    "y = crimes_count['Alarm']"
   ]
  },
  {
   "cell_type": "code",
   "execution_count": 59,
   "id": "93260ca1",
   "metadata": {},
   "outputs": [
    {
     "data": {
      "text/plain": [
       "((33270, 4), (11091, 4), (33270,), (11091,))"
      ]
     },
     "execution_count": 59,
     "metadata": {},
     "output_type": "execute_result"
    }
   ],
   "source": [
    "# Splitting the dataset\n",
    "\n",
    "X_train, X_test, y_train, y_test = train_test_split(X, y, test_size=0.25, random_state=101)\n",
    "X_train.shape, X_test.shape, y_train.shape, y_test.shape"
   ]
  },
  {
   "cell_type": "code",
   "execution_count": 60,
   "id": "35e305b6",
   "metadata": {},
   "outputs": [],
   "source": [
    "model1 = DecisionTreeClassifier(random_state=42)\n",
    "model1 = model1.fit(X_train, y_train)\n",
    "y_pred = model1.predict(X_test)"
   ]
  },
  {
   "cell_type": "code",
   "execution_count": 61,
   "id": "6d490451",
   "metadata": {},
   "outputs": [
    {
     "name": "stdout",
     "output_type": "stream",
     "text": [
      "Accuracy: 71.85105040122622\n",
      "\n",
      "---------------------------Confusion Matrix------------------------------------\n",
      "Predicted Alarm     0     1     2\n",
      "Actual Alarm                     \n",
      "0                2361   689     6\n",
      "1                 732  4094   875\n",
      "2                   1   819  1514\n",
      "\n",
      "----------------------Classification Report------------------------------------\n",
      "              precision    recall  f1-score   support\n",
      "\n",
      "           0       0.76      0.77      0.77      3056\n",
      "           1       0.73      0.72      0.72      5701\n",
      "           2       0.63      0.65      0.64      2334\n",
      "\n",
      "    accuracy                           0.72     11091\n",
      "   macro avg       0.71      0.71      0.71     11091\n",
      "weighted avg       0.72      0.72      0.72     11091\n",
      "\n"
     ]
    }
   ],
   "source": [
    "# Evaluation\n",
    "\n",
    "print(\"Accuracy:\",(metrics.accuracy_score(y_test, y_pred)*100))\n",
    "\n",
    "# Confusion Matrix for evaluating the model\n",
    "\n",
    "cm = pd.crosstab(y_test, y_pred, rownames=['Actual Alarm'], colnames=['Predicted Alarm'])\n",
    "print(\"\\n---------------------------Confusion Matrix------------------------------------\")\n",
    "print(cm)\n",
    "\n",
    "# Classification Report\n",
    "\n",
    "print(\"\\n----------------------Classification Report------------------------------------\")\n",
    "print(classification_report(y_test,y_pred))"
   ]
  },
  {
   "cell_type": "code",
   "execution_count": 62,
   "id": "6723d206",
   "metadata": {},
   "outputs": [
    {
     "data": {
      "image/png": "[encoded data removed]",
      "text/plain": [
       "<Figure size 1500x1000 with 2 Axes>"
      ]
     },
     "metadata": {},
     "output_type": "display_data"
    }
   ],
   "source": [
    "cm_nb = confusion_matrix(y_test,y_pred)\n",
    "\n",
    "f, ax = plt.subplots(figsize=(15,10))\n",
    "sns.heatmap(cm_nb, annot=True, linewidth=0.5, fmt=\".0f\",  cmap='viridis', ax = ax)\n",
    "plt.xlabel(\"Predicted\")\n",
    "plt.ylabel(\"Actual\")\n",
    "plt.title('Predicted vs actual')\n",
    "plt.show()"
   ]
  },
  {
   "cell_type": "markdown",
   "id": "bac88f1f",
   "metadata": {},
   "source": [
    "### Applying model on unseen data "
   ]
  },
  {
   "cell_type": "code",
   "execution_count": 63,
   "id": "7ea5d523",
   "metadata": {},
   "outputs": [],
   "source": [
    "X = test_2012_to_2014_top_10_count_name.iloc[:,0:4].values\n",
    "y = test_2012_to_2014_top_10_count_name.iloc[:,5].values"
   ]
  },
  {
   "cell_type": "code",
   "execution_count": 64,
   "id": "c8d2e078",
   "metadata": {},
   "outputs": [
    {
     "name": "stderr",
     "output_type": "stream",
     "text": [
      "C:\\Users\\harsh\\anaconda3\\envs\\advpy\\lib\\site-packages\\sklearn\\base.py:409: UserWarning: X does not have valid feature names, but DecisionTreeClassifier was fitted with feature names\n",
      "  warnings.warn(\n"
     ]
    }
   ],
   "source": [
    "y_pred = model1.predict(X)"
   ]
  },
  {
   "cell_type": "code",
   "execution_count": 65,
   "id": "89f80217",
   "metadata": {
    "scrolled": true
   },
   "outputs": [
    {
     "name": "stdout",
     "output_type": "stream",
     "text": [
      "Accuracy: 65.9188975488535\n",
      "\n",
      "----------------------Confusion Matrix------------------------------------\n",
      "Predicted Alarm      0      1     2\n",
      "Actual Alarm                       \n",
      "0                10908   5858   213\n",
      "1                 1481  15301  6151\n",
      "2                    5   1378  2970\n",
      "\n",
      "----------------Classification Report------------------------------------\n",
      "              precision    recall  f1-score   support\n",
      "\n",
      "           0       0.88      0.64      0.74     16979\n",
      "           1       0.68      0.67      0.67     22933\n",
      "           2       0.32      0.68      0.43      4353\n",
      "\n",
      "    accuracy                           0.66     44265\n",
      "   macro avg       0.63      0.66      0.62     44265\n",
      "weighted avg       0.72      0.66      0.68     44265\n",
      "\n"
     ]
    }
   ],
   "source": [
    "print(\"Accuracy:\",(metrics.accuracy_score(y, y_pred)*100))\n",
    "\n",
    "# Confusion Matrix for evaluating the model\n",
    "\n",
    "cm = pd.crosstab(y, y_pred, rownames=['Actual Alarm'], colnames=['Predicted Alarm'])\n",
    "print(\"\\n----------------------Confusion Matrix------------------------------------\")\n",
    "print(cm)\n",
    "\n",
    "# Classification Report\n",
    "\n",
    "print(\"\\n----------------Classification Report------------------------------------\")\n",
    "print(classification_report(y,y_pred))"
   ]
  },
  {
   "cell_type": "code",
   "execution_count": null,
   "id": "72ca5e46",
   "metadata": {},
   "outputs": [],
   "source": []
  },
  {
   "cell_type": "code",
   "execution_count": null,
   "id": "2b466152",
   "metadata": {},
   "outputs": [],
   "source": []
  },
  {
   "cell_type": "code",
   "execution_count": null,
   "id": "4f461146",
   "metadata": {},
   "outputs": [],
   "source": []
  },
  {
   "cell_type": "markdown",
   "id": "4e96be84",
   "metadata": {},
   "source": [
    "### 2. Random Forest"
   ]
  },
  {
   "cell_type": "code",
   "execution_count": 66,
   "id": "f1fa3b03",
   "metadata": {},
   "outputs": [],
   "source": [
    "from sklearn.model_selection import train_test_split\n",
    "from sklearn.preprocessing import StandardScaler\n",
    "from sklearn.ensemble import RandomForestClassifier\n",
    "from sklearn.metrics import confusion_matrix"
   ]
  },
  {
   "cell_type": "code",
   "execution_count": 67,
   "id": "814bea59",
   "metadata": {},
   "outputs": [
    {
     "data": {
      "text/plain": [
       "((33270, 4), (11091, 4), (33270,), (11091,))"
      ]
     },
     "execution_count": 67,
     "metadata": {},
     "output_type": "execute_result"
    }
   ],
   "source": [
    "X = crimes_count.iloc[:,0:4].values\n",
    "y = crimes_count.iloc[:,5].values\n",
    "\n",
    "X_train, X_test, y_train, y_test = train_test_split(X, y, test_size = 0.25, random_state = 42)\n",
    "X_train.shape, X_test.shape, y_train.shape, y_test.shape"
   ]
  },
  {
   "cell_type": "code",
   "execution_count": 68,
   "id": "2443600a",
   "metadata": {},
   "outputs": [],
   "source": [
    "model2 = RandomForestClassifier(n_estimators = 1000, criterion = 'entropy', random_state = 101)\n",
    "model2.fit(X_train, y_train)\n",
    "\n",
    "y_pred = model2.predict(X_test)"
   ]
  },
  {
   "cell_type": "code",
   "execution_count": 69,
   "id": "8cda8a42",
   "metadata": {},
   "outputs": [
    {
     "name": "stdout",
     "output_type": "stream",
     "text": [
      "Accuracy: 77.50428275178072 \n",
      "\n",
      "\n",
      "---------------------------Confusion Matrix------------------------------------\n",
      "Predicted Alarm     0     1     2\n",
      "Actual Alarm                     \n",
      "0                2522   652     0\n",
      "1                 513  4551   540\n",
      "2                   2   788  1523\n",
      "\n",
      "----------------------Classification Report------------------------------------\n",
      "              precision    recall  f1-score   support\n",
      "\n",
      "           0       0.83      0.79      0.81      3174\n",
      "           1       0.76      0.81      0.78      5604\n",
      "           2       0.74      0.66      0.70      2313\n",
      "\n",
      "    accuracy                           0.78     11091\n",
      "   macro avg       0.78      0.76      0.76     11091\n",
      "weighted avg       0.78      0.78      0.77     11091\n",
      "\n"
     ]
    }
   ],
   "source": [
    "print(\"Accuracy:\",(metrics.accuracy_score(y_test, y_pred)*100),\"\\n\")\n",
    "\n",
    "cm = pd.crosstab(y_test, y_pred, rownames=['Actual Alarm'], colnames=['Predicted Alarm'])\n",
    "print(\"\\n---------------------------Confusion Matrix------------------------------------\")\n",
    "print(cm)\n",
    "\n",
    "\n",
    "print(\"\\n----------------------Classification Report------------------------------------\")\n",
    "print(classification_report(y_test,y_pred))"
   ]
  },
  {
   "cell_type": "code",
   "execution_count": 70,
   "id": "85280a83",
   "metadata": {},
   "outputs": [
    {
     "data": {
      "image/png": "[encoded data removed]",
      "text/plain": [
       "<Figure size 1500x1000 with 2 Axes>"
      ]
     },
     "metadata": {},
     "output_type": "display_data"
    }
   ],
   "source": [
    "cm_nb = confusion_matrix(y_test,y_pred)\n",
    "\n",
    "f, ax = plt.subplots(figsize=(15,10))\n",
    "sns.heatmap(cm_nb, annot=True, linewidth=0.5, fmt=\".0f\",  cmap='viridis', ax = ax)\n",
    "plt.xlabel(\"Predicted\")\n",
    "plt.ylabel(\"Actual\")\n",
    "plt.title('Predicted vs actual')\n",
    "plt.show()"
   ]
  },
  {
   "cell_type": "markdown",
   "id": "cd15dd1a",
   "metadata": {},
   "source": [
    "### Applying model on unseen data"
   ]
  },
  {
   "cell_type": "code",
   "execution_count": 71,
   "id": "94e6ce11",
   "metadata": {},
   "outputs": [],
   "source": [
    "X = test_2012_to_2014_top_10_count_name.iloc[:,0:4].values\n",
    "y = test_2012_to_2014_top_10_count_name.iloc[:,5].values"
   ]
  },
  {
   "cell_type": "code",
   "execution_count": 72,
   "id": "71d23aac",
   "metadata": {},
   "outputs": [],
   "source": [
    "y_pred = model2.predict(X)"
   ]
  },
  {
   "cell_type": "code",
   "execution_count": 73,
   "id": "8a444780",
   "metadata": {},
   "outputs": [
    {
     "name": "stdout",
     "output_type": "stream",
     "text": [
      "Accuracy: 67.35795775443353 \n",
      "\n",
      "\n",
      "--------------------------Confusion Matrix------------------------------------\n",
      "Predicted Alarm      0      1     2\n",
      "Actual Alarm                       \n",
      "0                10954   5833   192\n",
      "1                 1263  15851  5819\n",
      "2                    1   1341  3011\n",
      "\n",
      "---------------------Classification Report------------------------------------\n",
      "              precision    recall  f1-score   support\n",
      "\n",
      "           0       0.90      0.65      0.75     16979\n",
      "           1       0.69      0.69      0.69     22933\n",
      "           2       0.33      0.69      0.45      4353\n",
      "\n",
      "    accuracy                           0.67     44265\n",
      "   macro avg       0.64      0.68      0.63     44265\n",
      "weighted avg       0.73      0.67      0.69     44265\n",
      "\n"
     ]
    }
   ],
   "source": [
    "print(\"Accuracy:\",(metrics.accuracy_score(y, y_pred)*100),\"\\n\")\n",
    "\n",
    "cm = pd.crosstab(y, y_pred, rownames=['Actual Alarm'], colnames=['Predicted Alarm'])\n",
    "print(\"\\n--------------------------Confusion Matrix------------------------------------\")\n",
    "print(cm)\n",
    "\n",
    "print(\"\\n---------------------Classification Report------------------------------------\")\n",
    "print(classification_report(y,y_pred))"
   ]
  },
  {
   "cell_type": "code",
   "execution_count": null,
   "id": "a74df329",
   "metadata": {},
   "outputs": [],
   "source": []
  },
  {
   "cell_type": "code",
   "execution_count": null,
   "id": "addbc634",
   "metadata": {},
   "outputs": [],
   "source": []
  },
  {
   "cell_type": "markdown",
   "id": "c82cb20d",
   "metadata": {},
   "source": [
    "### 3. Naive Baye's"
   ]
  },
  {
   "cell_type": "code",
   "execution_count": 74,
   "id": "979527a8",
   "metadata": {},
   "outputs": [],
   "source": [
    "from sklearn.naive_bayes import GaussianNB\n",
    "from sklearn.model_selection import train_test_split\n",
    "from sklearn import metrics \n",
    "from sklearn.metrics import confusion_matrix, classification_report"
   ]
  },
  {
   "cell_type": "code",
   "execution_count": 75,
   "id": "2410818e",
   "metadata": {},
   "outputs": [],
   "source": [
    "X = crimes_count.iloc[:,0:4].values\n",
    "y = crimes_count.iloc[:,5].values"
   ]
  },
  {
   "cell_type": "code",
   "execution_count": 76,
   "id": "7e6a39c5",
   "metadata": {},
   "outputs": [
    {
     "data": {
      "text/plain": [
       "((33270, 4), (11091, 4), (33270,), (11091,))"
      ]
     },
     "execution_count": 76,
     "metadata": {},
     "output_type": "execute_result"
    }
   ],
   "source": [
    "X_train, X_test, y_train, y_test = train_test_split(X, y, test_size=0.25, random_state=42)\n",
    "X_train.shape, X_test.shape, y_train.shape, y_test.shape"
   ]
  },
  {
   "cell_type": "code",
   "execution_count": 77,
   "id": "f35517b0",
   "metadata": {},
   "outputs": [],
   "source": [
    "#Create a Gaussian Classifier\n",
    "\n",
    "model3 = GaussianNB()\n",
    "\n",
    "#Train the model using the training sets\n",
    "\n",
    "model3.fit(X_train, y_train)\n",
    "\n",
    "#Predict the response for test dataset\n",
    "\n",
    "y_pred = model3.predict(X_test)"
   ]
  },
  {
   "cell_type": "code",
   "execution_count": 78,
   "id": "19d8bfeb",
   "metadata": {},
   "outputs": [
    {
     "name": "stdout",
     "output_type": "stream",
     "text": [
      "Accuracy: 57.80362456045442 \n",
      "\n",
      "\n",
      "------------------------------Confusion Matrix------------------------------------\n",
      "Predicted Alarm     0     1    2\n",
      "Actual Alarm                    \n",
      "0                1875  1295    4\n",
      "1                1078  4390  136\n",
      "2                 151  2016  146\n",
      "\n",
      "-------------------------Classification Report------------------------------------\n",
      "              precision    recall  f1-score   support\n",
      "\n",
      "           0       0.60      0.59      0.60      3174\n",
      "           1       0.57      0.78      0.66      5604\n",
      "           2       0.51      0.06      0.11      2313\n",
      "\n",
      "    accuracy                           0.58     11091\n",
      "   macro avg       0.56      0.48      0.46     11091\n",
      "weighted avg       0.57      0.58      0.53     11091\n",
      "\n"
     ]
    }
   ],
   "source": [
    "print(\"Accuracy:\",(metrics.accuracy_score(y_test, y_pred)*100),\"\\n\")\n",
    "\n",
    "cm = pd.crosstab(y_test, y_pred, rownames=['Actual Alarm'], colnames=['Predicted Alarm'])\n",
    "print(\"\\n------------------------------Confusion Matrix------------------------------------\")\n",
    "print(cm)\n",
    "\n",
    "print(\"\\n-------------------------Classification Report------------------------------------\")\n",
    "print(classification_report(y_test,y_pred))"
   ]
  },
  {
   "cell_type": "code",
   "execution_count": 79,
   "id": "f987c3f1",
   "metadata": {},
   "outputs": [
    {
     "data": {
      "image/png": "[encoded data removed]",
      "text/plain": [
       "<Figure size 1500x1000 with 2 Axes>"
      ]
     },
     "metadata": {},
     "output_type": "display_data"
    }
   ],
   "source": [
    "cm_nb = confusion_matrix(y_test,y_pred)\n",
    "\n",
    "f, ax = plt.subplots(figsize=(15,10))\n",
    "sns.heatmap(cm_nb, annot=True, linewidth=0.5, fmt=\".0f\",  cmap='viridis', ax = ax)\n",
    "plt.xlabel(\"Predicted\")\n",
    "plt.ylabel(\"Actual\")\n",
    "plt.title('Predicted vs actual')\n",
    "plt.show()"
   ]
  },
  {
   "cell_type": "markdown",
   "id": "12f45861",
   "metadata": {},
   "source": [
    "### Applying model n unseen data"
   ]
  },
  {
   "cell_type": "code",
   "execution_count": 80,
   "id": "c54822fe",
   "metadata": {},
   "outputs": [],
   "source": [
    "X = test_2012_to_2014_top_10_count_name.iloc[:,0:4].values\n",
    "y = test_2012_to_2014_top_10_count_name.iloc[:,5].values"
   ]
  },
  {
   "cell_type": "code",
   "execution_count": 81,
   "id": "b5da8610",
   "metadata": {},
   "outputs": [],
   "source": [
    "y_pred = model3.predict(X)"
   ]
  },
  {
   "cell_type": "code",
   "execution_count": 82,
   "id": "4e92c644",
   "metadata": {},
   "outputs": [
    {
     "name": "stdout",
     "output_type": "stream",
     "text": [
      "Accuracy: 62.123573929741326 \n",
      "\n",
      "\n",
      "--------------------------Confusion Matrix------------------------------------\n",
      "Predicted Alarm     0      1    2\n",
      "Actual Alarm                     \n",
      "0                8571   8279  129\n",
      "1                3267  18756  910\n",
      "2                 338   3843  172\n",
      "\n",
      "---------------------Classification Report------------------------------------\n",
      "              precision    recall  f1-score   support\n",
      "\n",
      "           0       0.70      0.50      0.59     16979\n",
      "           1       0.61      0.82      0.70     22933\n",
      "           2       0.14      0.04      0.06      4353\n",
      "\n",
      "    accuracy                           0.62     44265\n",
      "   macro avg       0.48      0.45      0.45     44265\n",
      "weighted avg       0.60      0.62      0.59     44265\n",
      "\n"
     ]
    }
   ],
   "source": [
    "print(\"Accuracy:\",(metrics.accuracy_score(y, y_pred)*100),\"\\n\")\n",
    "\n",
    "cm = pd.crosstab(y, y_pred, rownames=['Actual Alarm'], colnames=['Predicted Alarm'])\n",
    "print(\"\\n--------------------------Confusion Matrix------------------------------------\")\n",
    "print(cm)\n",
    "\n",
    "print(\"\\n---------------------Classification Report------------------------------------\")\n",
    "print(classification_report(y,y_pred))"
   ]
  },
  {
   "cell_type": "code",
   "execution_count": 188,
   "id": "3eb17c63",
   "metadata": {},
   "outputs": [
    {
     "data": {
      "image/png": "[encoded data removed]",
      "text/plain": [
       "<Figure size 1500x1000 with 2 Axes>"
      ]
     },
     "metadata": {},
     "output_type": "display_data"
    }
   ],
   "source": [
    "cm_nb = confusion_matrix(y,y_pred)\n",
    "\n",
    "f, ax = plt.subplots(figsize=(15,10))\n",
    "sns.heatmap(cm_nb, annot=True, linewidth=0.5, fmt=\".0f\",  cmap='viridis', ax = ax)\n",
    "plt.xlabel(\"Predicted\")\n",
    "plt.ylabel(\"Actual\")\n",
    "plt.title('Predicted vs actual')\n",
    "plt.show()"
   ]
  },
  {
   "cell_type": "code",
   "execution_count": null,
   "id": "32e87f93",
   "metadata": {},
   "outputs": [],
   "source": []
  },
  {
   "cell_type": "code",
   "execution_count": null,
   "id": "3242e2d4",
   "metadata": {},
   "outputs": [],
   "source": []
  },
  {
   "cell_type": "markdown",
   "id": "93d2e0b1",
   "metadata": {},
   "source": [
    "### 4. KNN classifier"
   ]
  },
  {
   "cell_type": "code",
   "execution_count": 83,
   "id": "cb1e23e7",
   "metadata": {},
   "outputs": [],
   "source": [
    "from sklearn.neighbors import KNeighborsClassifier\n",
    "from sklearn import metrics\n",
    "from sklearn.model_selection import train_test_split"
   ]
  },
  {
   "cell_type": "code",
   "execution_count": 84,
   "id": "d1793e31",
   "metadata": {},
   "outputs": [],
   "source": [
    "X = crimes_count.iloc[:,0:4].values\n",
    "y = crimes_count.iloc[:,5].values"
   ]
  },
  {
   "cell_type": "code",
   "execution_count": 85,
   "id": "19c91bfe",
   "metadata": {},
   "outputs": [
    {
     "data": {
      "text/plain": [
       "((33270, 4), (11091, 4), (33270,), (11091,))"
      ]
     },
     "execution_count": 85,
     "metadata": {},
     "output_type": "execute_result"
    }
   ],
   "source": [
    "X_train, X_test, y_train, y_test = train_test_split(X, y, test_size=0.25, random_state=42)\n",
    "X_train.shape, X_test.shape, y_train.shape, y_test.shape"
   ]
  },
  {
   "cell_type": "code",
   "execution_count": 86,
   "id": "e21248cb",
   "metadata": {},
   "outputs": [
    {
     "data": {
      "text/plain": [
       "Text(0.5, 1.0, 'Choosing k value for KNN Algorithm')"
      ]
     },
     "execution_count": 86,
     "metadata": {},
     "output_type": "execute_result"
    },
    {
     "data": {
      "image/png": "[encoded data removed]",
      "text/plain": [
       "<Figure size 640x480 with 1 Axes>"
      ]
     },
     "metadata": {},
     "output_type": "display_data"
    }
   ],
   "source": [
    "# To find out the optimum value of K which gives good accuracy\\\n",
    "\n",
    "k_vals = range(1,30)\n",
    "acc = []\n",
    "for k in k_vals:\n",
    "    model4 = KNeighborsClassifier(n_neighbors = k)\n",
    "    model4.fit(X_train, y_train)\n",
    "    y_pred = model4.predict(X_test)\n",
    "    acc.append(metrics.accuracy_score(y_test, y_pred))\n",
    "# plot the graph\n",
    "plt.plot(k_vals,acc)\n",
    "plt.xlabel('Value of k')\n",
    "plt.ylabel('Accuracy')\n",
    "plt.title('Choosing k value for KNN Algorithm')"
   ]
  },
  {
   "cell_type": "code",
   "execution_count": 87,
   "id": "1d5f4d89",
   "metadata": {},
   "outputs": [],
   "source": [
    "from sklearn.neighbors import KNeighborsClassifier\n",
    "from sklearn import metrics\n",
    "from sklearn.model_selection import train_test_split"
   ]
  },
  {
   "cell_type": "code",
   "execution_count": 88,
   "id": "a8392a3a",
   "metadata": {},
   "outputs": [],
   "source": [
    "X = crimes_count.iloc[:,0:4].values\n",
    "y = crimes_count.iloc[:,5].values"
   ]
  },
  {
   "cell_type": "code",
   "execution_count": 89,
   "id": "d918a44f",
   "metadata": {},
   "outputs": [
    {
     "data": {
      "text/plain": [
       "((33270, 4), (11091, 4), (33270,), (11091,))"
      ]
     },
     "execution_count": 89,
     "metadata": {},
     "output_type": "execute_result"
    }
   ],
   "source": [
    "X_train, X_test, y_train, y_test = train_test_split(X, y, test_size=0.25, random_state=42)\n",
    "X_train.shape, X_test.shape, y_train.shape, y_test.shape"
   ]
  },
  {
   "cell_type": "code",
   "execution_count": 90,
   "id": "2b558cad",
   "metadata": {},
   "outputs": [],
   "source": [
    "model4_1 = KNeighborsClassifier(n_neighbors = 5)\n",
    "model4_1.fit(X_train, y_train)\n",
    "y_pred = model4_1.predict(X_test)"
   ]
  },
  {
   "cell_type": "code",
   "execution_count": 91,
   "id": "b3b74c74",
   "metadata": {},
   "outputs": [
    {
     "name": "stdout",
     "output_type": "stream",
     "text": [
      "Accuracy: 75.57479037057074 \n",
      "\n",
      "\n",
      "------------------------Confusion Matrix------------------------------------\n",
      "Predicted Alarm     0     1     2\n",
      "Actual Alarm                     \n",
      "0                2536   638     0\n",
      "1                 591  4462   551\n",
      "2                  14   915  1384\n",
      "\n",
      "-------------------Classification Report------------------------------------\n",
      "              precision    recall  f1-score   support\n",
      "\n",
      "           0       0.81      0.80      0.80      3174\n",
      "           1       0.74      0.80      0.77      5604\n",
      "           2       0.72      0.60      0.65      2313\n",
      "\n",
      "    accuracy                           0.76     11091\n",
      "   macro avg       0.75      0.73      0.74     11091\n",
      "weighted avg       0.76      0.76      0.75     11091\n",
      "\n"
     ]
    }
   ],
   "source": [
    "print(\"Accuracy:\",(metrics.accuracy_score(y_test, y_pred)*100),\"\\n\")\n",
    "\n",
    "cm = pd.crosstab(y_test, y_pred, rownames=['Actual Alarm'], colnames=['Predicted Alarm'])\n",
    "print(\"\\n------------------------Confusion Matrix------------------------------------\")\n",
    "print(cm)\n",
    "\n",
    "print(\"\\n-------------------Classification Report------------------------------------\")\n",
    "print(classification_report(y_test,y_pred))"
   ]
  },
  {
   "cell_type": "code",
   "execution_count": 92,
   "id": "ec6c3a29",
   "metadata": {},
   "outputs": [
    {
     "data": {
      "image/png": "[encoded data removed]",
      "text/plain": [
       "<Figure size 1500x1000 with 2 Axes>"
      ]
     },
     "metadata": {},
     "output_type": "display_data"
    }
   ],
   "source": [
    "cm_nb = confusion_matrix(y_test,y_pred)\n",
    "\n",
    "f, ax = plt.subplots(figsize=(15,10))\n",
    "sns.heatmap(cm_nb, annot=True, linewidth=0.5, fmt=\".0f\",  cmap='viridis', ax = ax)\n",
    "plt.xlabel(\"Predicted\")\n",
    "plt.ylabel(\"Actual\")\n",
    "plt.title('Predicted vs actual')\n",
    "plt.show()"
   ]
  },
  {
   "cell_type": "markdown",
   "id": "98fe1ce5",
   "metadata": {},
   "source": [
    "### Applying on unseen data"
   ]
  },
  {
   "cell_type": "code",
   "execution_count": 93,
   "id": "f375eb56",
   "metadata": {},
   "outputs": [],
   "source": [
    "X = test_2012_to_2014_top_10_count_name.iloc[:,0:4].values\n",
    "y = test_2012_to_2014_top_10_count_name.iloc[:,5].values"
   ]
  },
  {
   "cell_type": "code",
   "execution_count": 94,
   "id": "a49447b3",
   "metadata": {},
   "outputs": [],
   "source": [
    "y_pred = model4_1.predict(X)"
   ]
  },
  {
   "cell_type": "code",
   "execution_count": 95,
   "id": "4482b17c",
   "metadata": {},
   "outputs": [
    {
     "name": "stdout",
     "output_type": "stream",
     "text": [
      "Accuracy: 69.69388907714898 \n",
      "\n",
      "\n",
      "------------------------------Confusion Matrix------------------------------------\n",
      "Predicted Alarm      0      1     2\n",
      "Actual Alarm                       \n",
      "0                11111   5750   118\n",
      "1                 1109  16861  4963\n",
      "2                    9   1466  2878\n",
      "\n",
      "-------------------------Classification Report------------------------------------\n",
      "              precision    recall  f1-score   support\n",
      "\n",
      "           0       0.91      0.65      0.76     16979\n",
      "           1       0.70      0.74      0.72     22933\n",
      "           2       0.36      0.66      0.47      4353\n",
      "\n",
      "    accuracy                           0.70     44265\n",
      "   macro avg       0.66      0.68      0.65     44265\n",
      "weighted avg       0.75      0.70      0.71     44265\n",
      "\n"
     ]
    }
   ],
   "source": [
    "print(\"Accuracy:\",(metrics.accuracy_score(y, y_pred)*100),\"\\n\")\n",
    "\n",
    "cm = pd.crosstab(y, y_pred, rownames=['Actual Alarm'], colnames=['Predicted Alarm'])\n",
    "print(\"\\n------------------------------Confusion Matrix------------------------------------\")\n",
    "print(cm)\n",
    "\n",
    "print(\"\\n-------------------------Classification Report------------------------------------\")\n",
    "print(classification_report(y,y_pred))"
   ]
  },
  {
   "cell_type": "code",
   "execution_count": null,
   "id": "43fe6175",
   "metadata": {},
   "outputs": [],
   "source": []
  },
  {
   "cell_type": "code",
   "execution_count": null,
   "id": "d34166d1",
   "metadata": {},
   "outputs": [],
   "source": []
  },
  {
   "cell_type": "code",
   "execution_count": null,
   "id": "faf36596",
   "metadata": {},
   "outputs": [],
   "source": []
  },
  {
   "cell_type": "markdown",
   "id": "c1732471",
   "metadata": {},
   "source": [
    "### 5. Logistic Regression"
   ]
  },
  {
   "cell_type": "code",
   "execution_count": 125,
   "id": "c1ef350e",
   "metadata": {},
   "outputs": [],
   "source": [
    "from sklearn.linear_model import LogisticRegression\n",
    "from sklearn.model_selection import train_test_split\n",
    "from sklearn import metrics"
   ]
  },
  {
   "cell_type": "code",
   "execution_count": 126,
   "id": "6ef3f2b1",
   "metadata": {},
   "outputs": [],
   "source": [
    "X = crimes_count.iloc[:,0:4].values\n",
    "y = crimes_count.iloc[:,5].values"
   ]
  },
  {
   "cell_type": "code",
   "execution_count": 127,
   "id": "e3ff3fe4",
   "metadata": {},
   "outputs": [
    {
     "data": {
      "text/plain": [
       "((33270, 4), (11091, 4), (33270,), (11091,))"
      ]
     },
     "execution_count": 127,
     "metadata": {},
     "output_type": "execute_result"
    }
   ],
   "source": [
    "X_train, X_test, y_train, y_test = train_test_split(X, y, test_size=0.25,random_state=42)\n",
    "X_train.shape, X_test.shape, y_train.shape, y_test.shape"
   ]
  },
  {
   "cell_type": "code",
   "execution_count": 128,
   "id": "1c606918",
   "metadata": {},
   "outputs": [],
   "source": [
    "model6 = LogisticRegression(C=1e5, solver='lbfgs', multi_class='multinomial')"
   ]
  },
  {
   "cell_type": "code",
   "execution_count": 129,
   "id": "3a298710",
   "metadata": {},
   "outputs": [],
   "source": [
    "model6.fit(X_train, y_train)\n",
    "y_pred = model6.predict(X_test)"
   ]
  },
  {
   "cell_type": "code",
   "execution_count": 130,
   "id": "ecf7f52c",
   "metadata": {},
   "outputs": [
    {
     "name": "stdout",
     "output_type": "stream",
     "text": [
      "Accuracy: 55.576593634478414 \n",
      "\n",
      "\n",
      "----------Confusion Matrix------------------------------------\n",
      "Predicted Alarm     0     1    2\n",
      "Actual Alarm                    \n",
      "0                1658  1504   12\n",
      "1                 998  4374  232\n",
      "2                 146  2035  132\n",
      "\n",
      "----------Classification Report------------------------------------\n",
      "              precision    recall  f1-score   support\n",
      "\n",
      "           0       0.59      0.52      0.55      3174\n",
      "           1       0.55      0.78      0.65      5604\n",
      "           2       0.35      0.06      0.10      2313\n",
      "\n",
      "    accuracy                           0.56     11091\n",
      "   macro avg       0.50      0.45      0.43     11091\n",
      "weighted avg       0.52      0.56      0.51     11091\n",
      "\n"
     ]
    }
   ],
   "source": [
    "print(\"Accuracy:\",(metrics.accuracy_score(y_test, y_pred)*100),\"\\n\")\n",
    "\n",
    "cm = pd.crosstab(y_test, y_pred, rownames=['Actual Alarm'], colnames=['Predicted Alarm'])\n",
    "print(\"\\n----------Confusion Matrix------------------------------------\")\n",
    "print(cm)\n",
    "\n",
    "print(\"\\n----------Classification Report------------------------------------\")\n",
    "print(classification_report(y_test,y_pred))"
   ]
  },
  {
   "cell_type": "code",
   "execution_count": 131,
   "id": "d2cea90b",
   "metadata": {},
   "outputs": [
    {
     "data": {
      "image/png": "[encoded data removed]",
      "text/plain": [
       "<Figure size 1500x1000 with 2 Axes>"
      ]
     },
     "metadata": {},
     "output_type": "display_data"
    }
   ],
   "source": [
    "cm_nb = confusion_matrix(y_test,y_pred)\n",
    "\n",
    "f, ax = plt.subplots(figsize=(15,10))\n",
    "sns.heatmap(cm_nb, annot=True, linewidth=0.5, fmt=\".0f\",  cmap='viridis', ax = ax)\n",
    "plt.xlabel(\"Predicted\")\n",
    "plt.ylabel(\"Actual\")\n",
    "plt.title('Predicted vs actual')\n",
    "plt.show()"
   ]
  },
  {
   "cell_type": "markdown",
   "id": "b71f4af3",
   "metadata": {},
   "source": [
    "### Applying on unseen dataset"
   ]
  },
  {
   "cell_type": "code",
   "execution_count": 132,
   "id": "a86497fd",
   "metadata": {},
   "outputs": [],
   "source": [
    "X = test_2012_to_2014_top_10_count_name.iloc[:,0:4].values\n",
    "y = test_2012_to_2014_top_10_count_name.iloc[:,5].values\n",
    "\n",
    "y_pred = model6.predict(X)"
   ]
  },
  {
   "cell_type": "code",
   "execution_count": 133,
   "id": "4965b2eb",
   "metadata": {},
   "outputs": [
    {
     "name": "stdout",
     "output_type": "stream",
     "text": [
      "Accuracy: 59.55269400203321 \n",
      "\n",
      "\n",
      "----------Confusion Matrix------------------------------------\n",
      "Predicted Alarm     0      1     2\n",
      "Actual Alarm                      \n",
      "0                7501   9203   275\n",
      "1                3109  18684  1140\n",
      "2                 336   3841   176\n",
      "\n",
      "----------Classification Report------------------------------------\n",
      "              precision    recall  f1-score   support\n",
      "\n",
      "           0       0.69      0.44      0.54     16979\n",
      "           1       0.59      0.81      0.68     22933\n",
      "           2       0.11      0.04      0.06      4353\n",
      "\n",
      "    accuracy                           0.60     44265\n",
      "   macro avg       0.46      0.43      0.43     44265\n",
      "weighted avg       0.58      0.60      0.57     44265\n",
      "\n"
     ]
    }
   ],
   "source": [
    "print(\"Accuracy:\",(metrics.accuracy_score(y, y_pred)*100),\"\\n\")\n",
    "\n",
    "cm = pd.crosstab(y, y_pred, rownames=['Actual Alarm'], colnames=['Predicted Alarm'])\n",
    "print(\"\\n----------Confusion Matrix------------------------------------\")\n",
    "print(cm)\n",
    "\n",
    "print(\"\\n----------Classification Report------------------------------------\")\n",
    "print(classification_report(y,y_pred))"
   ]
  },
  {
   "cell_type": "code",
   "execution_count": 189,
   "id": "05e183dc",
   "metadata": {},
   "outputs": [
    {
     "data": {
      "image/png": "[encoded data removed]",
      "text/plain": [
       "<Figure size 1500x1000 with 2 Axes>"
      ]
     },
     "metadata": {},
     "output_type": "display_data"
    }
   ],
   "source": [
    "cm_nb = confusion_matrix(y,y_pred)\n",
    "\n",
    "f, ax = plt.subplots(figsize=(15,10))\n",
    "sns.heatmap(cm_nb, annot=True, linewidth=0.5, fmt=\".0f\",  cmap='viridis', ax = ax)\n",
    "plt.xlabel(\"Predicted\")\n",
    "plt.ylabel(\"Actual\")\n",
    "plt.title('Predicted vs actual')\n",
    "plt.show()"
   ]
  },
  {
   "cell_type": "code",
   "execution_count": null,
   "id": "53c3785d",
   "metadata": {},
   "outputs": [],
   "source": []
  },
  {
   "cell_type": "code",
   "execution_count": null,
   "id": "6d6cfe89",
   "metadata": {},
   "outputs": [],
   "source": []
  },
  {
   "cell_type": "markdown",
   "id": "ad3abed9",
   "metadata": {},
   "source": [
    "### 6. Gradient Boosting Tree"
   ]
  },
  {
   "cell_type": "code",
   "execution_count": 134,
   "id": "46786b11",
   "metadata": {},
   "outputs": [],
   "source": [
    "from sklearn.ensemble import GradientBoostingClassifier\n",
    "from sklearn.model_selection import train_test_split\n",
    "from sklearn import metrics"
   ]
  },
  {
   "cell_type": "code",
   "execution_count": 135,
   "id": "94ac4aba",
   "metadata": {},
   "outputs": [],
   "source": [
    "X = crimes_count.iloc[:,0:4].values\n",
    "y = crimes_count.iloc[:,5].values"
   ]
  },
  {
   "cell_type": "code",
   "execution_count": 136,
   "id": "4f9184a8",
   "metadata": {},
   "outputs": [
    {
     "data": {
      "text/plain": [
       "((33270, 4), (11091, 4), (33270,), (11091,))"
      ]
     },
     "execution_count": 136,
     "metadata": {},
     "output_type": "execute_result"
    }
   ],
   "source": [
    "X_train, X_test, y_train, y_test = train_test_split(X, y, test_size=0.25,random_state=42)\n",
    "X_train.shape, X_test.shape, y_train.shape, y_test.shape"
   ]
  },
  {
   "cell_type": "code",
   "execution_count": 137,
   "id": "816c0abd",
   "metadata": {},
   "outputs": [],
   "source": [
    "model7 = GradientBoostingClassifier(n_estimators=1000)\n",
    "model7.fit(X_train, y_train)\n",
    "y_pred = model7.predict(X_test)"
   ]
  },
  {
   "cell_type": "code",
   "execution_count": 138,
   "id": "a30af864",
   "metadata": {},
   "outputs": [
    {
     "name": "stdout",
     "output_type": "stream",
     "text": [
      "Accuracy: 79.8395095122171 \n",
      "\n",
      "\n",
      "----------------------------Confusion Matrix------------------------------------\n",
      "Predicted Alarm     0     1     2\n",
      "Actual Alarm                     \n",
      "0                2580   594     0\n",
      "1                 419  4712   473\n",
      "2                   1   749  1563\n",
      "\n",
      "-----------------------Classification Report------------------------------------\n",
      "              precision    recall  f1-score   support\n",
      "\n",
      "           0       0.86      0.81      0.84      3174\n",
      "           1       0.78      0.84      0.81      5604\n",
      "           2       0.77      0.68      0.72      2313\n",
      "\n",
      "    accuracy                           0.80     11091\n",
      "   macro avg       0.80      0.78      0.79     11091\n",
      "weighted avg       0.80      0.80      0.80     11091\n",
      "\n"
     ]
    }
   ],
   "source": [
    "print(\"Accuracy:\",(metrics.accuracy_score(y_test, y_pred)*100),\"\\n\")\n",
    "\n",
    "cm = pd.crosstab(y_test, y_pred, rownames=['Actual Alarm'], colnames=['Predicted Alarm'])\n",
    "print(\"\\n----------------------------Confusion Matrix------------------------------------\")\n",
    "print(cm)\n",
    "\n",
    "print(\"\\n-----------------------Classification Report------------------------------------\")\n",
    "print(classification_report(y_test,y_pred))"
   ]
  },
  {
   "cell_type": "code",
   "execution_count": 139,
   "id": "6a65e532",
   "metadata": {},
   "outputs": [
    {
     "data": {
      "image/png": "[encoded data removed]",
      "text/plain": [
       "<Figure size 1500x1000 with 2 Axes>"
      ]
     },
     "metadata": {},
     "output_type": "display_data"
    }
   ],
   "source": [
    "cm_nb = confusion_matrix(y_test,y_pred)\n",
    "\n",
    "f, ax = plt.subplots(figsize=(15,10))\n",
    "sns.heatmap(cm_nb, annot=True, linewidth=0.5, fmt=\".0f\",  cmap='viridis', ax = ax)\n",
    "plt.xlabel(\"Predicted\")\n",
    "plt.ylabel(\"Actual\")\n",
    "plt.title('Predicted vs actual')\n",
    "plt.show()"
   ]
  },
  {
   "cell_type": "markdown",
   "id": "64159fa9",
   "metadata": {},
   "source": [
    "### Applying on unseen data"
   ]
  },
  {
   "cell_type": "code",
   "execution_count": 140,
   "id": "e1a40cb2",
   "metadata": {},
   "outputs": [],
   "source": [
    "X = test_2012_to_2014_top_10_count_name.iloc[:,0:4].values\n",
    "y = test_2012_to_2014_top_10_count_name.iloc[:,5].values\n",
    "\n",
    "y_pred = model7.predict(X)"
   ]
  },
  {
   "cell_type": "code",
   "execution_count": 141,
   "id": "deeb1113",
   "metadata": {},
   "outputs": [
    {
     "name": "stdout",
     "output_type": "stream",
     "text": [
      "Accuracy: 71.35434316051055 \n",
      "\n",
      "\n",
      "----------Confusion Matrix------------------------------------\n",
      "Predicted Alarm      0      1     2\n",
      "Actual Alarm                       \n",
      "0                11171   5710    98\n",
      "1                  678  17268  4987\n",
      "2                    0   1207  3146\n",
      "\n",
      "----------Classification Report------------------------------------\n",
      "              precision    recall  f1-score   support\n",
      "\n",
      "           0       0.94      0.66      0.78     16979\n",
      "           1       0.71      0.75      0.73     22933\n",
      "           2       0.38      0.72      0.50      4353\n",
      "\n",
      "    accuracy                           0.71     44265\n",
      "   macro avg       0.68      0.71      0.67     44265\n",
      "weighted avg       0.77      0.71      0.73     44265\n",
      "\n"
     ]
    }
   ],
   "source": [
    "print(\"Accuracy:\",(metrics.accuracy_score(y, y_pred)*100),\"\\n\")\n",
    "\n",
    "cm = pd.crosstab(y, y_pred, rownames=['Actual Alarm'], colnames=['Predicted Alarm'])\n",
    "print(\"\\n----------Confusion Matrix------------------------------------\")\n",
    "print(cm)\n",
    "\n",
    "print(\"\\n----------Classification Report------------------------------------\")\n",
    "print(classification_report(y,y_pred))"
   ]
  },
  {
   "cell_type": "code",
   "execution_count": null,
   "id": "0257a385",
   "metadata": {},
   "outputs": [],
   "source": []
  },
  {
   "cell_type": "code",
   "execution_count": null,
   "id": "993987a8",
   "metadata": {},
   "outputs": [],
   "source": []
  },
  {
   "cell_type": "code",
   "execution_count": 142,
   "id": "d7d4d993",
   "metadata": {},
   "outputs": [
    {
     "data": {
      "text/html": [
       "<div>\n",
       "<style scoped>\n",
       "    .dataframe tbody tr th:only-of-type {\n",
       "        vertical-align: middle;\n",
       "    }\n",
       "\n",
       "    .dataframe tbody tr th {\n",
       "        vertical-align: top;\n",
       "    }\n",
       "\n",
       "    .dataframe thead th {\n",
       "        text-align: right;\n",
       "    }\n",
       "</style>\n",
       "<table border=\"1\" class=\"dataframe\">\n",
       "  <thead>\n",
       "    <tr style=\"text-align: right;\">\n",
       "      <th></th>\n",
       "      <th>x</th>\n",
       "      <th>y</th>\n",
       "    </tr>\n",
       "  </thead>\n",
       "  <tbody>\n",
       "    <tr>\n",
       "      <th>0</th>\n",
       "      <td>Decision Tree</td>\n",
       "      <td>71.85</td>\n",
       "    </tr>\n",
       "    <tr>\n",
       "      <th>1</th>\n",
       "      <td>Random Forest</td>\n",
       "      <td>77.50</td>\n",
       "    </tr>\n",
       "    <tr>\n",
       "      <th>2</th>\n",
       "      <td>Naive Bayes</td>\n",
       "      <td>62.12</td>\n",
       "    </tr>\n",
       "    <tr>\n",
       "      <th>3</th>\n",
       "      <td>KNN</td>\n",
       "      <td>75.57</td>\n",
       "    </tr>\n",
       "    <tr>\n",
       "      <th>4</th>\n",
       "      <td>SVM</td>\n",
       "      <td>63.82</td>\n",
       "    </tr>\n",
       "    <tr>\n",
       "      <th>5</th>\n",
       "      <td>Logistic Regression</td>\n",
       "      <td>59.55</td>\n",
       "    </tr>\n",
       "    <tr>\n",
       "      <th>6</th>\n",
       "      <td>Gradient Boosting Tree</td>\n",
       "      <td>79.83</td>\n",
       "    </tr>\n",
       "  </tbody>\n",
       "</table>\n",
       "</div>"
      ],
      "text/plain": [
       "                        x      y\n",
       "0           Decision Tree  71.85\n",
       "1           Random Forest  77.50\n",
       "2             Naive Bayes  62.12\n",
       "3                     KNN  75.57\n",
       "4                     SVM  63.82\n",
       "5     Logistic Regression  59.55\n",
       "6  Gradient Boosting Tree  79.83"
      ]
     },
     "execution_count": 142,
     "metadata": {},
     "output_type": "execute_result"
    }
   ],
   "source": [
    "acc = {\"x\":[\"Decision Tree\",\"Random Forest\",\"Naive Bayes\",\"KNN\",\"SVM\",\"Logistic Regression\",\"Gradient Boosting Tree\"],\"y\":[71.85,77.50,62.12,75.57,63.82,59.55,79.83]}\n",
    "\n",
    "accuracy=pd.DataFrame(acc)\n",
    "accuracy"
   ]
  },
  {
   "cell_type": "code",
   "execution_count": 143,
   "id": "8207dad9",
   "metadata": {},
   "outputs": [
    {
     "data": {
      "text/plain": [
       "<AxesSubplot: title={'center': 'Accuracy Comparison'}, xlabel='y', ylabel='x'>"
      ]
     },
     "execution_count": 143,
     "metadata": {},
     "output_type": "execute_result"
    },
    {
     "data": {
      "image/png": "[encoded data removed]",
      "text/plain": [
       "<Figure size 1400x700 with 1 Axes>"
      ]
     },
     "metadata": {},
     "output_type": "display_data"
    }
   ],
   "source": [
    "plt.figure(figsize=[14,7],dpi = 100, facecolor='white')\n",
    "plt.title('Accuracy Comparison')\n",
    "plt.xlabel('Accuracy')\n",
    "plt.ylabel('ML Algorithms')\n",
    "sns.barplot(x = accuracy[\"y\"],y = accuracy[\"x\"],palette='viridis')"
   ]
  },
  {
   "cell_type": "code",
   "execution_count": null,
   "id": "75f6b305",
   "metadata": {},
   "outputs": [],
   "source": []
  },
  {
   "cell_type": "code",
   "execution_count": null,
   "id": "78d585da",
   "metadata": {},
   "outputs": [],
   "source": []
  },
  {
   "cell_type": "code",
   "execution_count": null,
   "id": "38f681a2",
   "metadata": {},
   "outputs": [],
   "source": []
  },
  {
   "cell_type": "code",
   "execution_count": null,
   "id": "8ed6e172",
   "metadata": {},
   "outputs": [],
   "source": []
  },
  {
   "cell_type": "markdown",
   "id": "4f8cac3d",
   "metadata": {},
   "source": [
    "# Spatial Representation"
   ]
  },
  {
   "cell_type": "code",
   "execution_count": 144,
   "id": "d629da68",
   "metadata": {},
   "outputs": [
    {
     "data": {
      "text/plain": [
       "Index(['ID', 'Case Number', 'Date', 'Block', 'IUCR', 'Primary Type',\n",
       "       'Description', 'Location Description', 'Arrest', 'Domestic', 'Beat',\n",
       "       'District', 'Ward', 'Community Area', 'FBI Code', 'X Coordinate',\n",
       "       'Y Coordinate', 'Year', 'Updated On', 'Latitude', 'Longitude',\n",
       "       'Location', 'Month', 'Day', 'Hour'],\n",
       "      dtype='object')"
      ]
     },
     "execution_count": 144,
     "metadata": {},
     "output_type": "execute_result"
    }
   ],
   "source": [
    "data_top_10.columns"
   ]
  },
  {
   "cell_type": "code",
   "execution_count": 145,
   "id": "38bff001",
   "metadata": {},
   "outputs": [
    {
     "data": {
      "text/html": [
       "<div>\n",
       "<style scoped>\n",
       "    .dataframe tbody tr th:only-of-type {\n",
       "        vertical-align: middle;\n",
       "    }\n",
       "\n",
       "    .dataframe tbody tr th {\n",
       "        vertical-align: top;\n",
       "    }\n",
       "\n",
       "    .dataframe thead th {\n",
       "        text-align: right;\n",
       "    }\n",
       "</style>\n",
       "<table border=\"1\" class=\"dataframe\">\n",
       "  <thead>\n",
       "    <tr style=\"text-align: right;\">\n",
       "      <th></th>\n",
       "      <th>Year</th>\n",
       "      <th>Month</th>\n",
       "      <th>Day</th>\n",
       "      <th>Hour</th>\n",
       "      <th>District</th>\n",
       "      <th>Primary Type</th>\n",
       "      <th>Latitude</th>\n",
       "      <th>Longitude</th>\n",
       "      <th>Location</th>\n",
       "    </tr>\n",
       "  </thead>\n",
       "  <tbody>\n",
       "    <tr>\n",
       "      <th>0</th>\n",
       "      <td>2015</td>\n",
       "      <td>12</td>\n",
       "      <td>4</td>\n",
       "      <td>23</td>\n",
       "      <td>24.0</td>\n",
       "      <td>THEFT</td>\n",
       "      <td>42.016804</td>\n",
       "      <td>-87.690709</td>\n",
       "      <td>(42.016804165, -87.690708662)</td>\n",
       "    </tr>\n",
       "    <tr>\n",
       "      <th>1</th>\n",
       "      <td>2015</td>\n",
       "      <td>12</td>\n",
       "      <td>4</td>\n",
       "      <td>23</td>\n",
       "      <td>1.0</td>\n",
       "      <td>THEFT</td>\n",
       "      <td>41.888165</td>\n",
       "      <td>-87.622937</td>\n",
       "      <td>(41.888165132, -87.622937212)</td>\n",
       "    </tr>\n",
       "    <tr>\n",
       "      <th>2</th>\n",
       "      <td>2015</td>\n",
       "      <td>12</td>\n",
       "      <td>4</td>\n",
       "      <td>23</td>\n",
       "      <td>1.0</td>\n",
       "      <td>THEFT</td>\n",
       "      <td>41.888165</td>\n",
       "      <td>-87.622937</td>\n",
       "      <td>(41.888165132, -87.622937212)</td>\n",
       "    </tr>\n",
       "    <tr>\n",
       "      <th>3</th>\n",
       "      <td>2015</td>\n",
       "      <td>12</td>\n",
       "      <td>4</td>\n",
       "      <td>23</td>\n",
       "      <td>12.0</td>\n",
       "      <td>THEFT</td>\n",
       "      <td>41.860664</td>\n",
       "      <td>-87.650847</td>\n",
       "      <td>(41.860664155, -87.650847428)</td>\n",
       "    </tr>\n",
       "    <tr>\n",
       "      <th>4</th>\n",
       "      <td>2015</td>\n",
       "      <td>12</td>\n",
       "      <td>4</td>\n",
       "      <td>23</td>\n",
       "      <td>19.0</td>\n",
       "      <td>THEFT</td>\n",
       "      <td>41.945467</td>\n",
       "      <td>-87.663974</td>\n",
       "      <td>(41.945466899, -87.663974392)</td>\n",
       "    </tr>\n",
       "  </tbody>\n",
       "</table>\n",
       "</div>"
      ],
      "text/plain": [
       "   Year  Month  Day  Hour  District Primary Type   Latitude  Longitude  \\\n",
       "0  2015     12    4    23      24.0        THEFT  42.016804 -87.690709   \n",
       "1  2015     12    4    23       1.0        THEFT  41.888165 -87.622937   \n",
       "2  2015     12    4    23       1.0        THEFT  41.888165 -87.622937   \n",
       "3  2015     12    4    23      12.0        THEFT  41.860664 -87.650847   \n",
       "4  2015     12    4    23      19.0        THEFT  41.945467 -87.663974   \n",
       "\n",
       "                        Location  \n",
       "0  (42.016804165, -87.690708662)  \n",
       "1  (41.888165132, -87.622937212)  \n",
       "2  (41.888165132, -87.622937212)  \n",
       "3  (41.860664155, -87.650847428)  \n",
       "4  (41.945466899, -87.663974392)  "
      ]
     },
     "execution_count": 145,
     "metadata": {},
     "output_type": "execute_result"
    }
   ],
   "source": [
    "data= data_top_10.loc[:,['Year','Month','Day','Hour','District','Primary Type','Latitude', 'Longitude','Location']]\n",
    "data.head()"
   ]
  },
  {
   "cell_type": "code",
   "execution_count": 146,
   "id": "59708034",
   "metadata": {},
   "outputs": [
    {
     "data": {
      "text/html": [
       "<div>\n",
       "<style scoped>\n",
       "    .dataframe tbody tr th:only-of-type {\n",
       "        vertical-align: middle;\n",
       "    }\n",
       "\n",
       "    .dataframe tbody tr th {\n",
       "        vertical-align: top;\n",
       "    }\n",
       "\n",
       "    .dataframe thead th {\n",
       "        text-align: right;\n",
       "    }\n",
       "</style>\n",
       "<table border=\"1\" class=\"dataframe\">\n",
       "  <thead>\n",
       "    <tr style=\"text-align: right;\">\n",
       "      <th></th>\n",
       "      <th>Month</th>\n",
       "      <th>Day</th>\n",
       "      <th>District</th>\n",
       "      <th>Hour</th>\n",
       "      <th>Primary Type</th>\n",
       "    </tr>\n",
       "  </thead>\n",
       "  <tbody>\n",
       "    <tr>\n",
       "      <th>16369</th>\n",
       "      <td>5</td>\n",
       "      <td>2</td>\n",
       "      <td>31.0</td>\n",
       "      <td>9</td>\n",
       "      <td>1</td>\n",
       "    </tr>\n",
       "    <tr>\n",
       "      <th>2113</th>\n",
       "      <td>1</td>\n",
       "      <td>3</td>\n",
       "      <td>31.0</td>\n",
       "      <td>10</td>\n",
       "      <td>1</td>\n",
       "    </tr>\n",
       "    <tr>\n",
       "      <th>12673</th>\n",
       "      <td>4</td>\n",
       "      <td>2</td>\n",
       "      <td>31.0</td>\n",
       "      <td>10</td>\n",
       "      <td>1</td>\n",
       "    </tr>\n",
       "    <tr>\n",
       "      <th>1584</th>\n",
       "      <td>1</td>\n",
       "      <td>2</td>\n",
       "      <td>31.0</td>\n",
       "      <td>16</td>\n",
       "      <td>1</td>\n",
       "    </tr>\n",
       "    <tr>\n",
       "      <th>1583</th>\n",
       "      <td>1</td>\n",
       "      <td>2</td>\n",
       "      <td>31.0</td>\n",
       "      <td>13</td>\n",
       "      <td>1</td>\n",
       "    </tr>\n",
       "  </tbody>\n",
       "</table>\n",
       "</div>"
      ],
      "text/plain": [
       "       Month  Day  District  Hour  Primary Type\n",
       "16369      5    2      31.0     9             1\n",
       "2113       1    3      31.0    10             1\n",
       "12673      4    2      31.0    10             1\n",
       "1584       1    2      31.0    16             1\n",
       "1583       1    2      31.0    13             1"
      ]
     },
     "execution_count": 146,
     "metadata": {},
     "output_type": "execute_result"
    }
   ],
   "source": [
    "data1 = data.groupby(['Month','Day','District','Hour'], as_index=False).agg({\"Primary Type\":\"count\"})\n",
    "data1 = data1.sort_values(by=['District'], ascending=False)\n",
    "data1.head()"
   ]
  },
  {
   "cell_type": "code",
   "execution_count": 147,
   "id": "e18baa55",
   "metadata": {},
   "outputs": [
    {
     "data": {
      "text/plain": [
       "[24.0,\n",
       " 1.0,\n",
       " 12.0,\n",
       " 19.0,\n",
       " 6.0,\n",
       " 8.0,\n",
       " 10.0,\n",
       " 15.0,\n",
       " 2.0,\n",
       " 11.0,\n",
       " 7.0,\n",
       " 18.0,\n",
       " 4.0,\n",
       " 14.0,\n",
       " 5.0,\n",
       " 17.0,\n",
       " 3.0,\n",
       " 25.0,\n",
       " 9.0,\n",
       " 20.0,\n",
       " 22.0,\n",
       " 16.0,\n",
       " 31.0]"
      ]
     },
     "execution_count": 147,
     "metadata": {},
     "output_type": "execute_result"
    }
   ],
   "source": [
    "lat_long=data[\"District\"].unique()\n",
    "lat_long=lat_long.tolist()\n",
    "lat_long"
   ]
  },
  {
   "cell_type": "code",
   "execution_count": 148,
   "id": "cb5cf971",
   "metadata": {
    "scrolled": true
   },
   "outputs": [
    {
     "name": "stdout",
     "output_type": "stream",
     "text": [
      "42.00612014580467\n",
      "-87.67843100832572\n"
     ]
    }
   ],
   "source": [
    "a=data[data[\"District\"]==24.0]\n",
    "print(a[\"Latitude\"].mean())\n",
    "print(a[\"Longitude\"].mean())"
   ]
  },
  {
   "cell_type": "code",
   "execution_count": 149,
   "id": "424b8d96",
   "metadata": {},
   "outputs": [],
   "source": [
    "lat=[]\n",
    "long=[]\n",
    "for i in lat_long:\n",
    "    a=data[data[\"District\"]==i]\n",
    "    lat.append(a[\"Latitude\"].mean())\n",
    "    long.append(a[\"Longitude\"].mean())"
   ]
  },
  {
   "cell_type": "code",
   "execution_count": 150,
   "id": "fdc27bc1",
   "metadata": {},
   "outputs": [
    {
     "name": "stdout",
     "output_type": "stream",
     "text": [
      "[42.00612014580467, 41.874844881382394, 41.8811468993117, 41.946946162979266, 41.74566461329821, 41.77765082338235, 41.85392065160516, 41.885718710764905, 41.809598555847316, 41.88187648942895, 41.77532664696245, 41.901678506775355, 41.734561610211216, 41.91685506226188, 41.68782204028016, 41.960839965823254, 41.77104143112991, 41.9193203685829, 41.816328149566225, 41.978512206235926, 41.709025300420606, 41.965693641454145, 41.92541264492308]\n",
      "[-87.67843100832572, -87.62883539743628, -87.67031731626791, -87.65908517682524, -87.63187329282196, -87.71592218531377, -87.71295197347095, -87.75838113568602, -87.61140662623968, -87.71939087261443, -87.65360699352563, -87.63385830285937, -87.56405724976598, -87.69151348742545, -87.62175868493695, -87.7209903866449, -87.59632976589833, -87.75326430858489, -87.66511648672756, -87.67237286775698, -87.65883845750795, -87.79776072248494, -87.79710471353845]\n"
     ]
    }
   ],
   "source": [
    "print(lat)\n",
    "print(long)"
   ]
  },
  {
   "cell_type": "code",
   "execution_count": 151,
   "id": "642e09a1",
   "metadata": {},
   "outputs": [
    {
     "data": {
      "text/html": [
       "<div>\n",
       "<style scoped>\n",
       "    .dataframe tbody tr th:only-of-type {\n",
       "        vertical-align: middle;\n",
       "    }\n",
       "\n",
       "    .dataframe tbody tr th {\n",
       "        vertical-align: top;\n",
       "    }\n",
       "\n",
       "    .dataframe thead th {\n",
       "        text-align: right;\n",
       "    }\n",
       "</style>\n",
       "<table border=\"1\" class=\"dataframe\">\n",
       "  <thead>\n",
       "    <tr style=\"text-align: right;\">\n",
       "      <th></th>\n",
       "      <th>Month</th>\n",
       "      <th>Day</th>\n",
       "      <th>District</th>\n",
       "      <th>Hour</th>\n",
       "      <th>Primary Type</th>\n",
       "      <th>Latitude</th>\n",
       "      <th>Longitude</th>\n",
       "    </tr>\n",
       "  </thead>\n",
       "  <tbody>\n",
       "    <tr>\n",
       "      <th>16369</th>\n",
       "      <td>5</td>\n",
       "      <td>2</td>\n",
       "      <td>31.0</td>\n",
       "      <td>9</td>\n",
       "      <td>1</td>\n",
       "      <td>NaN</td>\n",
       "      <td>NaN</td>\n",
       "    </tr>\n",
       "    <tr>\n",
       "      <th>2113</th>\n",
       "      <td>1</td>\n",
       "      <td>3</td>\n",
       "      <td>31.0</td>\n",
       "      <td>10</td>\n",
       "      <td>1</td>\n",
       "      <td>NaN</td>\n",
       "      <td>NaN</td>\n",
       "    </tr>\n",
       "    <tr>\n",
       "      <th>12673</th>\n",
       "      <td>4</td>\n",
       "      <td>2</td>\n",
       "      <td>31.0</td>\n",
       "      <td>10</td>\n",
       "      <td>1</td>\n",
       "      <td>NaN</td>\n",
       "      <td>NaN</td>\n",
       "    </tr>\n",
       "    <tr>\n",
       "      <th>1584</th>\n",
       "      <td>1</td>\n",
       "      <td>2</td>\n",
       "      <td>31.0</td>\n",
       "      <td>16</td>\n",
       "      <td>1</td>\n",
       "      <td>NaN</td>\n",
       "      <td>NaN</td>\n",
       "    </tr>\n",
       "    <tr>\n",
       "      <th>1583</th>\n",
       "      <td>1</td>\n",
       "      <td>2</td>\n",
       "      <td>31.0</td>\n",
       "      <td>13</td>\n",
       "      <td>1</td>\n",
       "      <td>NaN</td>\n",
       "      <td>NaN</td>\n",
       "    </tr>\n",
       "  </tbody>\n",
       "</table>\n",
       "</div>"
      ],
      "text/plain": [
       "       Month  Day  District  Hour  Primary Type  Latitude  Longitude\n",
       "16369      5    2      31.0     9             1       NaN        NaN\n",
       "2113       1    3      31.0    10             1       NaN        NaN\n",
       "12673      4    2      31.0    10             1       NaN        NaN\n",
       "1584       1    2      31.0    16             1       NaN        NaN\n",
       "1583       1    2      31.0    13             1       NaN        NaN"
      ]
     },
     "execution_count": 151,
     "metadata": {},
     "output_type": "execute_result"
    }
   ],
   "source": [
    "data1[\"Latitude\"]=np.nan\n",
    "data1[\"Longitude\"]=np.nan\n",
    "data1.head()"
   ]
  },
  {
   "cell_type": "code",
   "execution_count": 152,
   "id": "c80eed7b",
   "metadata": {},
   "outputs": [
    {
     "data": {
      "text/html": [
       "<div>\n",
       "<style scoped>\n",
       "    .dataframe tbody tr th:only-of-type {\n",
       "        vertical-align: middle;\n",
       "    }\n",
       "\n",
       "    .dataframe tbody tr th {\n",
       "        vertical-align: top;\n",
       "    }\n",
       "\n",
       "    .dataframe thead th {\n",
       "        text-align: right;\n",
       "    }\n",
       "</style>\n",
       "<table border=\"1\" class=\"dataframe\">\n",
       "  <thead>\n",
       "    <tr style=\"text-align: right;\">\n",
       "      <th></th>\n",
       "      <th>Month</th>\n",
       "      <th>Day</th>\n",
       "      <th>District</th>\n",
       "      <th>Hour</th>\n",
       "      <th>Crime_Count</th>\n",
       "      <th>Latitude</th>\n",
       "      <th>Longitude</th>\n",
       "    </tr>\n",
       "  </thead>\n",
       "  <tbody>\n",
       "    <tr>\n",
       "      <th>16369</th>\n",
       "      <td>5</td>\n",
       "      <td>2</td>\n",
       "      <td>31.0</td>\n",
       "      <td>9</td>\n",
       "      <td>1</td>\n",
       "      <td>NaN</td>\n",
       "      <td>NaN</td>\n",
       "    </tr>\n",
       "    <tr>\n",
       "      <th>2113</th>\n",
       "      <td>1</td>\n",
       "      <td>3</td>\n",
       "      <td>31.0</td>\n",
       "      <td>10</td>\n",
       "      <td>1</td>\n",
       "      <td>NaN</td>\n",
       "      <td>NaN</td>\n",
       "    </tr>\n",
       "    <tr>\n",
       "      <th>12673</th>\n",
       "      <td>4</td>\n",
       "      <td>2</td>\n",
       "      <td>31.0</td>\n",
       "      <td>10</td>\n",
       "      <td>1</td>\n",
       "      <td>NaN</td>\n",
       "      <td>NaN</td>\n",
       "    </tr>\n",
       "    <tr>\n",
       "      <th>1584</th>\n",
       "      <td>1</td>\n",
       "      <td>2</td>\n",
       "      <td>31.0</td>\n",
       "      <td>16</td>\n",
       "      <td>1</td>\n",
       "      <td>NaN</td>\n",
       "      <td>NaN</td>\n",
       "    </tr>\n",
       "    <tr>\n",
       "      <th>1583</th>\n",
       "      <td>1</td>\n",
       "      <td>2</td>\n",
       "      <td>31.0</td>\n",
       "      <td>13</td>\n",
       "      <td>1</td>\n",
       "      <td>NaN</td>\n",
       "      <td>NaN</td>\n",
       "    </tr>\n",
       "  </tbody>\n",
       "</table>\n",
       "</div>"
      ],
      "text/plain": [
       "       Month  Day  District  Hour  Crime_Count  Latitude  Longitude\n",
       "16369      5    2      31.0     9            1       NaN        NaN\n",
       "2113       1    3      31.0    10            1       NaN        NaN\n",
       "12673      4    2      31.0    10            1       NaN        NaN\n",
       "1584       1    2      31.0    16            1       NaN        NaN\n",
       "1583       1    2      31.0    13            1       NaN        NaN"
      ]
     },
     "execution_count": 152,
     "metadata": {},
     "output_type": "execute_result"
    }
   ],
   "source": [
    "# Renaming the variable\n",
    "data2=data1.rename(index=str, columns={\"Primary Type\":\"Crime_Count\"})\n",
    "data2.head()"
   ]
  },
  {
   "cell_type": "code",
   "execution_count": 153,
   "id": "5999f8c2",
   "metadata": {},
   "outputs": [
    {
     "data": {
      "text/html": [
       "<div>\n",
       "<style scoped>\n",
       "    .dataframe tbody tr th:only-of-type {\n",
       "        vertical-align: middle;\n",
       "    }\n",
       "\n",
       "    .dataframe tbody tr th {\n",
       "        vertical-align: top;\n",
       "    }\n",
       "\n",
       "    .dataframe thead th {\n",
       "        text-align: right;\n",
       "    }\n",
       "</style>\n",
       "<table border=\"1\" class=\"dataframe\">\n",
       "  <thead>\n",
       "    <tr style=\"text-align: right;\">\n",
       "      <th></th>\n",
       "      <th>Month</th>\n",
       "      <th>Day</th>\n",
       "      <th>Hour</th>\n",
       "      <th>District</th>\n",
       "      <th>Crime_Count</th>\n",
       "      <th>Latitude</th>\n",
       "      <th>Longitude</th>\n",
       "      <th>Alarm</th>\n",
       "    </tr>\n",
       "  </thead>\n",
       "  <tbody>\n",
       "    <tr>\n",
       "      <th>16369</th>\n",
       "      <td>5</td>\n",
       "      <td>2</td>\n",
       "      <td>9</td>\n",
       "      <td>31.0</td>\n",
       "      <td>1</td>\n",
       "      <td>NaN</td>\n",
       "      <td>NaN</td>\n",
       "      <td>0</td>\n",
       "    </tr>\n",
       "    <tr>\n",
       "      <th>2113</th>\n",
       "      <td>1</td>\n",
       "      <td>3</td>\n",
       "      <td>10</td>\n",
       "      <td>31.0</td>\n",
       "      <td>1</td>\n",
       "      <td>NaN</td>\n",
       "      <td>NaN</td>\n",
       "      <td>0</td>\n",
       "    </tr>\n",
       "    <tr>\n",
       "      <th>12673</th>\n",
       "      <td>4</td>\n",
       "      <td>2</td>\n",
       "      <td>10</td>\n",
       "      <td>31.0</td>\n",
       "      <td>1</td>\n",
       "      <td>NaN</td>\n",
       "      <td>NaN</td>\n",
       "      <td>0</td>\n",
       "    </tr>\n",
       "    <tr>\n",
       "      <th>1584</th>\n",
       "      <td>1</td>\n",
       "      <td>2</td>\n",
       "      <td>16</td>\n",
       "      <td>31.0</td>\n",
       "      <td>1</td>\n",
       "      <td>NaN</td>\n",
       "      <td>NaN</td>\n",
       "      <td>0</td>\n",
       "    </tr>\n",
       "    <tr>\n",
       "      <th>1583</th>\n",
       "      <td>1</td>\n",
       "      <td>2</td>\n",
       "      <td>13</td>\n",
       "      <td>31.0</td>\n",
       "      <td>1</td>\n",
       "      <td>NaN</td>\n",
       "      <td>NaN</td>\n",
       "      <td>0</td>\n",
       "    </tr>\n",
       "  </tbody>\n",
       "</table>\n",
       "</div>"
      ],
      "text/plain": [
       "       Month  Day  Hour  District  Crime_Count  Latitude  Longitude  Alarm\n",
       "16369      5    2     9      31.0            1       NaN        NaN      0\n",
       "2113       1    3    10      31.0            1       NaN        NaN      0\n",
       "12673      4    2    10      31.0            1       NaN        NaN      0\n",
       "1584       1    2    16      31.0            1       NaN        NaN      0\n",
       "1583       1    2    13      31.0            1       NaN        NaN      0"
      ]
     },
     "execution_count": 153,
     "metadata": {},
     "output_type": "execute_result"
    }
   ],
   "source": [
    "def crime_rate_assign(x):\n",
    "    if(x<=14):\n",
    "        return 0\n",
    "    elif(x>14 and x<=33):\n",
    "        return 1\n",
    "    else:\n",
    "        return 2\n",
    "data2['Alarm'] = data2['Crime_Count'].apply(crime_rate_assign)\n",
    "data2 = data2[['Month','Day','Hour','District','Crime_Count','Latitude','Longitude','Alarm']]    \n",
    "data2.head()"
   ]
  },
  {
   "cell_type": "code",
   "execution_count": 154,
   "id": "0abbe679",
   "metadata": {},
   "outputs": [
    {
     "name": "stdout",
     "output_type": "stream",
     "text": [
      "[24.0, 1.0, 12.0, 19.0, 6.0, 8.0, 10.0, 15.0, 2.0, 11.0, 7.0, 18.0, 4.0, 14.0, 5.0, 17.0, 3.0, 25.0, 9.0, 20.0, 22.0, 16.0, 31.0]\n",
      "\n",
      "**********************************\n",
      "\n",
      "[42.00612014580467, 41.874844881382394, 41.8811468993117, 41.946946162979266, 41.74566461329821, 41.77765082338235, 41.85392065160516, 41.885718710764905, 41.809598555847316, 41.88187648942895, 41.77532664696245, 41.901678506775355, 41.734561610211216, 41.91685506226188, 41.68782204028016, 41.960839965823254, 41.77104143112991, 41.9193203685829, 41.816328149566225, 41.978512206235926, 41.709025300420606, 41.965693641454145, 41.92541264492308]\n",
      "\n",
      "**********************************\n",
      "\n",
      "[-87.67843100832572, -87.62883539743628, -87.67031731626791, -87.65908517682524, -87.63187329282196, -87.71592218531377, -87.71295197347095, -87.75838113568602, -87.61140662623968, -87.71939087261443, -87.65360699352563, -87.63385830285937, -87.56405724976598, -87.69151348742545, -87.62175868493695, -87.7209903866449, -87.59632976589833, -87.75326430858489, -87.66511648672756, -87.67237286775698, -87.65883845750795, -87.79776072248494, -87.79710471353845]\n"
     ]
    }
   ],
   "source": [
    "print(lat_long)\n",
    "print(\"\\n**********************************\\n\")\n",
    "print(lat)\n",
    "print(\"\\n**********************************\\n\")\n",
    "print(long)"
   ]
  },
  {
   "cell_type": "code",
   "execution_count": 155,
   "id": "e91013a8",
   "metadata": {},
   "outputs": [
    {
     "data": {
      "text/plain": [
       "24.0"
      ]
     },
     "execution_count": 155,
     "metadata": {},
     "output_type": "execute_result"
    }
   ],
   "source": [
    "lat_long[0]"
   ]
  },
  {
   "cell_type": "code",
   "execution_count": 156,
   "id": "2ab99f21",
   "metadata": {},
   "outputs": [],
   "source": [
    "def lati(x):\n",
    "    for i in range(0,24):\n",
    "        if x==lat_long[i]:\n",
    "            return lat[i]\n",
    "\n",
    "        \n",
    "def longi(x):\n",
    "    for i in range(0,24):\n",
    "        if x==lat_long[i]:\n",
    "            return long[i]"
   ]
  },
  {
   "cell_type": "code",
   "execution_count": 157,
   "id": "78a3308d",
   "metadata": {},
   "outputs": [
    {
     "data": {
      "text/html": [
       "<div>\n",
       "<style scoped>\n",
       "    .dataframe tbody tr th:only-of-type {\n",
       "        vertical-align: middle;\n",
       "    }\n",
       "\n",
       "    .dataframe tbody tr th {\n",
       "        vertical-align: top;\n",
       "    }\n",
       "\n",
       "    .dataframe thead th {\n",
       "        text-align: right;\n",
       "    }\n",
       "</style>\n",
       "<table border=\"1\" class=\"dataframe\">\n",
       "  <thead>\n",
       "    <tr style=\"text-align: right;\">\n",
       "      <th></th>\n",
       "      <th>Month</th>\n",
       "      <th>Day</th>\n",
       "      <th>Hour</th>\n",
       "      <th>District</th>\n",
       "      <th>Crime_Count</th>\n",
       "      <th>Alarm</th>\n",
       "    </tr>\n",
       "  </thead>\n",
       "  <tbody>\n",
       "    <tr>\n",
       "      <th>16369</th>\n",
       "      <td>5</td>\n",
       "      <td>2</td>\n",
       "      <td>9</td>\n",
       "      <td>31.0</td>\n",
       "      <td>1</td>\n",
       "      <td>0</td>\n",
       "    </tr>\n",
       "    <tr>\n",
       "      <th>2113</th>\n",
       "      <td>1</td>\n",
       "      <td>3</td>\n",
       "      <td>10</td>\n",
       "      <td>31.0</td>\n",
       "      <td>1</td>\n",
       "      <td>0</td>\n",
       "    </tr>\n",
       "    <tr>\n",
       "      <th>12673</th>\n",
       "      <td>4</td>\n",
       "      <td>2</td>\n",
       "      <td>10</td>\n",
       "      <td>31.0</td>\n",
       "      <td>1</td>\n",
       "      <td>0</td>\n",
       "    </tr>\n",
       "    <tr>\n",
       "      <th>1584</th>\n",
       "      <td>1</td>\n",
       "      <td>2</td>\n",
       "      <td>16</td>\n",
       "      <td>31.0</td>\n",
       "      <td>1</td>\n",
       "      <td>0</td>\n",
       "    </tr>\n",
       "    <tr>\n",
       "      <th>1583</th>\n",
       "      <td>1</td>\n",
       "      <td>2</td>\n",
       "      <td>13</td>\n",
       "      <td>31.0</td>\n",
       "      <td>1</td>\n",
       "      <td>0</td>\n",
       "    </tr>\n",
       "  </tbody>\n",
       "</table>\n",
       "</div>"
      ],
      "text/plain": [
       "       Month  Day  Hour  District  Crime_Count  Alarm\n",
       "16369      5    2     9      31.0            1      0\n",
       "2113       1    3    10      31.0            1      0\n",
       "12673      4    2    10      31.0            1      0\n",
       "1584       1    2    16      31.0            1      0\n",
       "1583       1    2    13      31.0            1      0"
      ]
     },
     "execution_count": 157,
     "metadata": {},
     "output_type": "execute_result"
    }
   ],
   "source": [
    "data2=data2.drop([\"Latitude\",\"Longitude\"],axis=1)\n",
    "data2.head()"
   ]
  },
  {
   "cell_type": "code",
   "execution_count": 158,
   "id": "d901be64",
   "metadata": {},
   "outputs": [],
   "source": [
    "data2[\"Latitude\"]=data2[\"District\"].apply(lati)\n",
    "data2[\"Longitude\"]=data2[\"District\"].apply(longi)"
   ]
  },
  {
   "cell_type": "code",
   "execution_count": 159,
   "id": "7ac3196c",
   "metadata": {},
   "outputs": [
    {
     "data": {
      "text/html": [
       "<div>\n",
       "<style scoped>\n",
       "    .dataframe tbody tr th:only-of-type {\n",
       "        vertical-align: middle;\n",
       "    }\n",
       "\n",
       "    .dataframe tbody tr th {\n",
       "        vertical-align: top;\n",
       "    }\n",
       "\n",
       "    .dataframe thead th {\n",
       "        text-align: right;\n",
       "    }\n",
       "</style>\n",
       "<table border=\"1\" class=\"dataframe\">\n",
       "  <thead>\n",
       "    <tr style=\"text-align: right;\">\n",
       "      <th></th>\n",
       "      <th>Month</th>\n",
       "      <th>Day</th>\n",
       "      <th>Hour</th>\n",
       "      <th>District</th>\n",
       "      <th>Crime_Count</th>\n",
       "      <th>Alarm</th>\n",
       "      <th>Latitude</th>\n",
       "      <th>Longitude</th>\n",
       "    </tr>\n",
       "  </thead>\n",
       "  <tbody>\n",
       "    <tr>\n",
       "      <th>16369</th>\n",
       "      <td>5</td>\n",
       "      <td>2</td>\n",
       "      <td>9</td>\n",
       "      <td>31.0</td>\n",
       "      <td>1</td>\n",
       "      <td>0</td>\n",
       "      <td>41.925413</td>\n",
       "      <td>-87.797105</td>\n",
       "    </tr>\n",
       "    <tr>\n",
       "      <th>2113</th>\n",
       "      <td>1</td>\n",
       "      <td>3</td>\n",
       "      <td>10</td>\n",
       "      <td>31.0</td>\n",
       "      <td>1</td>\n",
       "      <td>0</td>\n",
       "      <td>41.925413</td>\n",
       "      <td>-87.797105</td>\n",
       "    </tr>\n",
       "    <tr>\n",
       "      <th>12673</th>\n",
       "      <td>4</td>\n",
       "      <td>2</td>\n",
       "      <td>10</td>\n",
       "      <td>31.0</td>\n",
       "      <td>1</td>\n",
       "      <td>0</td>\n",
       "      <td>41.925413</td>\n",
       "      <td>-87.797105</td>\n",
       "    </tr>\n",
       "    <tr>\n",
       "      <th>1584</th>\n",
       "      <td>1</td>\n",
       "      <td>2</td>\n",
       "      <td>16</td>\n",
       "      <td>31.0</td>\n",
       "      <td>1</td>\n",
       "      <td>0</td>\n",
       "      <td>41.925413</td>\n",
       "      <td>-87.797105</td>\n",
       "    </tr>\n",
       "    <tr>\n",
       "      <th>1583</th>\n",
       "      <td>1</td>\n",
       "      <td>2</td>\n",
       "      <td>13</td>\n",
       "      <td>31.0</td>\n",
       "      <td>1</td>\n",
       "      <td>0</td>\n",
       "      <td>41.925413</td>\n",
       "      <td>-87.797105</td>\n",
       "    </tr>\n",
       "  </tbody>\n",
       "</table>\n",
       "</div>"
      ],
      "text/plain": [
       "       Month  Day  Hour  District  Crime_Count  Alarm   Latitude  Longitude\n",
       "16369      5    2     9      31.0            1      0  41.925413 -87.797105\n",
       "2113       1    3    10      31.0            1      0  41.925413 -87.797105\n",
       "12673      4    2    10      31.0            1      0  41.925413 -87.797105\n",
       "1584       1    2    16      31.0            1      0  41.925413 -87.797105\n",
       "1583       1    2    13      31.0            1      0  41.925413 -87.797105"
      ]
     },
     "execution_count": 159,
     "metadata": {},
     "output_type": "execute_result"
    }
   ],
   "source": [
    "data2.head()"
   ]
  },
  {
   "cell_type": "code",
   "execution_count": 160,
   "id": "b0185ebc",
   "metadata": {},
   "outputs": [
    {
     "data": {
      "text/html": [
       "<div>\n",
       "<style scoped>\n",
       "    .dataframe tbody tr th:only-of-type {\n",
       "        vertical-align: middle;\n",
       "    }\n",
       "\n",
       "    .dataframe tbody tr th {\n",
       "        vertical-align: top;\n",
       "    }\n",
       "\n",
       "    .dataframe thead th {\n",
       "        text-align: right;\n",
       "    }\n",
       "</style>\n",
       "<table border=\"1\" class=\"dataframe\">\n",
       "  <thead>\n",
       "    <tr style=\"text-align: right;\">\n",
       "      <th></th>\n",
       "      <th>Month</th>\n",
       "      <th>Day</th>\n",
       "      <th>Hour</th>\n",
       "      <th>District</th>\n",
       "      <th>Crime_Count</th>\n",
       "      <th>Alarm</th>\n",
       "      <th>Latitude</th>\n",
       "      <th>Longitude</th>\n",
       "      <th>geometry</th>\n",
       "    </tr>\n",
       "  </thead>\n",
       "  <tbody>\n",
       "    <tr>\n",
       "      <th>16369</th>\n",
       "      <td>5</td>\n",
       "      <td>2</td>\n",
       "      <td>9</td>\n",
       "      <td>31.0</td>\n",
       "      <td>1</td>\n",
       "      <td>0</td>\n",
       "      <td>41.925413</td>\n",
       "      <td>-87.797105</td>\n",
       "      <td>POINT (-87.79710 41.92541)</td>\n",
       "    </tr>\n",
       "    <tr>\n",
       "      <th>2113</th>\n",
       "      <td>1</td>\n",
       "      <td>3</td>\n",
       "      <td>10</td>\n",
       "      <td>31.0</td>\n",
       "      <td>1</td>\n",
       "      <td>0</td>\n",
       "      <td>41.925413</td>\n",
       "      <td>-87.797105</td>\n",
       "      <td>POINT (-87.79710 41.92541)</td>\n",
       "    </tr>\n",
       "    <tr>\n",
       "      <th>12673</th>\n",
       "      <td>4</td>\n",
       "      <td>2</td>\n",
       "      <td>10</td>\n",
       "      <td>31.0</td>\n",
       "      <td>1</td>\n",
       "      <td>0</td>\n",
       "      <td>41.925413</td>\n",
       "      <td>-87.797105</td>\n",
       "      <td>POINT (-87.79710 41.92541)</td>\n",
       "    </tr>\n",
       "    <tr>\n",
       "      <th>1584</th>\n",
       "      <td>1</td>\n",
       "      <td>2</td>\n",
       "      <td>16</td>\n",
       "      <td>31.0</td>\n",
       "      <td>1</td>\n",
       "      <td>0</td>\n",
       "      <td>41.925413</td>\n",
       "      <td>-87.797105</td>\n",
       "      <td>POINT (-87.79710 41.92541)</td>\n",
       "    </tr>\n",
       "    <tr>\n",
       "      <th>1583</th>\n",
       "      <td>1</td>\n",
       "      <td>2</td>\n",
       "      <td>13</td>\n",
       "      <td>31.0</td>\n",
       "      <td>1</td>\n",
       "      <td>0</td>\n",
       "      <td>41.925413</td>\n",
       "      <td>-87.797105</td>\n",
       "      <td>POINT (-87.79710 41.92541)</td>\n",
       "    </tr>\n",
       "  </tbody>\n",
       "</table>\n",
       "</div>"
      ],
      "text/plain": [
       "       Month  Day  Hour  District  Crime_Count  Alarm   Latitude  Longitude  \\\n",
       "16369      5    2     9      31.0            1      0  41.925413 -87.797105   \n",
       "2113       1    3    10      31.0            1      0  41.925413 -87.797105   \n",
       "12673      4    2    10      31.0            1      0  41.925413 -87.797105   \n",
       "1584       1    2    16      31.0            1      0  41.925413 -87.797105   \n",
       "1583       1    2    13      31.0            1      0  41.925413 -87.797105   \n",
       "\n",
       "                         geometry  \n",
       "16369  POINT (-87.79710 41.92541)  \n",
       "2113   POINT (-87.79710 41.92541)  \n",
       "12673  POINT (-87.79710 41.92541)  \n",
       "1584   POINT (-87.79710 41.92541)  \n",
       "1583   POINT (-87.79710 41.92541)  "
      ]
     },
     "execution_count": 160,
     "metadata": {},
     "output_type": "execute_result"
    }
   ],
   "source": [
    "from geopandas import GeoDataFrame\n",
    "from shapely.geometry import Point\n",
    "\n",
    "geometry = [Point(xy) for xy in zip(data2.Longitude, data2.Latitude)]\n",
    "df = data2.drop(['Latitude', 'Longitude'], axis=1)\n",
    "gdf = gpd.GeoDataFrame(data2, crs=\"EPSG:4326\", geometry=geometry)\n",
    "gdf.head()"
   ]
  },
  {
   "cell_type": "code",
   "execution_count": 161,
   "id": "21b10329",
   "metadata": {},
   "outputs": [
    {
     "data": {
      "text/plain": [
       "<AxesSubplot: >"
      ]
     },
     "execution_count": 161,
     "metadata": {},
     "output_type": "execute_result"
    },
    {
     "data": {
      "image/png": "[encoded data removed]",
      "text/plain": [
       "<Figure size 640x480 with 1 Axes>"
      ]
     },
     "metadata": {},
     "output_type": "display_data"
    }
   ],
   "source": [
    "gdf.plot()"
   ]
  },
  {
   "cell_type": "code",
   "execution_count": 162,
   "id": "a91b80ff",
   "metadata": {},
   "outputs": [
    {
     "data": {
      "text/html": [
       "<div>\n",
       "<style scoped>\n",
       "    .dataframe tbody tr th:only-of-type {\n",
       "        vertical-align: middle;\n",
       "    }\n",
       "\n",
       "    .dataframe tbody tr th {\n",
       "        vertical-align: top;\n",
       "    }\n",
       "\n",
       "    .dataframe thead th {\n",
       "        text-align: right;\n",
       "    }\n",
       "</style>\n",
       "<table border=\"1\" class=\"dataframe\">\n",
       "  <thead>\n",
       "    <tr style=\"text-align: right;\">\n",
       "      <th></th>\n",
       "      <th>Month</th>\n",
       "      <th>Day</th>\n",
       "      <th>Hour</th>\n",
       "      <th>District</th>\n",
       "      <th>Crime_Count</th>\n",
       "      <th>Alarm</th>\n",
       "      <th>Latitude</th>\n",
       "      <th>Longitude</th>\n",
       "      <th>geometry</th>\n",
       "    </tr>\n",
       "  </thead>\n",
       "  <tbody>\n",
       "    <tr>\n",
       "      <th>10021</th>\n",
       "      <td>3</td>\n",
       "      <td>4</td>\n",
       "      <td>11</td>\n",
       "      <td>25.0</td>\n",
       "      <td>34</td>\n",
       "      <td>2</td>\n",
       "      <td>41.919320</td>\n",
       "      <td>-87.753264</td>\n",
       "      <td>POINT (-87.75326 41.91932)</td>\n",
       "    </tr>\n",
       "    <tr>\n",
       "      <th>8974</th>\n",
       "      <td>3</td>\n",
       "      <td>2</td>\n",
       "      <td>22</td>\n",
       "      <td>25.0</td>\n",
       "      <td>40</td>\n",
       "      <td>2</td>\n",
       "      <td>41.919320</td>\n",
       "      <td>-87.753264</td>\n",
       "      <td>POINT (-87.75326 41.91932)</td>\n",
       "    </tr>\n",
       "    <tr>\n",
       "      <th>10031</th>\n",
       "      <td>3</td>\n",
       "      <td>4</td>\n",
       "      <td>21</td>\n",
       "      <td>25.0</td>\n",
       "      <td>40</td>\n",
       "      <td>2</td>\n",
       "      <td>41.919320</td>\n",
       "      <td>-87.753264</td>\n",
       "      <td>POINT (-87.75326 41.91932)</td>\n",
       "    </tr>\n",
       "    <tr>\n",
       "      <th>39080</th>\n",
       "      <td>11</td>\n",
       "      <td>3</td>\n",
       "      <td>21</td>\n",
       "      <td>25.0</td>\n",
       "      <td>36</td>\n",
       "      <td>2</td>\n",
       "      <td>41.919320</td>\n",
       "      <td>-87.753264</td>\n",
       "      <td>POINT (-87.75326 41.91932)</td>\n",
       "    </tr>\n",
       "    <tr>\n",
       "      <th>39079</th>\n",
       "      <td>11</td>\n",
       "      <td>3</td>\n",
       "      <td>20</td>\n",
       "      <td>25.0</td>\n",
       "      <td>37</td>\n",
       "      <td>2</td>\n",
       "      <td>41.919320</td>\n",
       "      <td>-87.753264</td>\n",
       "      <td>POINT (-87.75326 41.91932)</td>\n",
       "    </tr>\n",
       "    <tr>\n",
       "      <th>...</th>\n",
       "      <td>...</td>\n",
       "      <td>...</td>\n",
       "      <td>...</td>\n",
       "      <td>...</td>\n",
       "      <td>...</td>\n",
       "      <td>...</td>\n",
       "      <td>...</td>\n",
       "      <td>...</td>\n",
       "      <td>...</td>\n",
       "    </tr>\n",
       "    <tr>\n",
       "      <th>28008</th>\n",
       "      <td>8</td>\n",
       "      <td>4</td>\n",
       "      <td>16</td>\n",
       "      <td>1.0</td>\n",
       "      <td>59</td>\n",
       "      <td>2</td>\n",
       "      <td>41.874845</td>\n",
       "      <td>-87.628835</td>\n",
       "      <td>POINT (-87.62884 41.87484)</td>\n",
       "    </tr>\n",
       "    <tr>\n",
       "      <th>28009</th>\n",
       "      <td>8</td>\n",
       "      <td>4</td>\n",
       "      <td>17</td>\n",
       "      <td>1.0</td>\n",
       "      <td>70</td>\n",
       "      <td>2</td>\n",
       "      <td>41.874845</td>\n",
       "      <td>-87.628835</td>\n",
       "      <td>POINT (-87.62884 41.87484)</td>\n",
       "    </tr>\n",
       "    <tr>\n",
       "      <th>28011</th>\n",
       "      <td>8</td>\n",
       "      <td>4</td>\n",
       "      <td>19</td>\n",
       "      <td>1.0</td>\n",
       "      <td>46</td>\n",
       "      <td>2</td>\n",
       "      <td>41.874845</td>\n",
       "      <td>-87.628835</td>\n",
       "      <td>POINT (-87.62884 41.87484)</td>\n",
       "    </tr>\n",
       "    <tr>\n",
       "      <th>28012</th>\n",
       "      <td>8</td>\n",
       "      <td>4</td>\n",
       "      <td>20</td>\n",
       "      <td>1.0</td>\n",
       "      <td>49</td>\n",
       "      <td>2</td>\n",
       "      <td>41.874845</td>\n",
       "      <td>-87.628835</td>\n",
       "      <td>POINT (-87.62884 41.87484)</td>\n",
       "    </tr>\n",
       "    <tr>\n",
       "      <th>28013</th>\n",
       "      <td>8</td>\n",
       "      <td>4</td>\n",
       "      <td>21</td>\n",
       "      <td>1.0</td>\n",
       "      <td>34</td>\n",
       "      <td>2</td>\n",
       "      <td>41.874845</td>\n",
       "      <td>-87.628835</td>\n",
       "      <td>POINT (-87.62884 41.87484)</td>\n",
       "    </tr>\n",
       "  </tbody>\n",
       "</table>\n",
       "<p>9272 rows × 9 columns</p>\n",
       "</div>"
      ],
      "text/plain": [
       "       Month  Day  Hour  District  Crime_Count  Alarm   Latitude  Longitude  \\\n",
       "10021      3    4    11      25.0           34      2  41.919320 -87.753264   \n",
       "8974       3    2    22      25.0           40      2  41.919320 -87.753264   \n",
       "10031      3    4    21      25.0           40      2  41.919320 -87.753264   \n",
       "39080     11    3    21      25.0           36      2  41.919320 -87.753264   \n",
       "39079     11    3    20      25.0           37      2  41.919320 -87.753264   \n",
       "...      ...  ...   ...       ...          ...    ...        ...        ...   \n",
       "28008      8    4    16       1.0           59      2  41.874845 -87.628835   \n",
       "28009      8    4    17       1.0           70      2  41.874845 -87.628835   \n",
       "28011      8    4    19       1.0           46      2  41.874845 -87.628835   \n",
       "28012      8    4    20       1.0           49      2  41.874845 -87.628835   \n",
       "28013      8    4    21       1.0           34      2  41.874845 -87.628835   \n",
       "\n",
       "                         geometry  \n",
       "10021  POINT (-87.75326 41.91932)  \n",
       "8974   POINT (-87.75326 41.91932)  \n",
       "10031  POINT (-87.75326 41.91932)  \n",
       "39080  POINT (-87.75326 41.91932)  \n",
       "39079  POINT (-87.75326 41.91932)  \n",
       "...                           ...  \n",
       "28008  POINT (-87.62884 41.87484)  \n",
       "28009  POINT (-87.62884 41.87484)  \n",
       "28011  POINT (-87.62884 41.87484)  \n",
       "28012  POINT (-87.62884 41.87484)  \n",
       "28013  POINT (-87.62884 41.87484)  \n",
       "\n",
       "[9272 rows x 9 columns]"
      ]
     },
     "execution_count": 162,
     "metadata": {},
     "output_type": "execute_result"
    }
   ],
   "source": [
    "data2[data2[\"Alarm\"]==2]"
   ]
  },
  {
   "cell_type": "code",
   "execution_count": 163,
   "id": "e6c53ceb",
   "metadata": {},
   "outputs": [
    {
     "name": "stdout",
     "output_type": "stream",
     "text": [
      "       pop_est      continent                      name iso_a3  gdp_md_est  \\\n",
      "0       920938        Oceania                      Fiji    FJI      8374.0   \n",
      "1     53950935         Africa                  Tanzania    TZA    150600.0   \n",
      "2       603253         Africa                 W. Sahara    ESH       906.5   \n",
      "3     35623680  North America                    Canada    CAN   1674000.0   \n",
      "4    326625791  North America  United States of America    USA  18560000.0   \n",
      "..         ...            ...                       ...    ...         ...   \n",
      "172    7111024         Europe                    Serbia    SRB    101800.0   \n",
      "173     642550         Europe                Montenegro    MNE     10610.0   \n",
      "174    1895250         Europe                    Kosovo    -99     18490.0   \n",
      "175    1218208  North America       Trinidad and Tobago    TTO     43570.0   \n",
      "176   13026129         Africa                  S. Sudan    SSD     20880.0   \n",
      "\n",
      "                                              geometry  \n",
      "0    MULTIPOLYGON (((180.00000 -16.06713, 180.00000...  \n",
      "1    POLYGON ((33.90371 -0.95000, 34.07262 -1.05982...  \n",
      "2    POLYGON ((-8.66559 27.65643, -8.66512 27.58948...  \n",
      "3    MULTIPOLYGON (((-122.84000 49.00000, -122.9742...  \n",
      "4    MULTIPOLYGON (((-122.84000 49.00000, -120.0000...  \n",
      "..                                                 ...  \n",
      "172  POLYGON ((18.82982 45.90887, 18.82984 45.90888...  \n",
      "173  POLYGON ((20.07070 42.58863, 19.80161 42.50009...  \n",
      "174  POLYGON ((20.59025 41.85541, 20.52295 42.21787...  \n",
      "175  POLYGON ((-61.68000 10.76000, -61.10500 10.890...  \n",
      "176  POLYGON ((30.83385 3.50917, 29.95350 4.17370, ...  \n",
      "\n",
      "[177 rows x 6 columns]\n"
     ]
    }
   ],
   "source": [
    "world = gpd.read_file(gpd.datasets.get_path(\"naturalearth_lowres\"))\n",
    "print(world)"
   ]
  },
  {
   "cell_type": "code",
   "execution_count": 164,
   "id": "349a1bd8",
   "metadata": {},
   "outputs": [
    {
     "data": {
      "image/png": "[encoded data removed]",
      "text/plain": [
       "<Figure size 640x480 with 1 Axes>"
      ]
     },
     "metadata": {},
     "output_type": "display_data"
    }
   ],
   "source": [
    "base = world.plot(color='white', edgecolor='black')\n",
    "gdf.plot(ax=base, marker='o', color='red');"
   ]
  },
  {
   "cell_type": "code",
   "execution_count": 165,
   "id": "92a09b69",
   "metadata": {},
   "outputs": [],
   "source": [
    "ch=gpd.read_file(r\"C:\\Users\\harsh\\Downloads\\CH\\geo_export_4de20ab1-a453-408e-aa0f-a0a577424d7d.shp\")"
   ]
  },
  {
   "cell_type": "code",
   "execution_count": 166,
   "id": "cdb4e324",
   "metadata": {},
   "outputs": [
    {
     "data": {
      "image/png": "[encoded data removed]",
      "text/plain": [
       "<Figure size 640x480 with 1 Axes>"
      ]
     },
     "metadata": {},
     "output_type": "display_data"
    }
   ],
   "source": [
    "base = ch.plot(color='white', edgecolor='black')\n",
    "gdf.plot(ax=base, marker='o', color='red');"
   ]
  },
  {
   "cell_type": "code",
   "execution_count": 167,
   "id": "a6c3069b",
   "metadata": {},
   "outputs": [
    {
     "data": {
      "text/html": [
       "<div>\n",
       "<style scoped>\n",
       "    .dataframe tbody tr th:only-of-type {\n",
       "        vertical-align: middle;\n",
       "    }\n",
       "\n",
       "    .dataframe tbody tr th {\n",
       "        vertical-align: top;\n",
       "    }\n",
       "\n",
       "    .dataframe thead th {\n",
       "        text-align: right;\n",
       "    }\n",
       "</style>\n",
       "<table border=\"1\" class=\"dataframe\">\n",
       "  <thead>\n",
       "    <tr style=\"text-align: right;\">\n",
       "      <th></th>\n",
       "      <th>Month</th>\n",
       "      <th>Day</th>\n",
       "      <th>Hour</th>\n",
       "      <th>District</th>\n",
       "      <th>Crime_Count</th>\n",
       "      <th>Alarm</th>\n",
       "      <th>Latitude</th>\n",
       "      <th>Longitude</th>\n",
       "      <th>geometry</th>\n",
       "    </tr>\n",
       "  </thead>\n",
       "  <tbody>\n",
       "    <tr>\n",
       "      <th>11475</th>\n",
       "      <td>4</td>\n",
       "      <td>0</td>\n",
       "      <td>2</td>\n",
       "      <td>18.0</td>\n",
       "      <td>72</td>\n",
       "      <td>2</td>\n",
       "      <td>41.901679</td>\n",
       "      <td>-87.633858</td>\n",
       "      <td>POINT (-87.63386 41.90168)</td>\n",
       "    </tr>\n",
       "    <tr>\n",
       "      <th>7776</th>\n",
       "      <td>3</td>\n",
       "      <td>0</td>\n",
       "      <td>0</td>\n",
       "      <td>18.0</td>\n",
       "      <td>73</td>\n",
       "      <td>2</td>\n",
       "      <td>41.901679</td>\n",
       "      <td>-87.633858</td>\n",
       "      <td>POINT (-87.63386 41.90168)</td>\n",
       "    </tr>\n",
       "    <tr>\n",
       "      <th>1986</th>\n",
       "      <td>1</td>\n",
       "      <td>3</td>\n",
       "      <td>17</td>\n",
       "      <td>18.0</td>\n",
       "      <td>73</td>\n",
       "      <td>2</td>\n",
       "      <td>41.901679</td>\n",
       "      <td>-87.633858</td>\n",
       "      <td>POINT (-87.63386 41.90168)</td>\n",
       "    </tr>\n",
       "    <tr>\n",
       "      <th>13988</th>\n",
       "      <td>4</td>\n",
       "      <td>5</td>\n",
       "      <td>19</td>\n",
       "      <td>11.0</td>\n",
       "      <td>79</td>\n",
       "      <td>2</td>\n",
       "      <td>41.881876</td>\n",
       "      <td>-87.719391</td>\n",
       "      <td>POINT (-87.71939 41.88188)</td>\n",
       "    </tr>\n",
       "    <tr>\n",
       "      <th>13987</th>\n",
       "      <td>4</td>\n",
       "      <td>5</td>\n",
       "      <td>18</td>\n",
       "      <td>11.0</td>\n",
       "      <td>84</td>\n",
       "      <td>2</td>\n",
       "      <td>41.881876</td>\n",
       "      <td>-87.719391</td>\n",
       "      <td>POINT (-87.71939 41.88188)</td>\n",
       "    </tr>\n",
       "    <tr>\n",
       "      <th>13981</th>\n",
       "      <td>4</td>\n",
       "      <td>5</td>\n",
       "      <td>12</td>\n",
       "      <td>11.0</td>\n",
       "      <td>71</td>\n",
       "      <td>2</td>\n",
       "      <td>41.881876</td>\n",
       "      <td>-87.719391</td>\n",
       "      <td>POINT (-87.71939 41.88188)</td>\n",
       "    </tr>\n",
       "    <tr>\n",
       "      <th>14516</th>\n",
       "      <td>4</td>\n",
       "      <td>6</td>\n",
       "      <td>19</td>\n",
       "      <td>11.0</td>\n",
       "      <td>75</td>\n",
       "      <td>2</td>\n",
       "      <td>41.881876</td>\n",
       "      <td>-87.719391</td>\n",
       "      <td>POINT (-87.71939 41.88188)</td>\n",
       "    </tr>\n",
       "    <tr>\n",
       "      <th>9765</th>\n",
       "      <td>3</td>\n",
       "      <td>4</td>\n",
       "      <td>19</td>\n",
       "      <td>11.0</td>\n",
       "      <td>85</td>\n",
       "      <td>2</td>\n",
       "      <td>41.881876</td>\n",
       "      <td>-87.719391</td>\n",
       "      <td>POINT (-87.71939 41.88188)</td>\n",
       "    </tr>\n",
       "    <tr>\n",
       "      <th>2373</th>\n",
       "      <td>1</td>\n",
       "      <td>4</td>\n",
       "      <td>19</td>\n",
       "      <td>11.0</td>\n",
       "      <td>73</td>\n",
       "      <td>2</td>\n",
       "      <td>41.881876</td>\n",
       "      <td>-87.719391</td>\n",
       "      <td>POINT (-87.71939 41.88188)</td>\n",
       "    </tr>\n",
       "    <tr>\n",
       "      <th>13460</th>\n",
       "      <td>4</td>\n",
       "      <td>4</td>\n",
       "      <td>19</td>\n",
       "      <td>11.0</td>\n",
       "      <td>74</td>\n",
       "      <td>2</td>\n",
       "      <td>41.881876</td>\n",
       "      <td>-87.719391</td>\n",
       "      <td>POINT (-87.71939 41.88188)</td>\n",
       "    </tr>\n",
       "    <tr>\n",
       "      <th>2892</th>\n",
       "      <td>1</td>\n",
       "      <td>5</td>\n",
       "      <td>10</td>\n",
       "      <td>11.0</td>\n",
       "      <td>76</td>\n",
       "      <td>2</td>\n",
       "      <td>41.881876</td>\n",
       "      <td>-87.719391</td>\n",
       "      <td>POINT (-87.71939 41.88188)</td>\n",
       "    </tr>\n",
       "    <tr>\n",
       "      <th>2901</th>\n",
       "      <td>1</td>\n",
       "      <td>5</td>\n",
       "      <td>19</td>\n",
       "      <td>11.0</td>\n",
       "      <td>91</td>\n",
       "      <td>2</td>\n",
       "      <td>41.881876</td>\n",
       "      <td>-87.719391</td>\n",
       "      <td>POINT (-87.71939 41.88188)</td>\n",
       "    </tr>\n",
       "    <tr>\n",
       "      <th>8179</th>\n",
       "      <td>3</td>\n",
       "      <td>1</td>\n",
       "      <td>19</td>\n",
       "      <td>11.0</td>\n",
       "      <td>75</td>\n",
       "      <td>2</td>\n",
       "      <td>41.881876</td>\n",
       "      <td>-87.719391</td>\n",
       "      <td>POINT (-87.71939 41.88188)</td>\n",
       "    </tr>\n",
       "    <tr>\n",
       "      <th>7651</th>\n",
       "      <td>3</td>\n",
       "      <td>0</td>\n",
       "      <td>19</td>\n",
       "      <td>11.0</td>\n",
       "      <td>93</td>\n",
       "      <td>2</td>\n",
       "      <td>41.881876</td>\n",
       "      <td>-87.719391</td>\n",
       "      <td>POINT (-87.71939 41.88188)</td>\n",
       "    </tr>\n",
       "    <tr>\n",
       "      <th>9236</th>\n",
       "      <td>3</td>\n",
       "      <td>3</td>\n",
       "      <td>19</td>\n",
       "      <td>11.0</td>\n",
       "      <td>76</td>\n",
       "      <td>2</td>\n",
       "      <td>41.881876</td>\n",
       "      <td>-87.719391</td>\n",
       "      <td>POINT (-87.71939 41.88188)</td>\n",
       "    </tr>\n",
       "    <tr>\n",
       "      <th>3430</th>\n",
       "      <td>1</td>\n",
       "      <td>6</td>\n",
       "      <td>19</td>\n",
       "      <td>11.0</td>\n",
       "      <td>79</td>\n",
       "      <td>2</td>\n",
       "      <td>41.881876</td>\n",
       "      <td>-87.719391</td>\n",
       "      <td>POINT (-87.71939 41.88188)</td>\n",
       "    </tr>\n",
       "    <tr>\n",
       "      <th>11867</th>\n",
       "      <td>4</td>\n",
       "      <td>1</td>\n",
       "      <td>10</td>\n",
       "      <td>11.0</td>\n",
       "      <td>76</td>\n",
       "      <td>2</td>\n",
       "      <td>41.881876</td>\n",
       "      <td>-87.719391</td>\n",
       "      <td>POINT (-87.71939 41.88188)</td>\n",
       "    </tr>\n",
       "    <tr>\n",
       "      <th>11348</th>\n",
       "      <td>4</td>\n",
       "      <td>0</td>\n",
       "      <td>19</td>\n",
       "      <td>11.0</td>\n",
       "      <td>75</td>\n",
       "      <td>2</td>\n",
       "      <td>41.881876</td>\n",
       "      <td>-87.719391</td>\n",
       "      <td>POINT (-87.71939 41.88188)</td>\n",
       "    </tr>\n",
       "    <tr>\n",
       "      <th>20844</th>\n",
       "      <td>6</td>\n",
       "      <td>4</td>\n",
       "      <td>10</td>\n",
       "      <td>11.0</td>\n",
       "      <td>73</td>\n",
       "      <td>2</td>\n",
       "      <td>41.881876</td>\n",
       "      <td>-87.719391</td>\n",
       "      <td>POINT (-87.71939 41.88188)</td>\n",
       "    </tr>\n",
       "    <tr>\n",
       "      <th>10293</th>\n",
       "      <td>3</td>\n",
       "      <td>5</td>\n",
       "      <td>19</td>\n",
       "      <td>11.0</td>\n",
       "      <td>92</td>\n",
       "      <td>2</td>\n",
       "      <td>41.881876</td>\n",
       "      <td>-87.719391</td>\n",
       "      <td>POINT (-87.71939 41.88188)</td>\n",
       "    </tr>\n",
       "    <tr>\n",
       "      <th>10294</th>\n",
       "      <td>3</td>\n",
       "      <td>5</td>\n",
       "      <td>20</td>\n",
       "      <td>11.0</td>\n",
       "      <td>79</td>\n",
       "      <td>2</td>\n",
       "      <td>41.881876</td>\n",
       "      <td>-87.719391</td>\n",
       "      <td>POINT (-87.71939 41.88188)</td>\n",
       "    </tr>\n",
       "    <tr>\n",
       "      <th>1314</th>\n",
       "      <td>1</td>\n",
       "      <td>2</td>\n",
       "      <td>19</td>\n",
       "      <td>11.0</td>\n",
       "      <td>88</td>\n",
       "      <td>2</td>\n",
       "      <td>41.881876</td>\n",
       "      <td>-87.719391</td>\n",
       "      <td>POINT (-87.71939 41.88188)</td>\n",
       "    </tr>\n",
       "    <tr>\n",
       "      <th>10819</th>\n",
       "      <td>3</td>\n",
       "      <td>6</td>\n",
       "      <td>18</td>\n",
       "      <td>11.0</td>\n",
       "      <td>80</td>\n",
       "      <td>2</td>\n",
       "      <td>41.881876</td>\n",
       "      <td>-87.719391</td>\n",
       "      <td>POINT (-87.71939 41.88188)</td>\n",
       "    </tr>\n",
       "    <tr>\n",
       "      <th>12404</th>\n",
       "      <td>4</td>\n",
       "      <td>2</td>\n",
       "      <td>19</td>\n",
       "      <td>11.0</td>\n",
       "      <td>77</td>\n",
       "      <td>2</td>\n",
       "      <td>41.881876</td>\n",
       "      <td>-87.719391</td>\n",
       "      <td>POINT (-87.71939 41.88188)</td>\n",
       "    </tr>\n",
       "    <tr>\n",
       "      <th>10286</th>\n",
       "      <td>3</td>\n",
       "      <td>5</td>\n",
       "      <td>12</td>\n",
       "      <td>11.0</td>\n",
       "      <td>78</td>\n",
       "      <td>2</td>\n",
       "      <td>41.881876</td>\n",
       "      <td>-87.719391</td>\n",
       "      <td>POINT (-87.71939 41.88188)</td>\n",
       "    </tr>\n",
       "    <tr>\n",
       "      <th>1844</th>\n",
       "      <td>1</td>\n",
       "      <td>3</td>\n",
       "      <td>19</td>\n",
       "      <td>11.0</td>\n",
       "      <td>75</td>\n",
       "      <td>2</td>\n",
       "      <td>41.881876</td>\n",
       "      <td>-87.719391</td>\n",
       "      <td>POINT (-87.71939 41.88188)</td>\n",
       "    </tr>\n",
       "    <tr>\n",
       "      <th>10822</th>\n",
       "      <td>3</td>\n",
       "      <td>6</td>\n",
       "      <td>21</td>\n",
       "      <td>11.0</td>\n",
       "      <td>73</td>\n",
       "      <td>2</td>\n",
       "      <td>41.881876</td>\n",
       "      <td>-87.719391</td>\n",
       "      <td>POINT (-87.71939 41.88188)</td>\n",
       "    </tr>\n",
       "    <tr>\n",
       "      <th>4935</th>\n",
       "      <td>2</td>\n",
       "      <td>2</td>\n",
       "      <td>12</td>\n",
       "      <td>8.0</td>\n",
       "      <td>72</td>\n",
       "      <td>2</td>\n",
       "      <td>41.777651</td>\n",
       "      <td>-87.715922</td>\n",
       "      <td>POINT (-87.71592 41.77765)</td>\n",
       "    </tr>\n",
       "    <tr>\n",
       "      <th>13741</th>\n",
       "      <td>4</td>\n",
       "      <td>5</td>\n",
       "      <td>12</td>\n",
       "      <td>1.0</td>\n",
       "      <td>79</td>\n",
       "      <td>2</td>\n",
       "      <td>41.874845</td>\n",
       "      <td>-87.628835</td>\n",
       "      <td>POINT (-87.62884 41.87484)</td>\n",
       "    </tr>\n",
       "    <tr>\n",
       "      <th>13213</th>\n",
       "      <td>4</td>\n",
       "      <td>4</td>\n",
       "      <td>12</td>\n",
       "      <td>1.0</td>\n",
       "      <td>83</td>\n",
       "      <td>2</td>\n",
       "      <td>41.874845</td>\n",
       "      <td>-87.628835</td>\n",
       "      <td>POINT (-87.62884 41.87484)</td>\n",
       "    </tr>\n",
       "    <tr>\n",
       "      <th>12686</th>\n",
       "      <td>4</td>\n",
       "      <td>3</td>\n",
       "      <td>12</td>\n",
       "      <td>1.0</td>\n",
       "      <td>71</td>\n",
       "      <td>2</td>\n",
       "      <td>41.874845</td>\n",
       "      <td>-87.628835</td>\n",
       "      <td>POINT (-87.62884 41.87484)</td>\n",
       "    </tr>\n",
       "    <tr>\n",
       "      <th>20079</th>\n",
       "      <td>6</td>\n",
       "      <td>3</td>\n",
       "      <td>13</td>\n",
       "      <td>1.0</td>\n",
       "      <td>73</td>\n",
       "      <td>2</td>\n",
       "      <td>41.874845</td>\n",
       "      <td>-87.628835</td>\n",
       "      <td>POINT (-87.62884 41.87484)</td>\n",
       "    </tr>\n",
       "    <tr>\n",
       "      <th>15853</th>\n",
       "      <td>5</td>\n",
       "      <td>2</td>\n",
       "      <td>12</td>\n",
       "      <td>1.0</td>\n",
       "      <td>77</td>\n",
       "      <td>2</td>\n",
       "      <td>41.874845</td>\n",
       "      <td>-87.628835</td>\n",
       "      <td>POINT (-87.62884 41.87484)</td>\n",
       "    </tr>\n",
       "    <tr>\n",
       "      <th>2654</th>\n",
       "      <td>1</td>\n",
       "      <td>5</td>\n",
       "      <td>12</td>\n",
       "      <td>1.0</td>\n",
       "      <td>72</td>\n",
       "      <td>2</td>\n",
       "      <td>41.874845</td>\n",
       "      <td>-87.628835</td>\n",
       "      <td>POINT (-87.62884 41.87484)</td>\n",
       "    </tr>\n",
       "    <tr>\n",
       "      <th>2655</th>\n",
       "      <td>1</td>\n",
       "      <td>5</td>\n",
       "      <td>13</td>\n",
       "      <td>1.0</td>\n",
       "      <td>73</td>\n",
       "      <td>2</td>\n",
       "      <td>41.874845</td>\n",
       "      <td>-87.628835</td>\n",
       "      <td>POINT (-87.62884 41.87484)</td>\n",
       "    </tr>\n",
       "    <tr>\n",
       "      <th>2659</th>\n",
       "      <td>1</td>\n",
       "      <td>5</td>\n",
       "      <td>17</td>\n",
       "      <td>1.0</td>\n",
       "      <td>74</td>\n",
       "      <td>2</td>\n",
       "      <td>41.874845</td>\n",
       "      <td>-87.628835</td>\n",
       "      <td>POINT (-87.62884 41.87484)</td>\n",
       "    </tr>\n",
       "    <tr>\n",
       "      <th>4767</th>\n",
       "      <td>2</td>\n",
       "      <td>2</td>\n",
       "      <td>12</td>\n",
       "      <td>1.0</td>\n",
       "      <td>73</td>\n",
       "      <td>2</td>\n",
       "      <td>41.874845</td>\n",
       "      <td>-87.628835</td>\n",
       "      <td>POINT (-87.62884 41.87484)</td>\n",
       "    </tr>\n",
       "    <tr>\n",
       "      <th>4768</th>\n",
       "      <td>2</td>\n",
       "      <td>2</td>\n",
       "      <td>13</td>\n",
       "      <td>1.0</td>\n",
       "      <td>74</td>\n",
       "      <td>2</td>\n",
       "      <td>41.874845</td>\n",
       "      <td>-87.628835</td>\n",
       "      <td>POINT (-87.62884 41.87484)</td>\n",
       "    </tr>\n",
       "    <tr>\n",
       "      <th>539</th>\n",
       "      <td>1</td>\n",
       "      <td>1</td>\n",
       "      <td>12</td>\n",
       "      <td>1.0</td>\n",
       "      <td>75</td>\n",
       "      <td>2</td>\n",
       "      <td>41.874845</td>\n",
       "      <td>-87.628835</td>\n",
       "      <td>POINT (-87.62884 41.87484)</td>\n",
       "    </tr>\n",
       "    <tr>\n",
       "      <th>1068</th>\n",
       "      <td>1</td>\n",
       "      <td>2</td>\n",
       "      <td>13</td>\n",
       "      <td>1.0</td>\n",
       "      <td>74</td>\n",
       "      <td>2</td>\n",
       "      <td>41.874845</td>\n",
       "      <td>-87.628835</td>\n",
       "      <td>POINT (-87.62884 41.87484)</td>\n",
       "    </tr>\n",
       "    <tr>\n",
       "      <th>1069</th>\n",
       "      <td>1</td>\n",
       "      <td>2</td>\n",
       "      <td>14</td>\n",
       "      <td>1.0</td>\n",
       "      <td>71</td>\n",
       "      <td>2</td>\n",
       "      <td>41.874845</td>\n",
       "      <td>-87.628835</td>\n",
       "      <td>POINT (-87.62884 41.87484)</td>\n",
       "    </tr>\n",
       "    <tr>\n",
       "      <th>1072</th>\n",
       "      <td>1</td>\n",
       "      <td>2</td>\n",
       "      <td>17</td>\n",
       "      <td>1.0</td>\n",
       "      <td>71</td>\n",
       "      <td>2</td>\n",
       "      <td>41.874845</td>\n",
       "      <td>-87.628835</td>\n",
       "      <td>POINT (-87.62884 41.87484)</td>\n",
       "    </tr>\n",
       "    <tr>\n",
       "      <th>8460</th>\n",
       "      <td>3</td>\n",
       "      <td>2</td>\n",
       "      <td>12</td>\n",
       "      <td>1.0</td>\n",
       "      <td>78</td>\n",
       "      <td>2</td>\n",
       "      <td>41.874845</td>\n",
       "      <td>-87.628835</td>\n",
       "      <td>POINT (-87.62884 41.87484)</td>\n",
       "    </tr>\n",
       "    <tr>\n",
       "      <th>8989</th>\n",
       "      <td>3</td>\n",
       "      <td>3</td>\n",
       "      <td>12</td>\n",
       "      <td>1.0</td>\n",
       "      <td>87</td>\n",
       "      <td>2</td>\n",
       "      <td>41.874845</td>\n",
       "      <td>-87.628835</td>\n",
       "      <td>POINT (-87.62884 41.87484)</td>\n",
       "    </tr>\n",
       "    <tr>\n",
       "      <th>7932</th>\n",
       "      <td>3</td>\n",
       "      <td>1</td>\n",
       "      <td>12</td>\n",
       "      <td>1.0</td>\n",
       "      <td>84</td>\n",
       "      <td>2</td>\n",
       "      <td>41.874845</td>\n",
       "      <td>-87.628835</td>\n",
       "      <td>POINT (-87.62884 41.87484)</td>\n",
       "    </tr>\n",
       "    <tr>\n",
       "      <th>10046</th>\n",
       "      <td>3</td>\n",
       "      <td>5</td>\n",
       "      <td>12</td>\n",
       "      <td>1.0</td>\n",
       "      <td>72</td>\n",
       "      <td>2</td>\n",
       "      <td>41.874845</td>\n",
       "      <td>-87.628835</td>\n",
       "      <td>POINT (-87.62884 41.87484)</td>\n",
       "    </tr>\n",
       "    <tr>\n",
       "      <th>10049</th>\n",
       "      <td>3</td>\n",
       "      <td>5</td>\n",
       "      <td>15</td>\n",
       "      <td>1.0</td>\n",
       "      <td>75</td>\n",
       "      <td>2</td>\n",
       "      <td>41.874845</td>\n",
       "      <td>-87.628835</td>\n",
       "      <td>POINT (-87.62884 41.87484)</td>\n",
       "    </tr>\n",
       "    <tr>\n",
       "      <th>9518</th>\n",
       "      <td>3</td>\n",
       "      <td>4</td>\n",
       "      <td>12</td>\n",
       "      <td>1.0</td>\n",
       "      <td>83</td>\n",
       "      <td>2</td>\n",
       "      <td>41.874845</td>\n",
       "      <td>-87.628835</td>\n",
       "      <td>POINT (-87.62884 41.87484)</td>\n",
       "    </tr>\n",
       "    <tr>\n",
       "      <th>9519</th>\n",
       "      <td>3</td>\n",
       "      <td>4</td>\n",
       "      <td>13</td>\n",
       "      <td>1.0</td>\n",
       "      <td>79</td>\n",
       "      <td>2</td>\n",
       "      <td>41.874845</td>\n",
       "      <td>-87.628835</td>\n",
       "      <td>POINT (-87.62884 41.87484)</td>\n",
       "    </tr>\n",
       "    <tr>\n",
       "      <th>5821</th>\n",
       "      <td>2</td>\n",
       "      <td>4</td>\n",
       "      <td>12</td>\n",
       "      <td>1.0</td>\n",
       "      <td>73</td>\n",
       "      <td>2</td>\n",
       "      <td>41.874845</td>\n",
       "      <td>-87.628835</td>\n",
       "      <td>POINT (-87.62884 41.87484)</td>\n",
       "    </tr>\n",
       "    <tr>\n",
       "      <th>35400</th>\n",
       "      <td>10</td>\n",
       "      <td>4</td>\n",
       "      <td>12</td>\n",
       "      <td>1.0</td>\n",
       "      <td>78</td>\n",
       "      <td>2</td>\n",
       "      <td>41.874845</td>\n",
       "      <td>-87.628835</td>\n",
       "      <td>POINT (-87.62884 41.87484)</td>\n",
       "    </tr>\n",
       "    <tr>\n",
       "      <th>33818</th>\n",
       "      <td>10</td>\n",
       "      <td>1</td>\n",
       "      <td>12</td>\n",
       "      <td>1.0</td>\n",
       "      <td>75</td>\n",
       "      <td>2</td>\n",
       "      <td>41.874845</td>\n",
       "      <td>-87.628835</td>\n",
       "      <td>POINT (-87.62884 41.87484)</td>\n",
       "    </tr>\n",
       "    <tr>\n",
       "      <th>42262</th>\n",
       "      <td>12</td>\n",
       "      <td>3</td>\n",
       "      <td>13</td>\n",
       "      <td>1.0</td>\n",
       "      <td>72</td>\n",
       "      <td>2</td>\n",
       "      <td>41.874845</td>\n",
       "      <td>-87.628835</td>\n",
       "      <td>POINT (-87.62884 41.87484)</td>\n",
       "    </tr>\n",
       "    <tr>\n",
       "      <th>38042</th>\n",
       "      <td>11</td>\n",
       "      <td>2</td>\n",
       "      <td>14</td>\n",
       "      <td>1.0</td>\n",
       "      <td>72</td>\n",
       "      <td>2</td>\n",
       "      <td>41.874845</td>\n",
       "      <td>-87.628835</td>\n",
       "      <td>POINT (-87.62884 41.87484)</td>\n",
       "    </tr>\n",
       "    <tr>\n",
       "      <th>39623</th>\n",
       "      <td>11</td>\n",
       "      <td>5</td>\n",
       "      <td>12</td>\n",
       "      <td>1.0</td>\n",
       "      <td>84</td>\n",
       "      <td>2</td>\n",
       "      <td>41.874845</td>\n",
       "      <td>-87.628835</td>\n",
       "      <td>POINT (-87.62884 41.87484)</td>\n",
       "    </tr>\n",
       "    <tr>\n",
       "      <th>39627</th>\n",
       "      <td>11</td>\n",
       "      <td>5</td>\n",
       "      <td>16</td>\n",
       "      <td>1.0</td>\n",
       "      <td>72</td>\n",
       "      <td>2</td>\n",
       "      <td>41.874845</td>\n",
       "      <td>-87.628835</td>\n",
       "      <td>POINT (-87.62884 41.87484)</td>\n",
       "    </tr>\n",
       "    <tr>\n",
       "      <th>24836</th>\n",
       "      <td>7</td>\n",
       "      <td>5</td>\n",
       "      <td>13</td>\n",
       "      <td>1.0</td>\n",
       "      <td>71</td>\n",
       "      <td>2</td>\n",
       "      <td>41.874845</td>\n",
       "      <td>-87.628835</td>\n",
       "      <td>POINT (-87.62884 41.87484)</td>\n",
       "    </tr>\n",
       "    <tr>\n",
       "      <th>29069</th>\n",
       "      <td>8</td>\n",
       "      <td>6</td>\n",
       "      <td>20</td>\n",
       "      <td>1.0</td>\n",
       "      <td>71</td>\n",
       "      <td>2</td>\n",
       "      <td>41.874845</td>\n",
       "      <td>-87.628835</td>\n",
       "      <td>POINT (-87.62884 41.87484)</td>\n",
       "    </tr>\n",
       "    <tr>\n",
       "      <th>27476</th>\n",
       "      <td>8</td>\n",
       "      <td>3</td>\n",
       "      <td>12</td>\n",
       "      <td>1.0</td>\n",
       "      <td>76</td>\n",
       "      <td>2</td>\n",
       "      <td>41.874845</td>\n",
       "      <td>-87.628835</td>\n",
       "      <td>POINT (-87.62884 41.87484)</td>\n",
       "    </tr>\n",
       "  </tbody>\n",
       "</table>\n",
       "</div>"
      ],
      "text/plain": [
       "       Month  Day  Hour  District  Crime_Count  Alarm   Latitude  Longitude  \\\n",
       "11475      4    0     2      18.0           72      2  41.901679 -87.633858   \n",
       "7776       3    0     0      18.0           73      2  41.901679 -87.633858   \n",
       "1986       1    3    17      18.0           73      2  41.901679 -87.633858   \n",
       "13988      4    5    19      11.0           79      2  41.881876 -87.719391   \n",
       "13987      4    5    18      11.0           84      2  41.881876 -87.719391   \n",
       "13981      4    5    12      11.0           71      2  41.881876 -87.719391   \n",
       "14516      4    6    19      11.0           75      2  41.881876 -87.719391   \n",
       "9765       3    4    19      11.0           85      2  41.881876 -87.719391   \n",
       "2373       1    4    19      11.0           73      2  41.881876 -87.719391   \n",
       "13460      4    4    19      11.0           74      2  41.881876 -87.719391   \n",
       "2892       1    5    10      11.0           76      2  41.881876 -87.719391   \n",
       "2901       1    5    19      11.0           91      2  41.881876 -87.719391   \n",
       "8179       3    1    19      11.0           75      2  41.881876 -87.719391   \n",
       "7651       3    0    19      11.0           93      2  41.881876 -87.719391   \n",
       "9236       3    3    19      11.0           76      2  41.881876 -87.719391   \n",
       "3430       1    6    19      11.0           79      2  41.881876 -87.719391   \n",
       "11867      4    1    10      11.0           76      2  41.881876 -87.719391   \n",
       "11348      4    0    19      11.0           75      2  41.881876 -87.719391   \n",
       "20844      6    4    10      11.0           73      2  41.881876 -87.719391   \n",
       "10293      3    5    19      11.0           92      2  41.881876 -87.719391   \n",
       "10294      3    5    20      11.0           79      2  41.881876 -87.719391   \n",
       "1314       1    2    19      11.0           88      2  41.881876 -87.719391   \n",
       "10819      3    6    18      11.0           80      2  41.881876 -87.719391   \n",
       "12404      4    2    19      11.0           77      2  41.881876 -87.719391   \n",
       "10286      3    5    12      11.0           78      2  41.881876 -87.719391   \n",
       "1844       1    3    19      11.0           75      2  41.881876 -87.719391   \n",
       "10822      3    6    21      11.0           73      2  41.881876 -87.719391   \n",
       "4935       2    2    12       8.0           72      2  41.777651 -87.715922   \n",
       "13741      4    5    12       1.0           79      2  41.874845 -87.628835   \n",
       "13213      4    4    12       1.0           83      2  41.874845 -87.628835   \n",
       "12686      4    3    12       1.0           71      2  41.874845 -87.628835   \n",
       "20079      6    3    13       1.0           73      2  41.874845 -87.628835   \n",
       "15853      5    2    12       1.0           77      2  41.874845 -87.628835   \n",
       "2654       1    5    12       1.0           72      2  41.874845 -87.628835   \n",
       "2655       1    5    13       1.0           73      2  41.874845 -87.628835   \n",
       "2659       1    5    17       1.0           74      2  41.874845 -87.628835   \n",
       "4767       2    2    12       1.0           73      2  41.874845 -87.628835   \n",
       "4768       2    2    13       1.0           74      2  41.874845 -87.628835   \n",
       "539        1    1    12       1.0           75      2  41.874845 -87.628835   \n",
       "1068       1    2    13       1.0           74      2  41.874845 -87.628835   \n",
       "1069       1    2    14       1.0           71      2  41.874845 -87.628835   \n",
       "1072       1    2    17       1.0           71      2  41.874845 -87.628835   \n",
       "8460       3    2    12       1.0           78      2  41.874845 -87.628835   \n",
       "8989       3    3    12       1.0           87      2  41.874845 -87.628835   \n",
       "7932       3    1    12       1.0           84      2  41.874845 -87.628835   \n",
       "10046      3    5    12       1.0           72      2  41.874845 -87.628835   \n",
       "10049      3    5    15       1.0           75      2  41.874845 -87.628835   \n",
       "9518       3    4    12       1.0           83      2  41.874845 -87.628835   \n",
       "9519       3    4    13       1.0           79      2  41.874845 -87.628835   \n",
       "5821       2    4    12       1.0           73      2  41.874845 -87.628835   \n",
       "35400     10    4    12       1.0           78      2  41.874845 -87.628835   \n",
       "33818     10    1    12       1.0           75      2  41.874845 -87.628835   \n",
       "42262     12    3    13       1.0           72      2  41.874845 -87.628835   \n",
       "38042     11    2    14       1.0           72      2  41.874845 -87.628835   \n",
       "39623     11    5    12       1.0           84      2  41.874845 -87.628835   \n",
       "39627     11    5    16       1.0           72      2  41.874845 -87.628835   \n",
       "24836      7    5    13       1.0           71      2  41.874845 -87.628835   \n",
       "29069      8    6    20       1.0           71      2  41.874845 -87.628835   \n",
       "27476      8    3    12       1.0           76      2  41.874845 -87.628835   \n",
       "\n",
       "                         geometry  \n",
       "11475  POINT (-87.63386 41.90168)  \n",
       "7776   POINT (-87.63386 41.90168)  \n",
       "1986   POINT (-87.63386 41.90168)  \n",
       "13988  POINT (-87.71939 41.88188)  \n",
       "13987  POINT (-87.71939 41.88188)  \n",
       "13981  POINT (-87.71939 41.88188)  \n",
       "14516  POINT (-87.71939 41.88188)  \n",
       "9765   POINT (-87.71939 41.88188)  \n",
       "2373   POINT (-87.71939 41.88188)  \n",
       "13460  POINT (-87.71939 41.88188)  \n",
       "2892   POINT (-87.71939 41.88188)  \n",
       "2901   POINT (-87.71939 41.88188)  \n",
       "8179   POINT (-87.71939 41.88188)  \n",
       "7651   POINT (-87.71939 41.88188)  \n",
       "9236   POINT (-87.71939 41.88188)  \n",
       "3430   POINT (-87.71939 41.88188)  \n",
       "11867  POINT (-87.71939 41.88188)  \n",
       "11348  POINT (-87.71939 41.88188)  \n",
       "20844  POINT (-87.71939 41.88188)  \n",
       "10293  POINT (-87.71939 41.88188)  \n",
       "10294  POINT (-87.71939 41.88188)  \n",
       "1314   POINT (-87.71939 41.88188)  \n",
       "10819  POINT (-87.71939 41.88188)  \n",
       "12404  POINT (-87.71939 41.88188)  \n",
       "10286  POINT (-87.71939 41.88188)  \n",
       "1844   POINT (-87.71939 41.88188)  \n",
       "10822  POINT (-87.71939 41.88188)  \n",
       "4935   POINT (-87.71592 41.77765)  \n",
       "13741  POINT (-87.62884 41.87484)  \n",
       "13213  POINT (-87.62884 41.87484)  \n",
       "12686  POINT (-87.62884 41.87484)  \n",
       "20079  POINT (-87.62884 41.87484)  \n",
       "15853  POINT (-87.62884 41.87484)  \n",
       "2654   POINT (-87.62884 41.87484)  \n",
       "2655   POINT (-87.62884 41.87484)  \n",
       "2659   POINT (-87.62884 41.87484)  \n",
       "4767   POINT (-87.62884 41.87484)  \n",
       "4768   POINT (-87.62884 41.87484)  \n",
       "539    POINT (-87.62884 41.87484)  \n",
       "1068   POINT (-87.62884 41.87484)  \n",
       "1069   POINT (-87.62884 41.87484)  \n",
       "1072   POINT (-87.62884 41.87484)  \n",
       "8460   POINT (-87.62884 41.87484)  \n",
       "8989   POINT (-87.62884 41.87484)  \n",
       "7932   POINT (-87.62884 41.87484)  \n",
       "10046  POINT (-87.62884 41.87484)  \n",
       "10049  POINT (-87.62884 41.87484)  \n",
       "9518   POINT (-87.62884 41.87484)  \n",
       "9519   POINT (-87.62884 41.87484)  \n",
       "5821   POINT (-87.62884 41.87484)  \n",
       "35400  POINT (-87.62884 41.87484)  \n",
       "33818  POINT (-87.62884 41.87484)  \n",
       "42262  POINT (-87.62884 41.87484)  \n",
       "38042  POINT (-87.62884 41.87484)  \n",
       "39623  POINT (-87.62884 41.87484)  \n",
       "39627  POINT (-87.62884 41.87484)  \n",
       "24836  POINT (-87.62884 41.87484)  \n",
       "29069  POINT (-87.62884 41.87484)  \n",
       "27476  POINT (-87.62884 41.87484)  "
      ]
     },
     "execution_count": 167,
     "metadata": {},
     "output_type": "execute_result"
    }
   ],
   "source": [
    "gdf_very_high_CR=gdf[gdf[\"Crime_Count\"]>70]\n",
    "gdf_very_high_CR"
   ]
  },
  {
   "cell_type": "code",
   "execution_count": 168,
   "id": "5b72b3b8",
   "metadata": {},
   "outputs": [
    {
     "data": {
      "text/plain": [
       "<AxesSubplot: >"
      ]
     },
     "execution_count": 168,
     "metadata": {},
     "output_type": "execute_result"
    },
    {
     "data": {
      "image/png": "[encoded data removed]",
      "text/plain": [
       "<Figure size 640x480 with 1 Axes>"
      ]
     },
     "metadata": {},
     "output_type": "display_data"
    }
   ],
   "source": [
    "base = ch.plot(color='white', edgecolor='black')\n",
    "gdf_very_high_CR.plot(ax=base, marker='o', color='red')"
   ]
  },
  {
   "cell_type": "code",
   "execution_count": null,
   "id": "86d8e83f",
   "metadata": {},
   "outputs": [],
   "source": []
  },
  {
   "cell_type": "code",
   "execution_count": null,
   "id": "f086a6a9",
   "metadata": {},
   "outputs": [],
   "source": []
  },
  {
   "cell_type": "code",
   "execution_count": null,
   "id": "2fa4d398",
   "metadata": {},
   "outputs": [],
   "source": []
  },
  {
   "cell_type": "code",
   "execution_count": null,
   "id": "290dbf10",
   "metadata": {},
   "outputs": [],
   "source": []
  }
 ],
 "metadata": {
  "kernelspec": {
   "display_name": "Python 3 (ipykernel)",
   "language": "python",
   "name": "python3"
  },
  "language_info": {
   "codemirror_mode": {
    "name": "ipython",
    "version": 3
   },
   "file_extension": ".py",
   "mimetype": "text/x-python",
   "name": "python",
   "nbconvert_exporter": "python",
   "pygments_lexer": "ipython3",
   "version": "3.9.13"
  }
 },
 "nbformat": 4,
 "nbformat_minor": 5
}
